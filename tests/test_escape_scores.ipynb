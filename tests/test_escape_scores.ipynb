{
 "cells": [
  {
   "cell_type": "code",
   "execution_count": 6,
   "metadata": {},
   "outputs": [
    {
     "name": "stdout",
     "output_type": "stream",
     "text": [
      "0.004481665912177456 0.004481665912177454\n"
     ]
    }
   ],
   "source": [
    "def new_meth():\n",
    "    B = 1 - F * (n_post / N_post) / (n_pre / N_pre)\n",
    "    sigma = (F * N_pre / (N_post * B))**2 * (n_post**2 / n_pre**3 + n_post / n_pre**2)\n",
    "    return sigma\n",
    "\n",
    "def old_meth():\n",
    "    sigma = ((N_post / (n_pre * N_post - F * n_post * N_pre) - 1 / n_pre)**2 * n_pre +\n",
    "             (F * N_pre / (n_pre * N_post - F * n_post * N_pre))**2 * n_post)\n",
    "    return sigma\n",
    "    \n",
    "n_pre = 10\n",
    "n_post = 1\n",
    "N_pre = 100\n",
    "N_post = 50\n",
    "F = 0.3\n",
    "\n",
    "print(new_meth(), old_meth())"
   ]
  },
  {
   "cell_type": "code",
   "execution_count": null,
   "metadata": {},
   "outputs": [],
   "source": []
  }
 ],
 "metadata": {
  "kernelspec": {
   "display_name": "Python 3",
   "language": "python",
   "name": "python3"
  },
  "language_info": {
   "codemirror_mode": {
    "name": "ipython",
    "version": 3
   },
   "file_extension": ".py",
   "mimetype": "text/x-python",
   "name": "python",
   "nbconvert_exporter": "python",
   "pygments_lexer": "ipython3",
   "version": "3.6.7"
  }
 },
 "nbformat": 4,
 "nbformat_minor": 4
}
