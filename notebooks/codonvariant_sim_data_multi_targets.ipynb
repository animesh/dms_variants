{
 "cells": [
  {
   "cell_type": "markdown",
   "metadata": {},
   "source": [
    "# Libraries with secondary target genes\n",
    "A [CodonVariantTable](https://jbloomlab.github.io/dms_variants/dms_variants.codonvarianttable.html#dms_variants.codonvarianttable.CodonVariantTable) is designed to handle mutations to a specific target gene.\n",
    "But in some cases, you might also want to include specific targets that are **not** point mutants of this primary target gene, but rather are entirely different genes that are spiked into the library as a control or for comparison.\n",
    "Because these secondary targets might not be closely related to the primary target gene, we do not want to define them simply by their mutations relative to the primary target.\n",
    "Rather, we handle them as different targets by adding a \"targets\" column in the data.\n",
    "\n",
    "This notebook illustrates how to do this.\n",
    "\n",
    "## Setup for analysis\n",
    "\n",
    "Import Python modules / packages:"
   ]
  },
  {
   "cell_type": "code",
   "execution_count": 1,
   "metadata": {
    "attributes": {
     "classes": [],
     "id": "",
     "n": "1"
    }
   },
   "outputs": [],
   "source": [
    "import itertools\n",
    "import random\n",
    "import tempfile\n",
    "import warnings\n",
    "\n",
    "import pandas as pd\n",
    "\n",
    "from plotnine import *\n",
    "\n",
    "import scipy\n",
    "\n",
    "import dms_variants.codonvarianttable\n",
    "import dms_variants.plotnine_themes\n",
    "import dms_variants.simulate\n",
    "from dms_variants.constants import CBPALETTE, CODONS_NOSTOP"
   ]
  },
  {
   "cell_type": "markdown",
   "metadata": {},
   "source": [
    "Set parameters that define the simulated data for the primary target gene.\n",
    "Except for that fact that we use a short gene to reduce the computational run-time of this notebook, these simulation parameters are designed to reflect what we might observe in a real Bloom lab deep mutational scanning experiment:"
   ]
  },
  {
   "cell_type": "code",
   "execution_count": 2,
   "metadata": {
    "attributes": {
     "classes": [],
     "id": "",
     "n": "2"
    }
   },
   "outputs": [],
   "source": [
    "primary_target = 'primary_target_gene'\n",
    "seed = 1  # random number seed\n",
    "genelength = 30  # gene length in codons\n",
    "libs = ['lib_1', 'lib_2']  # distinct libraries of gene\n",
    "variants_per_lib = 500 * genelength  # variants per library\n",
    "avgmuts = 2.0  # average codon mutations per variant\n",
    "bclen = 16  # length of nucleotide barcode for each variant\n",
    "variant_error_rate = 0.005  # rate at which variant sequence mis-called\n",
    "avgdepth_per_variant = 200  # average per-variant sequencing depth\n",
    "lib_uniformity = 5  # uniformity of library pre-selection\n",
    "noise = 0.02  # random noise in selections\n",
    "bottlenecks = {  # bottlenecks from pre- to post-selection\n",
    "        'tight_bottle': variants_per_lib * 5,\n",
    "        'loose_bottle': variants_per_lib * 100,\n",
    "        }"
   ]
  },
  {
   "cell_type": "markdown",
   "metadata": {},
   "source": [
    "We also define some secondary targets:"
   ]
  },
  {
   "cell_type": "code",
   "execution_count": 3,
   "metadata": {},
   "outputs": [],
   "source": [
    "secondary_targets = [f\"secondary_target_{i}\" for i in range(1, 4)]"
   ]
  },
  {
   "cell_type": "markdown",
   "metadata": {},
   "source": [
    "Seed random number generator for reproducible output:"
   ]
  },
  {
   "cell_type": "code",
   "execution_count": 4,
   "metadata": {
    "attributes": {
     "classes": [],
     "id": "",
     "n": "3"
    }
   },
   "outputs": [],
   "source": [
    "random.seed(seed)"
   ]
  },
  {
   "cell_type": "markdown",
   "metadata": {},
   "source": [
    "Set pandas display options to show large chunks of Data Frames in this\n",
    "example:"
   ]
  },
  {
   "cell_type": "code",
   "execution_count": 5,
   "metadata": {
    "attributes": {
     "classes": [],
     "id": "",
     "n": "4"
    }
   },
   "outputs": [],
   "source": [
    "pd.set_option('display.max_columns', 20)\n",
    "pd.set_option('display.width', 500)"
   ]
  },
  {
   "cell_type": "markdown",
   "metadata": {},
   "source": [
    "Hide warnings that clutter output:"
   ]
  },
  {
   "cell_type": "code",
   "execution_count": 6,
   "metadata": {
    "attributes": {
     "classes": [],
     "id": "",
     "n": "5"
    }
   },
   "outputs": [],
   "source": [
    "warnings.simplefilter('ignore')"
   ]
  },
  {
   "cell_type": "markdown",
   "metadata": {},
   "source": [
    "Set the gray grid [plotnine theme](https://plotnine.readthedocs.io/en/stable/generated/plotnine.themes.theme.html?highlight=themes) defined in [dms_variants.plotnine_themes](https://jbloomlab.github.io/dms_variants/dms_variants.plotnine_themes.html) as this gives a nice appearance for the plots:"
   ]
  },
  {
   "cell_type": "code",
   "execution_count": 7,
   "metadata": {},
   "outputs": [],
   "source": [
    "theme_set(dms_variants.plotnine_themes.theme_graygrid())"
   ]
  },
  {
   "cell_type": "markdown",
   "metadata": {},
   "source": [
    "## Simulate library with primary and secondary variants\n",
    "Simulate wildtype gene sequence:"
   ]
  },
  {
   "cell_type": "code",
   "execution_count": 8,
   "metadata": {
    "attributes": {
     "classes": [],
     "id": "",
     "n": "6"
    }
   },
   "outputs": [
    {
     "name": "stdout",
     "output_type": "stream",
     "text": [
      "Wildtype gene of 30 codons:\n",
      "AGATCCGTGATTCTGCGTGCTTACACCAACTCACGGGTGAAACGTGTAATCTTATGCAACAACGACTTACCTATCCGCAACATCCGGCTG\n"
     ]
    }
   ],
   "source": [
    "geneseq = ''.join(random.choices(CODONS_NOSTOP, k=genelength))\n",
    "print(f\"Wildtype gene of {genelength} codons:\\n{geneseq}\")"
   ]
  },
  {
   "cell_type": "markdown",
   "metadata": {},
   "source": [
    "Generate a\n",
    "[CodonVariantTable](https://jbloomlab.github.io/dms_variants/dms_variants.codonvarianttable.html#dms_variants.codonvarianttable.CodonVariantTable)\n",
    "using\n",
    "[simulate_CodonVariantTable](https://jbloomlab.github.io/dms_variants/dms_variants.simulate.html#dms_variants.simulate.simulate_CodonVariantTable)\n",
    "function, then get the barcode-variant data frame for it.\n",
    "This data frame gives the variants for the **primary** target:"
   ]
  },
  {
   "cell_type": "code",
   "execution_count": 9,
   "metadata": {
    "attributes": {
     "classes": [],
     "id": "",
     "n": "7"
    }
   },
   "outputs": [
    {
     "data": {
      "text/html": [
       "<div>\n",
       "<style scoped>\n",
       "    .dataframe tbody tr th:only-of-type {\n",
       "        vertical-align: middle;\n",
       "    }\n",
       "\n",
       "    .dataframe tbody tr th {\n",
       "        vertical-align: top;\n",
       "    }\n",
       "\n",
       "    .dataframe thead th {\n",
       "        text-align: right;\n",
       "    }\n",
       "</style>\n",
       "<table border=\"1\" class=\"dataframe\">\n",
       "  <thead>\n",
       "    <tr style=\"text-align: right;\">\n",
       "      <th></th>\n",
       "      <th>library</th>\n",
       "      <th>barcode</th>\n",
       "      <th>variant_call_support</th>\n",
       "      <th>codon_substitutions</th>\n",
       "      <th>aa_substitutions</th>\n",
       "      <th>n_codon_substitutions</th>\n",
       "      <th>n_aa_substitutions</th>\n",
       "    </tr>\n",
       "  </thead>\n",
       "  <tbody>\n",
       "    <tr>\n",
       "      <th>0</th>\n",
       "      <td>lib_1</td>\n",
       "      <td>AAAAAAAACGTTTTGT</td>\n",
       "      <td>1</td>\n",
       "      <td>CTG5TGG TCA11TCT</td>\n",
       "      <td>L5W</td>\n",
       "      <td>2</td>\n",
       "      <td>1</td>\n",
       "    </tr>\n",
       "    <tr>\n",
       "      <th>1</th>\n",
       "      <td>lib_1</td>\n",
       "      <td>AAAAAAAGGCTTATAC</td>\n",
       "      <td>5</td>\n",
       "      <td>TCA11TGC</td>\n",
       "      <td>S11C</td>\n",
       "      <td>1</td>\n",
       "      <td>1</td>\n",
       "    </tr>\n",
       "    <tr>\n",
       "      <th>2</th>\n",
       "      <td>lib_1</td>\n",
       "      <td>AAAAAAATCGTCCGTG</td>\n",
       "      <td>2</td>\n",
       "      <td></td>\n",
       "      <td></td>\n",
       "      <td>0</td>\n",
       "      <td>0</td>\n",
       "    </tr>\n",
       "    <tr>\n",
       "      <th>3</th>\n",
       "      <td>lib_1</td>\n",
       "      <td>AAAAAAGACAACACCG</td>\n",
       "      <td>5</td>\n",
       "      <td>ATC25TTC</td>\n",
       "      <td>I25F</td>\n",
       "      <td>1</td>\n",
       "      <td>1</td>\n",
       "    </tr>\n",
       "    <tr>\n",
       "      <th>4</th>\n",
       "      <td>lib_1</td>\n",
       "      <td>AAAAAAGATGTGGTGG</td>\n",
       "      <td>3</td>\n",
       "      <td>TCA11TTA CGG12GGT CGT15TGA ATC25GGA ATC28CGC</td>\n",
       "      <td>S11L R12G R15* I25G I28R</td>\n",
       "      <td>5</td>\n",
       "      <td>5</td>\n",
       "    </tr>\n",
       "  </tbody>\n",
       "</table>\n",
       "</div>"
      ],
      "text/plain": [
       "  library           barcode  variant_call_support                           codon_substitutions          aa_substitutions  n_codon_substitutions  n_aa_substitutions\n",
       "0   lib_1  AAAAAAAACGTTTTGT                     1                              CTG5TGG TCA11TCT                       L5W                      2                   1\n",
       "1   lib_1  AAAAAAAGGCTTATAC                     5                                      TCA11TGC                      S11C                      1                   1\n",
       "2   lib_1  AAAAAAATCGTCCGTG                     2                                                                                              0                   0\n",
       "3   lib_1  AAAAAAGACAACACCG                     5                                      ATC25TTC                      I25F                      1                   1\n",
       "4   lib_1  AAAAAAGATGTGGTGG                     3  TCA11TTA CGG12GGT CGT15TGA ATC25GGA ATC28CGC  S11L R12G R15* I25G I28R                      5                   5"
      ]
     },
     "execution_count": 9,
     "metadata": {},
     "output_type": "execute_result"
    }
   ],
   "source": [
    "primary_bc_variant_df = dms_variants.simulate.simulate_CodonVariantTable(\n",
    "                        geneseq=geneseq,\n",
    "                        bclen=bclen,\n",
    "                        library_specs={lib: {'avgmuts': avgmuts,\n",
    "                                             'nvariants': variants_per_lib}\n",
    "                                       for lib in libs},\n",
    "                        seed=seed,\n",
    "                        ).barcode_variant_df\n",
    "\n",
    "primary_bc_variant_df.head()"
   ]
  },
  {
   "cell_type": "markdown",
   "metadata": {},
   "source": [
    "This data frame gives variants for the primary target, so add a column specifying that fact:"
   ]
  },
  {
   "cell_type": "code",
   "execution_count": 10,
   "metadata": {},
   "outputs": [],
   "source": [
    "primary_bc_variant_df = primary_bc_variant_df.assign(target=primary_target)"
   ]
  },
  {
   "cell_type": "markdown",
   "metadata": {},
   "source": [
    "Now add some barcodes for each secondary targets.\n",
    "We simulate barcodes for each secondary target and each library.\n",
    "Note that the secondary targets are defined genes, so we don't add any information on substitutions for these:"
   ]
  },
  {
   "cell_type": "code",
   "execution_count": 11,
   "metadata": {},
   "outputs": [
    {
     "data": {
      "text/html": [
       "<div>\n",
       "<style scoped>\n",
       "    .dataframe tbody tr th:only-of-type {\n",
       "        vertical-align: middle;\n",
       "    }\n",
       "\n",
       "    .dataframe tbody tr th {\n",
       "        vertical-align: top;\n",
       "    }\n",
       "\n",
       "    .dataframe thead th {\n",
       "        text-align: right;\n",
       "    }\n",
       "</style>\n",
       "<table border=\"1\" class=\"dataframe\">\n",
       "  <thead>\n",
       "    <tr style=\"text-align: right;\">\n",
       "      <th></th>\n",
       "      <th>target</th>\n",
       "      <th>barcode</th>\n",
       "      <th>library</th>\n",
       "      <th>variant_call_support</th>\n",
       "    </tr>\n",
       "  </thead>\n",
       "  <tbody>\n",
       "    <tr>\n",
       "      <th>0</th>\n",
       "      <td>secondary_target_1</td>\n",
       "      <td>TCCTGTACGATATCCC</td>\n",
       "      <td>lib_1</td>\n",
       "      <td>10</td>\n",
       "    </tr>\n",
       "    <tr>\n",
       "      <th>1</th>\n",
       "      <td>secondary_target_1</td>\n",
       "      <td>GGGTGTGGCGTTTCCT</td>\n",
       "      <td>lib_1</td>\n",
       "      <td>10</td>\n",
       "    </tr>\n",
       "    <tr>\n",
       "      <th>2</th>\n",
       "      <td>secondary_target_1</td>\n",
       "      <td>TAGCCTCTATTGCCTT</td>\n",
       "      <td>lib_1</td>\n",
       "      <td>10</td>\n",
       "    </tr>\n",
       "    <tr>\n",
       "      <th>3</th>\n",
       "      <td>secondary_target_1</td>\n",
       "      <td>CGGAGACGTCACGGCG</td>\n",
       "      <td>lib_1</td>\n",
       "      <td>10</td>\n",
       "    </tr>\n",
       "    <tr>\n",
       "      <th>4</th>\n",
       "      <td>secondary_target_1</td>\n",
       "      <td>GGGGACAATTATCCCT</td>\n",
       "      <td>lib_1</td>\n",
       "      <td>10</td>\n",
       "    </tr>\n",
       "  </tbody>\n",
       "</table>\n",
       "</div>"
      ],
      "text/plain": [
       "               target           barcode library  variant_call_support\n",
       "0  secondary_target_1  TCCTGTACGATATCCC   lib_1                    10\n",
       "1  secondary_target_1  GGGTGTGGCGTTTCCT   lib_1                    10\n",
       "2  secondary_target_1  TAGCCTCTATTGCCTT   lib_1                    10\n",
       "3  secondary_target_1  CGGAGACGTCACGGCG   lib_1                    10\n",
       "4  secondary_target_1  GGGGACAATTATCCCT   lib_1                    10"
      ]
     },
     "execution_count": 11,
     "metadata": {},
     "output_type": "execute_result"
    }
   ],
   "source": [
    "existing_barcodes = set(primary_bc_variant_df['barcode'])\n",
    "\n",
    "secondary_bc_variant_df = []\n",
    "for lib, secondary_target in itertools.product(libs, secondary_targets):\n",
    "    secondary_target_barcodes = dms_variants.simulate.rand_seq(\n",
    "                                                seqlen=bclen,\n",
    "                                                exclude=existing_barcodes,\n",
    "                                                nseqs=random.randint(50, 100),\n",
    "                                                )\n",
    "    existing_barcodes = existing_barcodes.union(secondary_target_barcodes)\n",
    "    secondary_bc_variant_df.append(pd.DataFrame({'target': secondary_target,\n",
    "                                                 'barcode': secondary_target_barcodes,\n",
    "                                                 'library': lib,\n",
    "                                                 'variant_call_support': 10}))\n",
    "        \n",
    "secondary_bc_variant_df = pd.concat(secondary_bc_variant_df, ignore_index=True)\n",
    "\n",
    "secondary_bc_variant_df.head()"
   ]
  },
  {
   "cell_type": "markdown",
   "metadata": {},
   "source": [
    "Concatenate the data frame for the primary target (which has mutants) with that for the secondary targets.\n",
    "Because there are no mutations for the secondary targets, fill that information is as empty strings (for substitution columns) or 0 (for number of mutations).\n",
    "This data frame below ends the simulation of the library, and represents the type of information you would typically have at the outset of an experiment:"
   ]
  },
  {
   "cell_type": "code",
   "execution_count": 12,
   "metadata": {},
   "outputs": [
    {
     "data": {
      "text/html": [
       "<div>\n",
       "<style scoped>\n",
       "    .dataframe tbody tr th:only-of-type {\n",
       "        vertical-align: middle;\n",
       "    }\n",
       "\n",
       "    .dataframe tbody tr th {\n",
       "        vertical-align: top;\n",
       "    }\n",
       "\n",
       "    .dataframe thead th {\n",
       "        text-align: right;\n",
       "    }\n",
       "</style>\n",
       "<table border=\"1\" class=\"dataframe\">\n",
       "  <thead>\n",
       "    <tr style=\"text-align: right;\">\n",
       "      <th></th>\n",
       "      <th>library</th>\n",
       "      <th>barcode</th>\n",
       "      <th>variant_call_support</th>\n",
       "      <th>codon_substitutions</th>\n",
       "      <th>aa_substitutions</th>\n",
       "      <th>n_codon_substitutions</th>\n",
       "      <th>n_aa_substitutions</th>\n",
       "      <th>target</th>\n",
       "    </tr>\n",
       "  </thead>\n",
       "  <tbody>\n",
       "    <tr>\n",
       "      <th>0</th>\n",
       "      <td>lib_1</td>\n",
       "      <td>AAAAAAAACGTTTTGT</td>\n",
       "      <td>1</td>\n",
       "      <td>CTG5TGG TCA11TCT</td>\n",
       "      <td>L5W</td>\n",
       "      <td>2</td>\n",
       "      <td>1</td>\n",
       "      <td>primary_target_gene</td>\n",
       "    </tr>\n",
       "    <tr>\n",
       "      <th>1</th>\n",
       "      <td>lib_1</td>\n",
       "      <td>AAAAAAAGGCTTATAC</td>\n",
       "      <td>5</td>\n",
       "      <td>TCA11TGC</td>\n",
       "      <td>S11C</td>\n",
       "      <td>1</td>\n",
       "      <td>1</td>\n",
       "      <td>primary_target_gene</td>\n",
       "    </tr>\n",
       "    <tr>\n",
       "      <th>2</th>\n",
       "      <td>lib_1</td>\n",
       "      <td>AAAAAAATCGTCCGTG</td>\n",
       "      <td>2</td>\n",
       "      <td></td>\n",
       "      <td></td>\n",
       "      <td>0</td>\n",
       "      <td>0</td>\n",
       "      <td>primary_target_gene</td>\n",
       "    </tr>\n",
       "    <tr>\n",
       "      <th>3</th>\n",
       "      <td>lib_1</td>\n",
       "      <td>AAAAAAGACAACACCG</td>\n",
       "      <td>5</td>\n",
       "      <td>ATC25TTC</td>\n",
       "      <td>I25F</td>\n",
       "      <td>1</td>\n",
       "      <td>1</td>\n",
       "      <td>primary_target_gene</td>\n",
       "    </tr>\n",
       "    <tr>\n",
       "      <th>4</th>\n",
       "      <td>lib_1</td>\n",
       "      <td>AAAAAAGATGTGGTGG</td>\n",
       "      <td>3</td>\n",
       "      <td>TCA11TTA CGG12GGT CGT15TGA ATC25GGA ATC28CGC</td>\n",
       "      <td>S11L R12G R15* I25G I28R</td>\n",
       "      <td>5</td>\n",
       "      <td>5</td>\n",
       "      <td>primary_target_gene</td>\n",
       "    </tr>\n",
       "    <tr>\n",
       "      <th>...</th>\n",
       "      <td>...</td>\n",
       "      <td>...</td>\n",
       "      <td>...</td>\n",
       "      <td>...</td>\n",
       "      <td>...</td>\n",
       "      <td>...</td>\n",
       "      <td>...</td>\n",
       "      <td>...</td>\n",
       "    </tr>\n",
       "    <tr>\n",
       "      <th>429</th>\n",
       "      <td>lib_2</td>\n",
       "      <td>GCGGCCTGGAGTTGAA</td>\n",
       "      <td>10</td>\n",
       "      <td></td>\n",
       "      <td></td>\n",
       "      <td>0</td>\n",
       "      <td>0</td>\n",
       "      <td>secondary_target_3</td>\n",
       "    </tr>\n",
       "    <tr>\n",
       "      <th>430</th>\n",
       "      <td>lib_2</td>\n",
       "      <td>TGATCACTACGTCCTT</td>\n",
       "      <td>10</td>\n",
       "      <td></td>\n",
       "      <td></td>\n",
       "      <td>0</td>\n",
       "      <td>0</td>\n",
       "      <td>secondary_target_3</td>\n",
       "    </tr>\n",
       "    <tr>\n",
       "      <th>431</th>\n",
       "      <td>lib_2</td>\n",
       "      <td>TTTAGGAATCTCCCGT</td>\n",
       "      <td>10</td>\n",
       "      <td></td>\n",
       "      <td></td>\n",
       "      <td>0</td>\n",
       "      <td>0</td>\n",
       "      <td>secondary_target_3</td>\n",
       "    </tr>\n",
       "    <tr>\n",
       "      <th>432</th>\n",
       "      <td>lib_2</td>\n",
       "      <td>TGTGCTTAGAGCACCG</td>\n",
       "      <td>10</td>\n",
       "      <td></td>\n",
       "      <td></td>\n",
       "      <td>0</td>\n",
       "      <td>0</td>\n",
       "      <td>secondary_target_3</td>\n",
       "    </tr>\n",
       "    <tr>\n",
       "      <th>433</th>\n",
       "      <td>lib_2</td>\n",
       "      <td>TTCTTACTGAAGTTCC</td>\n",
       "      <td>10</td>\n",
       "      <td></td>\n",
       "      <td></td>\n",
       "      <td>0</td>\n",
       "      <td>0</td>\n",
       "      <td>secondary_target_3</td>\n",
       "    </tr>\n",
       "  </tbody>\n",
       "</table>\n",
       "<p>30434 rows × 8 columns</p>\n",
       "</div>"
      ],
      "text/plain": [
       "    library           barcode  variant_call_support                           codon_substitutions          aa_substitutions  n_codon_substitutions  n_aa_substitutions               target\n",
       "0     lib_1  AAAAAAAACGTTTTGT                     1                              CTG5TGG TCA11TCT                       L5W                      2                   1  primary_target_gene\n",
       "1     lib_1  AAAAAAAGGCTTATAC                     5                                      TCA11TGC                      S11C                      1                   1  primary_target_gene\n",
       "2     lib_1  AAAAAAATCGTCCGTG                     2                                                                                              0                   0  primary_target_gene\n",
       "3     lib_1  AAAAAAGACAACACCG                     5                                      ATC25TTC                      I25F                      1                   1  primary_target_gene\n",
       "4     lib_1  AAAAAAGATGTGGTGG                     3  TCA11TTA CGG12GGT CGT15TGA ATC25GGA ATC28CGC  S11L R12G R15* I25G I28R                      5                   5  primary_target_gene\n",
       "..      ...               ...                   ...                                           ...                       ...                    ...                 ...                  ...\n",
       "429   lib_2  GCGGCCTGGAGTTGAA                    10                                                                                              0                   0   secondary_target_3\n",
       "430   lib_2  TGATCACTACGTCCTT                    10                                                                                              0                   0   secondary_target_3\n",
       "431   lib_2  TTTAGGAATCTCCCGT                    10                                                                                              0                   0   secondary_target_3\n",
       "432   lib_2  TGTGCTTAGAGCACCG                    10                                                                                              0                   0   secondary_target_3\n",
       "433   lib_2  TTCTTACTGAAGTTCC                    10                                                                                              0                   0   secondary_target_3\n",
       "\n",
       "[30434 rows x 8 columns]"
      ]
     },
     "execution_count": 12,
     "metadata": {},
     "output_type": "execute_result"
    }
   ],
   "source": [
    "bc_variant_df = (primary_bc_variant_df\n",
    "                 .append(secondary_bc_variant_df, sort=False)\n",
    "                 .assign(codon_substitutions=lambda x: x['codon_substitutions'].fillna(''),\n",
    "                         aa_substitutions=lambda x: x['aa_substitutions'].fillna(''),\n",
    "                         n_codon_substitutions=lambda x: x['n_codon_substitutions'].fillna(0).astype(int),\n",
    "                         n_aa_substitutions=lambda x: x['n_aa_substitutions'].fillna(0).astype(int))\n",
    "                 )\n",
    "\n",
    "bc_variant_df"
   ]
  },
  {
   "cell_type": "markdown",
   "metadata": {},
   "source": [
    "Now create the [CodonVariantTable](https://jbloomlab.github.io/dms_variants/dms_variants.codonvarianttable.html#dms_variants.codonvarianttable.CodonVariantTable).\n",
    "Note how we specify the `primary_target` option to the name of that target; this is required when using multiple targets:"
   ]
  },
  {
   "cell_type": "code",
   "execution_count": 13,
   "metadata": {},
   "outputs": [],
   "source": [
    "with tempfile.NamedTemporaryFile() as f:\n",
    "    bc_variant_df.to_csv(f.name, index=False)\n",
    "    f.flush()\n",
    "    variants = dms_variants.codonvarianttable.CodonVariantTable(\n",
    "                    barcode_variant_file=f.name,\n",
    "                    geneseq=geneseq,\n",
    "                    substitutions_are_codon=True,\n",
    "                    substitutions_col='codon_substitutions',\n",
    "                    primary_target=primary_target)"
   ]
  },
  {
   "cell_type": "markdown",
   "metadata": {},
   "source": [
    "We can get basic information about the [CodonVariantTable](https://jbloomlab.github.io/dms_variants/dms_variants.codonvarianttable.html#dms_variants.codonvarianttable.CodonVariantTable), such as the sites, wildtype codons, and wildtype amino acids.\n",
    "Below we do this for the first few sites.\n",
    "Note that all of this information is for the **primary target**:"
   ]
  },
  {
   "cell_type": "code",
   "execution_count": 14,
   "metadata": {
    "attributes": {
     "classes": [],
     "id": "",
     "n": "8"
    }
   },
   "outputs": [
    {
     "data": {
      "text/plain": [
       "[1, 2, 3, 4, 5]"
      ]
     },
     "execution_count": 14,
     "metadata": {},
     "output_type": "execute_result"
    }
   ],
   "source": [
    "variants.sites[: 5]"
   ]
  },
  {
   "cell_type": "code",
   "execution_count": 15,
   "metadata": {
    "attributes": {
     "classes": [],
     "id": "",
     "n": "9"
    }
   },
   "outputs": [
    {
     "data": {
      "text/plain": [
       "['AGA', 'TCC', 'GTG', 'ATT', 'CTG']"
      ]
     },
     "execution_count": 15,
     "metadata": {},
     "output_type": "execute_result"
    }
   ],
   "source": [
    "list(variants.codons[r] for r in variants.sites[: 5])"
   ]
  },
  {
   "cell_type": "code",
   "execution_count": 16,
   "metadata": {
    "attributes": {
     "classes": [],
     "id": "",
     "n": "10"
    }
   },
   "outputs": [
    {
     "data": {
      "text/plain": [
       "['R', 'S', 'V', 'I', 'L']"
      ]
     },
     "execution_count": 16,
     "metadata": {},
     "output_type": "execute_result"
    }
   ],
   "source": [
    "list(variants.aas[r] for r in variants.sites[: 5])"
   ]
  },
  {
   "cell_type": "markdown",
   "metadata": {},
   "source": [
    "The different libraries in the table:"
   ]
  },
  {
   "cell_type": "code",
   "execution_count": 17,
   "metadata": {
    "attributes": {
     "classes": [],
     "id": "",
     "n": "11"
    }
   },
   "outputs": [
    {
     "data": {
      "text/plain": [
       "['lib_1', 'lib_2']"
      ]
     },
     "execution_count": 17,
     "metadata": {},
     "output_type": "execute_result"
    }
   ],
   "source": [
    "variants.libraries"
   ]
  },
  {
   "cell_type": "markdown",
   "metadata": {},
   "source": [
    "Here is the data frame that contains all of the information on the barcoded variants.\n",
    "Note that the list of substitutions for the secondary targets just repeat the target name (so you are not confused with thinking mutations are actually enumerated in these secondary targets):"
   ]
  },
  {
   "cell_type": "code",
   "execution_count": 18,
   "metadata": {
    "attributes": {
     "classes": [],
     "id": "",
     "n": "12"
    }
   },
   "outputs": [
    {
     "data": {
      "text/html": [
       "<div>\n",
       "<style scoped>\n",
       "    .dataframe tbody tr th:only-of-type {\n",
       "        vertical-align: middle;\n",
       "    }\n",
       "\n",
       "    .dataframe tbody tr th {\n",
       "        vertical-align: top;\n",
       "    }\n",
       "\n",
       "    .dataframe thead th {\n",
       "        text-align: right;\n",
       "    }\n",
       "</style>\n",
       "<table border=\"1\" class=\"dataframe\">\n",
       "  <thead>\n",
       "    <tr style=\"text-align: right;\">\n",
       "      <th></th>\n",
       "      <th>target</th>\n",
       "      <th>library</th>\n",
       "      <th>barcode</th>\n",
       "      <th>variant_call_support</th>\n",
       "      <th>codon_substitutions</th>\n",
       "      <th>aa_substitutions</th>\n",
       "      <th>n_codon_substitutions</th>\n",
       "      <th>n_aa_substitutions</th>\n",
       "    </tr>\n",
       "  </thead>\n",
       "  <tbody>\n",
       "    <tr>\n",
       "      <th>0</th>\n",
       "      <td>primary_target_gene</td>\n",
       "      <td>lib_1</td>\n",
       "      <td>AAAAAAAACGTTTTGT</td>\n",
       "      <td>1</td>\n",
       "      <td>CTG5TGG TCA11TCT</td>\n",
       "      <td>L5W</td>\n",
       "      <td>2</td>\n",
       "      <td>1</td>\n",
       "    </tr>\n",
       "    <tr>\n",
       "      <th>1</th>\n",
       "      <td>primary_target_gene</td>\n",
       "      <td>lib_1</td>\n",
       "      <td>AAAAAAAGGCTTATAC</td>\n",
       "      <td>5</td>\n",
       "      <td>TCA11TGC</td>\n",
       "      <td>S11C</td>\n",
       "      <td>1</td>\n",
       "      <td>1</td>\n",
       "    </tr>\n",
       "    <tr>\n",
       "      <th>2</th>\n",
       "      <td>primary_target_gene</td>\n",
       "      <td>lib_1</td>\n",
       "      <td>AAAAAAATCGTCCGTG</td>\n",
       "      <td>2</td>\n",
       "      <td></td>\n",
       "      <td></td>\n",
       "      <td>0</td>\n",
       "      <td>0</td>\n",
       "    </tr>\n",
       "    <tr>\n",
       "      <th>3</th>\n",
       "      <td>primary_target_gene</td>\n",
       "      <td>lib_1</td>\n",
       "      <td>AAAAAAGACAACACCG</td>\n",
       "      <td>5</td>\n",
       "      <td>ATC25TTC</td>\n",
       "      <td>I25F</td>\n",
       "      <td>1</td>\n",
       "      <td>1</td>\n",
       "    </tr>\n",
       "    <tr>\n",
       "      <th>4</th>\n",
       "      <td>primary_target_gene</td>\n",
       "      <td>lib_1</td>\n",
       "      <td>AAAAAAGATGTGGTGG</td>\n",
       "      <td>3</td>\n",
       "      <td>TCA11TTA CGG12GGT CGT15TGA ATC25GGA ATC28CGC</td>\n",
       "      <td>S11L R12G R15* I25G I28R</td>\n",
       "      <td>5</td>\n",
       "      <td>5</td>\n",
       "    </tr>\n",
       "    <tr>\n",
       "      <th>...</th>\n",
       "      <td>...</td>\n",
       "      <td>...</td>\n",
       "      <td>...</td>\n",
       "      <td>...</td>\n",
       "      <td>...</td>\n",
       "      <td>...</td>\n",
       "      <td>...</td>\n",
       "      <td>...</td>\n",
       "    </tr>\n",
       "    <tr>\n",
       "      <th>30429</th>\n",
       "      <td>secondary_target_3</td>\n",
       "      <td>lib_2</td>\n",
       "      <td>TGTGCTTAGAGCACCG</td>\n",
       "      <td>10</td>\n",
       "      <td>secondary_target_3</td>\n",
       "      <td>secondary_target_3</td>\n",
       "      <td>0</td>\n",
       "      <td>0</td>\n",
       "    </tr>\n",
       "    <tr>\n",
       "      <th>30430</th>\n",
       "      <td>secondary_target_3</td>\n",
       "      <td>lib_2</td>\n",
       "      <td>TTCCGACACGTTGACC</td>\n",
       "      <td>10</td>\n",
       "      <td>secondary_target_3</td>\n",
       "      <td>secondary_target_3</td>\n",
       "      <td>0</td>\n",
       "      <td>0</td>\n",
       "    </tr>\n",
       "    <tr>\n",
       "      <th>30431</th>\n",
       "      <td>secondary_target_3</td>\n",
       "      <td>lib_2</td>\n",
       "      <td>TTCTATTACGCTGGGG</td>\n",
       "      <td>10</td>\n",
       "      <td>secondary_target_3</td>\n",
       "      <td>secondary_target_3</td>\n",
       "      <td>0</td>\n",
       "      <td>0</td>\n",
       "    </tr>\n",
       "    <tr>\n",
       "      <th>30432</th>\n",
       "      <td>secondary_target_3</td>\n",
       "      <td>lib_2</td>\n",
       "      <td>TTCTTACTGAAGTTCC</td>\n",
       "      <td>10</td>\n",
       "      <td>secondary_target_3</td>\n",
       "      <td>secondary_target_3</td>\n",
       "      <td>0</td>\n",
       "      <td>0</td>\n",
       "    </tr>\n",
       "    <tr>\n",
       "      <th>30433</th>\n",
       "      <td>secondary_target_3</td>\n",
       "      <td>lib_2</td>\n",
       "      <td>TTTAGGAATCTCCCGT</td>\n",
       "      <td>10</td>\n",
       "      <td>secondary_target_3</td>\n",
       "      <td>secondary_target_3</td>\n",
       "      <td>0</td>\n",
       "      <td>0</td>\n",
       "    </tr>\n",
       "  </tbody>\n",
       "</table>\n",
       "<p>30434 rows × 8 columns</p>\n",
       "</div>"
      ],
      "text/plain": [
       "                    target library           barcode  variant_call_support                           codon_substitutions          aa_substitutions  n_codon_substitutions  n_aa_substitutions\n",
       "0      primary_target_gene   lib_1  AAAAAAAACGTTTTGT                     1                              CTG5TGG TCA11TCT                       L5W                      2                   1\n",
       "1      primary_target_gene   lib_1  AAAAAAAGGCTTATAC                     5                                      TCA11TGC                      S11C                      1                   1\n",
       "2      primary_target_gene   lib_1  AAAAAAATCGTCCGTG                     2                                                                                              0                   0\n",
       "3      primary_target_gene   lib_1  AAAAAAGACAACACCG                     5                                      ATC25TTC                      I25F                      1                   1\n",
       "4      primary_target_gene   lib_1  AAAAAAGATGTGGTGG                     3  TCA11TTA CGG12GGT CGT15TGA ATC25GGA ATC28CGC  S11L R12G R15* I25G I28R                      5                   5\n",
       "...                    ...     ...               ...                   ...                                           ...                       ...                    ...                 ...\n",
       "30429   secondary_target_3   lib_2  TGTGCTTAGAGCACCG                    10                            secondary_target_3        secondary_target_3                      0                   0\n",
       "30430   secondary_target_3   lib_2  TTCCGACACGTTGACC                    10                            secondary_target_3        secondary_target_3                      0                   0\n",
       "30431   secondary_target_3   lib_2  TTCTATTACGCTGGGG                    10                            secondary_target_3        secondary_target_3                      0                   0\n",
       "30432   secondary_target_3   lib_2  TTCTTACTGAAGTTCC                    10                            secondary_target_3        secondary_target_3                      0                   0\n",
       "30433   secondary_target_3   lib_2  TTTAGGAATCTCCCGT                    10                            secondary_target_3        secondary_target_3                      0                   0\n",
       "\n",
       "[30434 rows x 8 columns]"
      ]
     },
     "execution_count": 18,
     "metadata": {},
     "output_type": "execute_result"
    }
   ],
   "source": [
    "variants.barcode_variant_df"
   ]
  },
  {
   "cell_type": "markdown",
   "metadata": {},
   "source": [
    "## Analyze library composition\n",
    "A [CodonVariantTable](https://jbloomlab.github.io/dms_variants/dms_variants.codonvarianttable.html#dms_variants.codonvarianttable.CodonVariantTable)\n",
    "has methods for summarizing and plotting properties of the barcoded variants.\n",
    "These methods can be used to analyze the barcoded variants themselves, or to\n",
    "analyze the frequency (or counts) of variants in the library in samples that\n",
    "have undergone some type of selection.\n",
    "\n",
    "We have not yet added counts of the\n",
    "variants in any specific samples, so we just analyze the composition of the\n",
    "variant library itself.\n",
    "This is done by setting `samples=None` in the method\n",
    "calls below.\n",
    "\n",
    "Number of variants in each library:"
   ]
  },
  {
   "cell_type": "code",
   "execution_count": 19,
   "metadata": {
    "attributes": {
     "classes": [],
     "id": "",
     "n": "13"
    }
   },
   "outputs": [
    {
     "data": {
      "text/html": [
       "<div>\n",
       "<style scoped>\n",
       "    .dataframe tbody tr th:only-of-type {\n",
       "        vertical-align: middle;\n",
       "    }\n",
       "\n",
       "    .dataframe tbody tr th {\n",
       "        vertical-align: top;\n",
       "    }\n",
       "\n",
       "    .dataframe thead th {\n",
       "        text-align: right;\n",
       "    }\n",
       "</style>\n",
       "<table border=\"1\" class=\"dataframe\">\n",
       "  <thead>\n",
       "    <tr style=\"text-align: right;\">\n",
       "      <th></th>\n",
       "      <th>target</th>\n",
       "      <th>library</th>\n",
       "      <th>sample</th>\n",
       "      <th>count</th>\n",
       "    </tr>\n",
       "  </thead>\n",
       "  <tbody>\n",
       "    <tr>\n",
       "      <th>0</th>\n",
       "      <td>primary_target_gene</td>\n",
       "      <td>lib_1</td>\n",
       "      <td>barcoded variants</td>\n",
       "      <td>15000</td>\n",
       "    </tr>\n",
       "    <tr>\n",
       "      <th>1</th>\n",
       "      <td>primary_target_gene</td>\n",
       "      <td>lib_2</td>\n",
       "      <td>barcoded variants</td>\n",
       "      <td>15000</td>\n",
       "    </tr>\n",
       "    <tr>\n",
       "      <th>2</th>\n",
       "      <td>primary_target_gene</td>\n",
       "      <td>all libraries</td>\n",
       "      <td>barcoded variants</td>\n",
       "      <td>30000</td>\n",
       "    </tr>\n",
       "    <tr>\n",
       "      <th>3</th>\n",
       "      <td>secondary_target_1</td>\n",
       "      <td>lib_1</td>\n",
       "      <td>barcoded variants</td>\n",
       "      <td>52</td>\n",
       "    </tr>\n",
       "    <tr>\n",
       "      <th>4</th>\n",
       "      <td>secondary_target_1</td>\n",
       "      <td>lib_2</td>\n",
       "      <td>barcoded variants</td>\n",
       "      <td>82</td>\n",
       "    </tr>\n",
       "    <tr>\n",
       "      <th>5</th>\n",
       "      <td>secondary_target_1</td>\n",
       "      <td>all libraries</td>\n",
       "      <td>barcoded variants</td>\n",
       "      <td>134</td>\n",
       "    </tr>\n",
       "    <tr>\n",
       "      <th>6</th>\n",
       "      <td>secondary_target_2</td>\n",
       "      <td>lib_1</td>\n",
       "      <td>barcoded variants</td>\n",
       "      <td>89</td>\n",
       "    </tr>\n",
       "    <tr>\n",
       "      <th>7</th>\n",
       "      <td>secondary_target_2</td>\n",
       "      <td>lib_2</td>\n",
       "      <td>barcoded variants</td>\n",
       "      <td>69</td>\n",
       "    </tr>\n",
       "    <tr>\n",
       "      <th>8</th>\n",
       "      <td>secondary_target_2</td>\n",
       "      <td>all libraries</td>\n",
       "      <td>barcoded variants</td>\n",
       "      <td>158</td>\n",
       "    </tr>\n",
       "    <tr>\n",
       "      <th>9</th>\n",
       "      <td>secondary_target_3</td>\n",
       "      <td>lib_1</td>\n",
       "      <td>barcoded variants</td>\n",
       "      <td>87</td>\n",
       "    </tr>\n",
       "    <tr>\n",
       "      <th>10</th>\n",
       "      <td>secondary_target_3</td>\n",
       "      <td>lib_2</td>\n",
       "      <td>barcoded variants</td>\n",
       "      <td>55</td>\n",
       "    </tr>\n",
       "    <tr>\n",
       "      <th>11</th>\n",
       "      <td>secondary_target_3</td>\n",
       "      <td>all libraries</td>\n",
       "      <td>barcoded variants</td>\n",
       "      <td>142</td>\n",
       "    </tr>\n",
       "  </tbody>\n",
       "</table>\n",
       "</div>"
      ],
      "text/plain": [
       "                 target        library             sample  count\n",
       "0   primary_target_gene          lib_1  barcoded variants  15000\n",
       "1   primary_target_gene          lib_2  barcoded variants  15000\n",
       "2   primary_target_gene  all libraries  barcoded variants  30000\n",
       "3    secondary_target_1          lib_1  barcoded variants     52\n",
       "4    secondary_target_1          lib_2  barcoded variants     82\n",
       "5    secondary_target_1  all libraries  barcoded variants    134\n",
       "6    secondary_target_2          lib_1  barcoded variants     89\n",
       "7    secondary_target_2          lib_2  barcoded variants     69\n",
       "8    secondary_target_2  all libraries  barcoded variants    158\n",
       "9    secondary_target_3          lib_1  barcoded variants     87\n",
       "10   secondary_target_3          lib_2  barcoded variants     55\n",
       "11   secondary_target_3  all libraries  barcoded variants    142"
      ]
     },
     "execution_count": 19,
     "metadata": {},
     "output_type": "execute_result"
    }
   ],
   "source": [
    "variants.n_variants_df(samples=None)"
   ]
  },
  {
   "cell_type": "markdown",
   "metadata": {},
   "source": [
    "We can also get this information for just the primary target:"
   ]
  },
  {
   "cell_type": "code",
   "execution_count": 20,
   "metadata": {},
   "outputs": [
    {
     "data": {
      "text/html": [
       "<div>\n",
       "<style scoped>\n",
       "    .dataframe tbody tr th:only-of-type {\n",
       "        vertical-align: middle;\n",
       "    }\n",
       "\n",
       "    .dataframe tbody tr th {\n",
       "        vertical-align: top;\n",
       "    }\n",
       "\n",
       "    .dataframe thead th {\n",
       "        text-align: right;\n",
       "    }\n",
       "</style>\n",
       "<table border=\"1\" class=\"dataframe\">\n",
       "  <thead>\n",
       "    <tr style=\"text-align: right;\">\n",
       "      <th></th>\n",
       "      <th>library</th>\n",
       "      <th>sample</th>\n",
       "      <th>count</th>\n",
       "    </tr>\n",
       "  </thead>\n",
       "  <tbody>\n",
       "    <tr>\n",
       "      <th>0</th>\n",
       "      <td>lib_1</td>\n",
       "      <td>barcoded variants</td>\n",
       "      <td>15000</td>\n",
       "    </tr>\n",
       "    <tr>\n",
       "      <th>1</th>\n",
       "      <td>lib_2</td>\n",
       "      <td>barcoded variants</td>\n",
       "      <td>15000</td>\n",
       "    </tr>\n",
       "    <tr>\n",
       "      <th>2</th>\n",
       "      <td>all libraries</td>\n",
       "      <td>barcoded variants</td>\n",
       "      <td>30000</td>\n",
       "    </tr>\n",
       "  </tbody>\n",
       "</table>\n",
       "</div>"
      ],
      "text/plain": [
       "         library             sample  count\n",
       "0          lib_1  barcoded variants  15000\n",
       "1          lib_2  barcoded variants  15000\n",
       "2  all libraries  barcoded variants  30000"
      ]
     },
     "execution_count": 20,
     "metadata": {},
     "output_type": "execute_result"
    }
   ],
   "source": [
    "variants.n_variants_df(samples=None, primary_target_only=True)"
   ]
  },
  {
   "cell_type": "markdown",
   "metadata": {},
   "source": [
    "Plot distribution of variant call supports, grouping together all variants with support $\\ge 8$:"
   ]
  },
  {
   "cell_type": "code",
   "execution_count": 21,
   "metadata": {},
   "outputs": [
    {
     "data": {
      "image/png": "[encoded data removed]",
      "text/plain": [
       "<Figure size 520x230 with 3 Axes>"
      ]
     },
     "metadata": {
      "needs_background": "light"
     },
     "output_type": "display_data"
    }
   ],
   "source": [
    "p = variants.plotVariantSupportHistogram(max_support=10)\n",
    "p = p + theme(panel_grid_major_x=element_blank())  # no vertical grid lines\n",
    "_ = p.draw()"
   ]
  },
  {
   "cell_type": "markdown",
   "metadata": {},
   "source": [
    "Same plot for only the primary target:"
   ]
  },
  {
   "cell_type": "code",
   "execution_count": 22,
   "metadata": {},
   "outputs": [
    {
     "data": {
      "image/png": "[encoded data removed]",
      "text/plain": [
       "<Figure size 520x230 with 3 Axes>"
      ]
     },
     "metadata": {
      "needs_background": "light"
     },
     "output_type": "display_data"
    }
   ],
   "source": [
    "p = variants.plotVariantSupportHistogram(max_support=10, primary_target_only=True)\n",
    "p = p + theme(panel_grid_major_x=element_blank())  # no vertical grid lines\n",
    "_ = p.draw()"
   ]
  },
  {
   "cell_type": "markdown",
   "metadata": {},
   "source": [
    "The set of valid barcodes for each library:"
   ]
  },
  {
   "cell_type": "code",
   "execution_count": 23,
   "metadata": {
    "attributes": {
     "classes": [],
     "id": "",
     "n": "14"
    }
   },
   "outputs": [
    {
     "name": "stdout",
     "output_type": "stream",
     "text": [
      "First few barcodes for library lib_1:\n",
      "['AAAAAAAACGTTTTGT', 'AAAAAAAGGCTTATAC', 'AAAAAAATCGTCCGTG']\n",
      "First few barcodes for library lib_2:\n",
      "['AAAAAACCCAGACTTA', 'AAAAAACCGGCGGCAG', 'AAAAAATCTACTGCGT']\n"
     ]
    }
   ],
   "source": [
    "for lib in libs:\n",
    "    print(f\"First few barcodes for library {lib}:\")\n",
    "    print(sorted(variants.valid_barcodes(lib))[ : 3])"
   ]
  },
  {
   "cell_type": "markdown",
   "metadata": {},
   "source": [
    "Plot the number of amino-acid mutations per variant.\n",
    "Note that this plot is **only** for the primary target:"
   ]
  },
  {
   "cell_type": "code",
   "execution_count": 24,
   "metadata": {
    "attributes": {
     "classes": [],
     "id": "",
     "n": "15"
    }
   },
   "outputs": [
    {
     "data": {
      "image/png": "[encoded data removed]",
      "text/plain": [
       "<Figure size 550x210 with 3 Axes>"
      ]
     },
     "metadata": {
      "needs_background": "light"
     },
     "output_type": "display_data"
    }
   ],
   "source": [
    "p = variants.plotNumMutsHistogram('aa', samples=None)\n",
    "p = p + theme(panel_grid_major_x=element_blank())  # no vertical grid lines\n",
    "_ = p.draw()"
   ]
  },
  {
   "cell_type": "markdown",
   "metadata": {},
   "source": [
    "Average number of codon mutations per variant of each type of mutation.\n",
    "We make these plots for:\n",
    " 1. Just single-mutant and wildtype variants\n",
    " 2. For all variants\n",
    " \n",
    "Again, these are **only** for the primary target, since mutations are only defined for that target:"
   ]
  },
  {
   "cell_type": "code",
   "execution_count": 25,
   "metadata": {
    "attributes": {
     "classes": [],
     "id": "",
     "n": "17"
    }
   },
   "outputs": [
    {
     "data": {
      "image/png": "[encoded data removed]",
      "text/plain": [
       "<Figure size 520x230 with 3 Axes>"
      ]
     },
     "metadata": {
      "needs_background": "light"
     },
     "output_type": "display_data"
    },
    {
     "data": {
      "image/png": "[encoded data removed]",
      "text/plain": [
       "<Figure size 520x230 with 3 Axes>"
      ]
     },
     "metadata": {
      "needs_background": "light"
     },
     "output_type": "display_data"
    }
   ],
   "source": [
    "for mut_type in ['single', 'all']:\n",
    "    p = variants.plotNumCodonMutsByType(mut_type, samples=None)\n",
    "    p = p + theme(panel_grid_major_x=element_blank())  # no vertical grid lines\n",
    "    _ = p.draw()"
   ]
  },
  {
   "cell_type": "markdown",
   "metadata": {},
   "source": [
    "Here are the numerical data in the plots above:"
   ]
  },
  {
   "cell_type": "code",
   "execution_count": 26,
   "metadata": {},
   "outputs": [
    {
     "data": {
      "text/html": [
       "<div>\n",
       "<style scoped>\n",
       "    .dataframe tbody tr th:only-of-type {\n",
       "        vertical-align: middle;\n",
       "    }\n",
       "\n",
       "    .dataframe tbody tr th {\n",
       "        vertical-align: top;\n",
       "    }\n",
       "\n",
       "    .dataframe thead th {\n",
       "        text-align: right;\n",
       "    }\n",
       "</style>\n",
       "<table border=\"1\" class=\"dataframe\">\n",
       "  <thead>\n",
       "    <tr style=\"text-align: right;\">\n",
       "      <th></th>\n",
       "      <th>library</th>\n",
       "      <th>sample</th>\n",
       "      <th>mutation_type</th>\n",
       "      <th>num_muts_count</th>\n",
       "      <th>count</th>\n",
       "      <th>number</th>\n",
       "    </tr>\n",
       "  </thead>\n",
       "  <tbody>\n",
       "    <tr>\n",
       "      <th>0</th>\n",
       "      <td>lib_1</td>\n",
       "      <td>barcoded variants</td>\n",
       "      <td>nonsynonymous</td>\n",
       "      <td>3615</td>\n",
       "      <td>6112</td>\n",
       "      <td>0.591</td>\n",
       "    </tr>\n",
       "    <tr>\n",
       "      <th>1</th>\n",
       "      <td>lib_1</td>\n",
       "      <td>barcoded variants</td>\n",
       "      <td>synonymous</td>\n",
       "      <td>194</td>\n",
       "      <td>6112</td>\n",
       "      <td>0.032</td>\n",
       "    </tr>\n",
       "    <tr>\n",
       "      <th>2</th>\n",
       "      <td>lib_1</td>\n",
       "      <td>barcoded variants</td>\n",
       "      <td>stop</td>\n",
       "      <td>211</td>\n",
       "      <td>6112</td>\n",
       "      <td>0.035</td>\n",
       "    </tr>\n",
       "    <tr>\n",
       "      <th>3</th>\n",
       "      <td>lib_2</td>\n",
       "      <td>barcoded variants</td>\n",
       "      <td>nonsynonymous</td>\n",
       "      <td>3716</td>\n",
       "      <td>6114</td>\n",
       "      <td>0.608</td>\n",
       "    </tr>\n",
       "    <tr>\n",
       "      <th>4</th>\n",
       "      <td>lib_2</td>\n",
       "      <td>barcoded variants</td>\n",
       "      <td>synonymous</td>\n",
       "      <td>235</td>\n",
       "      <td>6114</td>\n",
       "      <td>0.038</td>\n",
       "    </tr>\n",
       "    <tr>\n",
       "      <th>5</th>\n",
       "      <td>lib_2</td>\n",
       "      <td>barcoded variants</td>\n",
       "      <td>stop</td>\n",
       "      <td>179</td>\n",
       "      <td>6114</td>\n",
       "      <td>0.029</td>\n",
       "    </tr>\n",
       "    <tr>\n",
       "      <th>6</th>\n",
       "      <td>all libraries</td>\n",
       "      <td>barcoded variants</td>\n",
       "      <td>nonsynonymous</td>\n",
       "      <td>7331</td>\n",
       "      <td>12226</td>\n",
       "      <td>0.600</td>\n",
       "    </tr>\n",
       "    <tr>\n",
       "      <th>7</th>\n",
       "      <td>all libraries</td>\n",
       "      <td>barcoded variants</td>\n",
       "      <td>synonymous</td>\n",
       "      <td>429</td>\n",
       "      <td>12226</td>\n",
       "      <td>0.035</td>\n",
       "    </tr>\n",
       "    <tr>\n",
       "      <th>8</th>\n",
       "      <td>all libraries</td>\n",
       "      <td>barcoded variants</td>\n",
       "      <td>stop</td>\n",
       "      <td>390</td>\n",
       "      <td>12226</td>\n",
       "      <td>0.032</td>\n",
       "    </tr>\n",
       "  </tbody>\n",
       "</table>\n",
       "</div>"
      ],
      "text/plain": [
       "         library             sample  mutation_type  num_muts_count  count  number\n",
       "0          lib_1  barcoded variants  nonsynonymous            3615   6112   0.591\n",
       "1          lib_1  barcoded variants     synonymous             194   6112   0.032\n",
       "2          lib_1  barcoded variants           stop             211   6112   0.035\n",
       "3          lib_2  barcoded variants  nonsynonymous            3716   6114   0.608\n",
       "4          lib_2  barcoded variants     synonymous             235   6114   0.038\n",
       "5          lib_2  barcoded variants           stop             179   6114   0.029\n",
       "6  all libraries  barcoded variants  nonsynonymous            7331  12226   0.600\n",
       "7  all libraries  barcoded variants     synonymous             429  12226   0.035\n",
       "8  all libraries  barcoded variants           stop             390  12226   0.032"
      ]
     },
     "execution_count": 26,
     "metadata": {},
     "output_type": "execute_result"
    }
   ],
   "source": [
    "variants.numCodonMutsByType('single', samples=None).round(3)"
   ]
  },
  {
   "cell_type": "code",
   "execution_count": 27,
   "metadata": {},
   "outputs": [
    {
     "data": {
      "text/html": [
       "<div>\n",
       "<style scoped>\n",
       "    .dataframe tbody tr th:only-of-type {\n",
       "        vertical-align: middle;\n",
       "    }\n",
       "\n",
       "    .dataframe tbody tr th {\n",
       "        vertical-align: top;\n",
       "    }\n",
       "\n",
       "    .dataframe thead th {\n",
       "        text-align: right;\n",
       "    }\n",
       "</style>\n",
       "<table border=\"1\" class=\"dataframe\">\n",
       "  <thead>\n",
       "    <tr style=\"text-align: right;\">\n",
       "      <th></th>\n",
       "      <th>library</th>\n",
       "      <th>sample</th>\n",
       "      <th>mutation_type</th>\n",
       "      <th>num_muts_count</th>\n",
       "      <th>count</th>\n",
       "      <th>number</th>\n",
       "    </tr>\n",
       "  </thead>\n",
       "  <tbody>\n",
       "    <tr>\n",
       "      <th>0</th>\n",
       "      <td>lib_1</td>\n",
       "      <td>barcoded variants</td>\n",
       "      <td>nonsynonymous</td>\n",
       "      <td>26916</td>\n",
       "      <td>15000</td>\n",
       "      <td>1.794</td>\n",
       "    </tr>\n",
       "    <tr>\n",
       "      <th>1</th>\n",
       "      <td>lib_1</td>\n",
       "      <td>barcoded variants</td>\n",
       "      <td>synonymous</td>\n",
       "      <td>1510</td>\n",
       "      <td>15000</td>\n",
       "      <td>0.101</td>\n",
       "    </tr>\n",
       "    <tr>\n",
       "      <th>2</th>\n",
       "      <td>lib_1</td>\n",
       "      <td>barcoded variants</td>\n",
       "      <td>stop</td>\n",
       "      <td>1424</td>\n",
       "      <td>15000</td>\n",
       "      <td>0.095</td>\n",
       "    </tr>\n",
       "    <tr>\n",
       "      <th>3</th>\n",
       "      <td>lib_2</td>\n",
       "      <td>barcoded variants</td>\n",
       "      <td>nonsynonymous</td>\n",
       "      <td>26960</td>\n",
       "      <td>15000</td>\n",
       "      <td>1.797</td>\n",
       "    </tr>\n",
       "    <tr>\n",
       "      <th>4</th>\n",
       "      <td>lib_2</td>\n",
       "      <td>barcoded variants</td>\n",
       "      <td>synonymous</td>\n",
       "      <td>1498</td>\n",
       "      <td>15000</td>\n",
       "      <td>0.100</td>\n",
       "    </tr>\n",
       "    <tr>\n",
       "      <th>5</th>\n",
       "      <td>lib_2</td>\n",
       "      <td>barcoded variants</td>\n",
       "      <td>stop</td>\n",
       "      <td>1371</td>\n",
       "      <td>15000</td>\n",
       "      <td>0.091</td>\n",
       "    </tr>\n",
       "    <tr>\n",
       "      <th>6</th>\n",
       "      <td>all libraries</td>\n",
       "      <td>barcoded variants</td>\n",
       "      <td>nonsynonymous</td>\n",
       "      <td>53876</td>\n",
       "      <td>30000</td>\n",
       "      <td>1.796</td>\n",
       "    </tr>\n",
       "    <tr>\n",
       "      <th>7</th>\n",
       "      <td>all libraries</td>\n",
       "      <td>barcoded variants</td>\n",
       "      <td>synonymous</td>\n",
       "      <td>3008</td>\n",
       "      <td>30000</td>\n",
       "      <td>0.100</td>\n",
       "    </tr>\n",
       "    <tr>\n",
       "      <th>8</th>\n",
       "      <td>all libraries</td>\n",
       "      <td>barcoded variants</td>\n",
       "      <td>stop</td>\n",
       "      <td>2795</td>\n",
       "      <td>30000</td>\n",
       "      <td>0.093</td>\n",
       "    </tr>\n",
       "  </tbody>\n",
       "</table>\n",
       "</div>"
      ],
      "text/plain": [
       "         library             sample  mutation_type  num_muts_count  count  number\n",
       "0          lib_1  barcoded variants  nonsynonymous           26916  15000   1.794\n",
       "1          lib_1  barcoded variants     synonymous            1510  15000   0.101\n",
       "2          lib_1  barcoded variants           stop            1424  15000   0.095\n",
       "3          lib_2  barcoded variants  nonsynonymous           26960  15000   1.797\n",
       "4          lib_2  barcoded variants     synonymous            1498  15000   0.100\n",
       "5          lib_2  barcoded variants           stop            1371  15000   0.091\n",
       "6  all libraries  barcoded variants  nonsynonymous           53876  30000   1.796\n",
       "7  all libraries  barcoded variants     synonymous            3008  30000   0.100\n",
       "8  all libraries  barcoded variants           stop            2795  30000   0.093"
      ]
     },
     "execution_count": 27,
     "metadata": {},
     "output_type": "execute_result"
    }
   ],
   "source": [
    "variants.numCodonMutsByType('all', samples=None).round(3)"
   ]
  },
  {
   "cell_type": "markdown",
   "metadata": {},
   "source": [
    "Examine how well amino-acid mutations **to the primary target** are sampled in the library by looking at the\n",
    "fraction of mutations seen <= some number of times.\n",
    "Here we do that for amino-acid mutations, making separate plots for single mutants and all mutants:"
   ]
  },
  {
   "cell_type": "code",
   "execution_count": 28,
   "metadata": {
    "attributes": {
     "classes": [],
     "id": "",
     "n": "19"
    }
   },
   "outputs": [
    {
     "data": {
      "image/png": "[encoded data removed]",
      "text/plain": [
       "<Figure size 550x220 with 3 Axes>"
      ]
     },
     "metadata": {
      "needs_background": "light"
     },
     "output_type": "display_data"
    },
    {
     "data": {
      "image/png": "[encoded data removed]",
      "text/plain": [
       "<Figure size 550x220 with 3 Axes>"
      ]
     },
     "metadata": {
      "needs_background": "light"
     },
     "output_type": "display_data"
    }
   ],
   "source": [
    "for variant_type in ['single', 'all']:\n",
    "    p = variants.plotCumulMutCoverage(variant_type,\n",
    "                                      mut_type='aa',\n",
    "                                      samples=None)\n",
    "    _ = p.draw()"
   ]
  },
  {
   "cell_type": "markdown",
   "metadata": {},
   "source": [
    "We can also get the numerical information plotted above (here for single mutants\n",
    "only):"
   ]
  },
  {
   "cell_type": "code",
   "execution_count": 29,
   "metadata": {
    "attributes": {
     "classes": [],
     "id": "",
     "n": "20"
    }
   },
   "outputs": [
    {
     "data": {
      "text/html": [
       "<div>\n",
       "<style scoped>\n",
       "    .dataframe tbody tr th:only-of-type {\n",
       "        vertical-align: middle;\n",
       "    }\n",
       "\n",
       "    .dataframe tbody tr th {\n",
       "        vertical-align: top;\n",
       "    }\n",
       "\n",
       "    .dataframe thead th {\n",
       "        text-align: right;\n",
       "    }\n",
       "</style>\n",
       "<table border=\"1\" class=\"dataframe\">\n",
       "  <thead>\n",
       "    <tr style=\"text-align: right;\">\n",
       "      <th></th>\n",
       "      <th>library</th>\n",
       "      <th>sample</th>\n",
       "      <th>mutation</th>\n",
       "      <th>count</th>\n",
       "      <th>mutation_type</th>\n",
       "      <th>site</th>\n",
       "    </tr>\n",
       "  </thead>\n",
       "  <tbody>\n",
       "    <tr>\n",
       "      <th>0</th>\n",
       "      <td>lib_1</td>\n",
       "      <td>barcoded variants</td>\n",
       "      <td>V16L</td>\n",
       "      <td>25</td>\n",
       "      <td>nonsynonymous</td>\n",
       "      <td>16</td>\n",
       "    </tr>\n",
       "    <tr>\n",
       "      <th>1</th>\n",
       "      <td>lib_1</td>\n",
       "      <td>barcoded variants</td>\n",
       "      <td>C19R</td>\n",
       "      <td>21</td>\n",
       "      <td>nonsynonymous</td>\n",
       "      <td>19</td>\n",
       "    </tr>\n",
       "    <tr>\n",
       "      <th>2</th>\n",
       "      <td>lib_1</td>\n",
       "      <td>barcoded variants</td>\n",
       "      <td>R12S</td>\n",
       "      <td>21</td>\n",
       "      <td>nonsynonymous</td>\n",
       "      <td>12</td>\n",
       "    </tr>\n",
       "    <tr>\n",
       "      <th>3</th>\n",
       "      <td>lib_1</td>\n",
       "      <td>barcoded variants</td>\n",
       "      <td>R26L</td>\n",
       "      <td>21</td>\n",
       "      <td>nonsynonymous</td>\n",
       "      <td>26</td>\n",
       "    </tr>\n",
       "    <tr>\n",
       "      <th>4</th>\n",
       "      <td>lib_1</td>\n",
       "      <td>barcoded variants</td>\n",
       "      <td>S11R</td>\n",
       "      <td>21</td>\n",
       "      <td>nonsynonymous</td>\n",
       "      <td>11</td>\n",
       "    </tr>\n",
       "  </tbody>\n",
       "</table>\n",
       "</div>"
      ],
      "text/plain": [
       "  library             sample mutation  count  mutation_type  site\n",
       "0   lib_1  barcoded variants     V16L     25  nonsynonymous    16\n",
       "1   lib_1  barcoded variants     C19R     21  nonsynonymous    19\n",
       "2   lib_1  barcoded variants     R12S     21  nonsynonymous    12\n",
       "3   lib_1  barcoded variants     R26L     21  nonsynonymous    26\n",
       "4   lib_1  barcoded variants     S11R     21  nonsynonymous    11"
      ]
     },
     "execution_count": 29,
     "metadata": {},
     "output_type": "execute_result"
    }
   ],
   "source": [
    "variants.mutCounts('single', 'aa', samples=None).head(n=5)"
   ]
  },
  {
   "cell_type": "markdown",
   "metadata": {},
   "source": [
    "Here are the frequencies of mutations along the **primary target** gene, looking both at single mutants and all mutants:"
   ]
  },
  {
   "cell_type": "code",
   "execution_count": 30,
   "metadata": {
    "attributes": {
     "classes": [],
     "id": "",
     "n": "21"
    }
   },
   "outputs": [
    {
     "data": {
      "image/png": "[encoded data removed]",
      "text/plain": [
       "<Figure size 700x180 with 3 Axes>"
      ]
     },
     "metadata": {
      "needs_background": "light"
     },
     "output_type": "display_data"
    },
    {
     "data": {
      "image/png": "[encoded data removed]",
      "text/plain": [
       "<Figure size 700x180 with 3 Axes>"
      ]
     },
     "metadata": {
      "needs_background": "light"
     },
     "output_type": "display_data"
    }
   ],
   "source": [
    "for variant_type in ['single', 'all']:\n",
    "    p = variants.plotMutFreqs(variant_type,\n",
    "                              'codon', \n",
    "                              samples=None)\n",
    "    _ = p.draw()"
   ]
  },
  {
   "cell_type": "markdown",
   "metadata": {},
   "source": [
    "We can also look at mutation frequencies in the primary target gene a heat-map form:"
   ]
  },
  {
   "cell_type": "code",
   "execution_count": 31,
   "metadata": {
    "attributes": {
     "classes": [],
     "id": "",
     "n": "23"
    }
   },
   "outputs": [
    {
     "data": {
      "image/png": "[encoded data removed]",
      "text/plain": [
       "<Figure size 1210x250 with 3 Axes>"
      ]
     },
     "metadata": {
      "needs_background": "light"
     },
     "output_type": "display_data"
    }
   ],
   "source": [
    "p = variants.plotMutHeatmap('all', 'aa', samples=None)\n",
    "_ = p.draw()"
   ]
  },
  {
   "cell_type": "markdown",
   "metadata": {},
   "source": [
    "## Simulate counts for samples\n",
    "An experiment involves subjecting the library to\n",
    "different selections and looking at how the frequencies of the variants changes\n",
    "by using sequencing to count the barcodes in each condition.\n",
    "\n",
    "Here, we simulate\n",
    "an experiment by simulating variant counts for samples that have undergone\n",
    "various selections.\n",
    "\n",
    "For these simulations, we first need to define a\n",
    "\"phenotype\" for each variant.\n",
    "The phenotype represents how much the frequency of\n",
    "the variant is expected to increase or decrease after selection.\n",
    "\n",
    "### Define phenotype function\n",
    "First, we define a “phenotype” function. We will\n",
    "do this using a\n",
    "[SigmoidPhenotypeSimulator](https://jbloomlab.github.io/dms_variants/dms_variants.simulate.html#dms_variants.simulate.SigmoidPhenotypeSimulator),\n",
    "which follow the \"global epistasis\" concepts of [Otwinoski et\n",
    "al](https://doi.org/10.1073/pnas.1804015115) and [Sailer and\n",
    "Harms](https://doi.org/10.1534/genetics.116.195214) to define the phenotype in\n",
    "two steps: an underlying latent phenotype that mutations affect additively, and\n",
    "then an observed phenotype that is a non-linear\n",
    "function of the latent phenotype.\n",
    "The variants are then simulated according to their observed enrichments, which are the exponentials of the observed phenotypes.\n",
    "\n",
    "First, we initialize the simulator:"
   ]
  },
  {
   "cell_type": "code",
   "execution_count": 32,
   "metadata": {
    "attributes": {
     "classes": [],
     "id": "",
     "n": "24"
    }
   },
   "outputs": [],
   "source": [
    "phenosimulator = dms_variants.simulate.SigmoidPhenotypeSimulator(\n",
    "                                            geneseq,\n",
    "                                            seed=seed)"
   ]
  },
  {
   "cell_type": "markdown",
   "metadata": {},
   "source": [
    "Plot the simulated relationship of the latent phenotype with the observed enrichment and phenotype, with a dashed\n",
    "vertical line indicating the wildtype latent phenotype:"
   ]
  },
  {
   "cell_type": "code",
   "execution_count": 33,
   "metadata": {
    "attributes": {
     "classes": [],
     "id": "",
     "n": "25"
    }
   },
   "outputs": [
    {
     "data": {
      "image/png": "[encoded data removed]",
      "text/plain": [
       "<Figure size 350x250 with 1 Axes>"
      ]
     },
     "metadata": {
      "needs_background": "light"
     },
     "output_type": "display_data"
    },
    {
     "data": {
      "image/png": "[encoded data removed]",
      "text/plain": [
       "<Figure size 350x250 with 1 Axes>"
      ]
     },
     "metadata": {
      "needs_background": "light"
     },
     "output_type": "display_data"
    }
   ],
   "source": [
    "for value in ['enrichment', 'phenotype']:\n",
    "    p = phenosimulator.plotLatentVsObserved(value)\n",
    "    _ = p.draw()"
   ]
  },
  {
   "cell_type": "markdown",
   "metadata": {},
   "source": [
    "Plot the latent phenotype, observed phenotype, and observed enrichment of all single amino-acid mutants, with a\n",
    "dashed vertical line indicating the wildtype:"
   ]
  },
  {
   "cell_type": "code",
   "execution_count": 34,
   "metadata": {
    "attributes": {
     "classes": [],
     "id": "",
     "n": "26"
    }
   },
   "outputs": [
    {
     "data": {
      "image/png": "[encoded data removed]",
      "text/plain": [
       "<Figure size 350x250 with 1 Axes>"
      ]
     },
     "metadata": {
      "needs_background": "light"
     },
     "output_type": "display_data"
    },
    {
     "data": {
      "image/png": "[encoded data removed]",
      "text/plain": [
       "<Figure size 350x250 with 1 Axes>"
      ]
     },
     "metadata": {
      "needs_background": "light"
     },
     "output_type": "display_data"
    },
    {
     "data": {
      "image/png": "[encoded data removed]",
      "text/plain": [
       "<Figure size 350x250 with 1 Axes>"
      ]
     },
     "metadata": {
      "needs_background": "light"
     },
     "output_type": "display_data"
    }
   ],
   "source": [
    "for value in ['latentPhenotype', 'observedPhenotype', 'observedEnrichment']:\n",
    "    p = phenosimulator.plotMutsHistogram(value)\n",
    "    _ = p.draw()"
   ]
  },
  {
   "cell_type": "markdown",
   "metadata": {},
   "source": [
    "### Phenotypes for secondary targets\n",
    "We also specify phenotypes as observed enrichments for the secondary targets:"
   ]
  },
  {
   "cell_type": "code",
   "execution_count": 35,
   "metadata": {},
   "outputs": [
    {
     "data": {
      "text/html": [
       "<div>\n",
       "<style scoped>\n",
       "    .dataframe tbody tr th:only-of-type {\n",
       "        vertical-align: middle;\n",
       "    }\n",
       "\n",
       "    .dataframe tbody tr th {\n",
       "        vertical-align: top;\n",
       "    }\n",
       "\n",
       "    .dataframe thead th {\n",
       "        text-align: right;\n",
       "    }\n",
       "</style>\n",
       "<table border=\"1\" class=\"dataframe\">\n",
       "  <thead>\n",
       "    <tr style=\"text-align: right;\">\n",
       "      <th></th>\n",
       "      <th>observed_enrichment</th>\n",
       "    </tr>\n",
       "  </thead>\n",
       "  <tbody>\n",
       "    <tr>\n",
       "      <th>secondary_target_1</th>\n",
       "      <td>0.883111</td>\n",
       "    </tr>\n",
       "    <tr>\n",
       "      <th>secondary_target_2</th>\n",
       "      <td>1.211445</td>\n",
       "    </tr>\n",
       "    <tr>\n",
       "      <th>secondary_target_3</th>\n",
       "      <td>1.789062</td>\n",
       "    </tr>\n",
       "  </tbody>\n",
       "</table>\n",
       "</div>"
      ],
      "text/plain": [
       "                    observed_enrichment\n",
       "secondary_target_1             0.883111\n",
       "secondary_target_2             1.211445\n",
       "secondary_target_3             1.789062"
      ]
     },
     "execution_count": 35,
     "metadata": {},
     "output_type": "execute_result"
    }
   ],
   "source": [
    "secondary_target_phenotypes = {secondary_target: random.uniform(0.2, 2)\n",
    "                               for secondary_target in secondary_targets}\n",
    "\n",
    "# display the observed enrichments for the secondary targets\n",
    "pd.Series(secondary_target_phenotypes).rename('observed_enrichment').to_frame()"
   ]
  },
  {
   "cell_type": "markdown",
   "metadata": {},
   "source": [
    "### Simulate variant counts\n",
    "Now we use\n",
    "[simulateSampleCounts](https://jbloomlab.github.io/dms_variants/dms_variants.simulate.html#dms_variants.simulate.simulateSampleCounts)\n",
    "to simulate counts of variants when selection on each variant is proportional to\n",
    "its observed enrichment.\n",
    "In these simulations, we can fine-tune the simulations\n",
    "to reflect real experiments, such as by setting the error-rate in variant\n",
    "calling, bottlenecks when going from the pre- to post-selection samples, and\n",
    "non-uniformity in library composition.\n",
    "\n",
    "Here we simulate using several\n",
    "bottlenecks in the library going from the pre- to post-selection samples, since\n",
    "in real experiments this seems to be the biggest source of noise / error:"
   ]
  },
  {
   "cell_type": "code",
   "execution_count": 36,
   "metadata": {
    "attributes": {
     "classes": [],
     "id": "",
     "n": "27"
    }
   },
   "outputs": [],
   "source": [
    "counts = dms_variants.simulate.simulateSampleCounts(\n",
    "        variants=variants,\n",
    "        phenotype_func=phenosimulator.observedEnrichment,\n",
    "        variant_error_rate=variant_error_rate,\n",
    "        pre_sample={'total_count': variants_per_lib *\n",
    "                        scipy.random.poisson(avgdepth_per_variant),\n",
    "                    'uniformity': lib_uniformity},\n",
    "        pre_sample_name='pre-selection',\n",
    "        post_samples={name: {'noise': noise,\n",
    "                             'total_count': variants_per_lib *\n",
    "                                 scipy.random.poisson(avgdepth_per_variant),\n",
    "                             'bottleneck': bottle}\n",
    "                          for name, bottle in bottlenecks.items()},\n",
    "        seed=seed,\n",
    "        secondary_target_phenotypes=secondary_target_phenotypes,\n",
    "        )"
   ]
  },
  {
   "cell_type": "markdown",
   "metadata": {},
   "source": [
    "Data frame with the simulated counts:"
   ]
  },
  {
   "cell_type": "code",
   "execution_count": 37,
   "metadata": {
    "attributes": {
     "classes": [],
     "id": "",
     "n": "28"
    }
   },
   "outputs": [
    {
     "data": {
      "text/html": [
       "<div>\n",
       "<style scoped>\n",
       "    .dataframe tbody tr th:only-of-type {\n",
       "        vertical-align: middle;\n",
       "    }\n",
       "\n",
       "    .dataframe tbody tr th {\n",
       "        vertical-align: top;\n",
       "    }\n",
       "\n",
       "    .dataframe thead th {\n",
       "        text-align: right;\n",
       "    }\n",
       "</style>\n",
       "<table border=\"1\" class=\"dataframe\">\n",
       "  <thead>\n",
       "    <tr style=\"text-align: right;\">\n",
       "      <th></th>\n",
       "      <th>library</th>\n",
       "      <th>barcode</th>\n",
       "      <th>sample</th>\n",
       "      <th>count</th>\n",
       "    </tr>\n",
       "  </thead>\n",
       "  <tbody>\n",
       "    <tr>\n",
       "      <th>0</th>\n",
       "      <td>lib_1</td>\n",
       "      <td>AAAAAAAACGTTTTGT</td>\n",
       "      <td>pre-selection</td>\n",
       "      <td>317</td>\n",
       "    </tr>\n",
       "    <tr>\n",
       "      <th>1</th>\n",
       "      <td>lib_1</td>\n",
       "      <td>AAAAAAAGGCTTATAC</td>\n",
       "      <td>pre-selection</td>\n",
       "      <td>133</td>\n",
       "    </tr>\n",
       "    <tr>\n",
       "      <th>2</th>\n",
       "      <td>lib_1</td>\n",
       "      <td>AAAAAAATCGTCCGTG</td>\n",
       "      <td>pre-selection</td>\n",
       "      <td>127</td>\n",
       "    </tr>\n",
       "    <tr>\n",
       "      <th>3</th>\n",
       "      <td>lib_1</td>\n",
       "      <td>AAAAAAGACAACACCG</td>\n",
       "      <td>pre-selection</td>\n",
       "      <td>97</td>\n",
       "    </tr>\n",
       "    <tr>\n",
       "      <th>4</th>\n",
       "      <td>lib_1</td>\n",
       "      <td>AAAAAAGATGTGGTGG</td>\n",
       "      <td>pre-selection</td>\n",
       "      <td>324</td>\n",
       "    </tr>\n",
       "    <tr>\n",
       "      <th>5</th>\n",
       "      <td>lib_1</td>\n",
       "      <td>AAAAAAGTCATACTCG</td>\n",
       "      <td>pre-selection</td>\n",
       "      <td>118</td>\n",
       "    </tr>\n",
       "  </tbody>\n",
       "</table>\n",
       "</div>"
      ],
      "text/plain": [
       "  library           barcode         sample  count\n",
       "0   lib_1  AAAAAAAACGTTTTGT  pre-selection    317\n",
       "1   lib_1  AAAAAAAGGCTTATAC  pre-selection    133\n",
       "2   lib_1  AAAAAAATCGTCCGTG  pre-selection    127\n",
       "3   lib_1  AAAAAAGACAACACCG  pre-selection     97\n",
       "4   lib_1  AAAAAAGATGTGGTGG  pre-selection    324\n",
       "5   lib_1  AAAAAAGTCATACTCG  pre-selection    118"
      ]
     },
     "execution_count": 37,
     "metadata": {},
     "output_type": "execute_result"
    }
   ],
   "source": [
    "counts.head(6)"
   ]
  },
  {
   "cell_type": "markdown",
   "metadata": {},
   "source": [
    "### Add counts to variant table\n",
    "Now add the simulated counts for each library /\n",
    "sample to the\n",
    "[CodonVariantTable](https://jbloomlab.github.io/dms_variants/dms_variants.codonvarianttable.html#dms_variants.codonvarianttable.CodonVariantTable):"
   ]
  },
  {
   "cell_type": "code",
   "execution_count": 38,
   "metadata": {
    "attributes": {
     "classes": [],
     "id": "",
     "n": "29"
    }
   },
   "outputs": [],
   "source": [
    "variants.add_sample_counts_df(counts)"
   ]
  },
  {
   "cell_type": "markdown",
   "metadata": {},
   "source": [
    "Confirm that we have added the expected number of counts per library /\n",
    "sample:"
   ]
  },
  {
   "cell_type": "code",
   "execution_count": 39,
   "metadata": {
    "attributes": {
     "classes": [],
     "id": "",
     "n": "30"
    }
   },
   "outputs": [
    {
     "data": {
      "text/html": [
       "<div>\n",
       "<style scoped>\n",
       "    .dataframe tbody tr th:only-of-type {\n",
       "        vertical-align: middle;\n",
       "    }\n",
       "\n",
       "    .dataframe tbody tr th {\n",
       "        vertical-align: top;\n",
       "    }\n",
       "\n",
       "    .dataframe thead th {\n",
       "        text-align: right;\n",
       "    }\n",
       "</style>\n",
       "<table border=\"1\" class=\"dataframe\">\n",
       "  <thead>\n",
       "    <tr style=\"text-align: right;\">\n",
       "      <th></th>\n",
       "      <th>target</th>\n",
       "      <th>library</th>\n",
       "      <th>sample</th>\n",
       "      <th>count</th>\n",
       "    </tr>\n",
       "  </thead>\n",
       "  <tbody>\n",
       "    <tr>\n",
       "      <th>0</th>\n",
       "      <td>primary_target_gene</td>\n",
       "      <td>all libraries</td>\n",
       "      <td>pre-selection</td>\n",
       "      <td>5439967</td>\n",
       "    </tr>\n",
       "    <tr>\n",
       "      <th>1</th>\n",
       "      <td>primary_target_gene</td>\n",
       "      <td>all libraries</td>\n",
       "      <td>loose_bottle</td>\n",
       "      <td>5368090</td>\n",
       "    </tr>\n",
       "    <tr>\n",
       "      <th>2</th>\n",
       "      <td>primary_target_gene</td>\n",
       "      <td>all libraries</td>\n",
       "      <td>tight_bottle</td>\n",
       "      <td>5915801</td>\n",
       "    </tr>\n",
       "    <tr>\n",
       "      <th>3</th>\n",
       "      <td>secondary_target_1</td>\n",
       "      <td>all libraries</td>\n",
       "      <td>pre-selection</td>\n",
       "      <td>23756</td>\n",
       "    </tr>\n",
       "    <tr>\n",
       "      <th>4</th>\n",
       "      <td>secondary_target_1</td>\n",
       "      <td>all libraries</td>\n",
       "      <td>loose_bottle</td>\n",
       "      <td>54408</td>\n",
       "    </tr>\n",
       "    <tr>\n",
       "      <th>5</th>\n",
       "      <td>secondary_target_1</td>\n",
       "      <td>all libraries</td>\n",
       "      <td>tight_bottle</td>\n",
       "      <td>56899</td>\n",
       "    </tr>\n",
       "    <tr>\n",
       "      <th>6</th>\n",
       "      <td>secondary_target_2</td>\n",
       "      <td>all libraries</td>\n",
       "      <td>pre-selection</td>\n",
       "      <td>29184</td>\n",
       "    </tr>\n",
       "    <tr>\n",
       "      <th>7</th>\n",
       "      <td>secondary_target_2</td>\n",
       "      <td>all libraries</td>\n",
       "      <td>loose_bottle</td>\n",
       "      <td>91759</td>\n",
       "    </tr>\n",
       "    <tr>\n",
       "      <th>8</th>\n",
       "      <td>secondary_target_2</td>\n",
       "      <td>all libraries</td>\n",
       "      <td>tight_bottle</td>\n",
       "      <td>103626</td>\n",
       "    </tr>\n",
       "    <tr>\n",
       "      <th>9</th>\n",
       "      <td>secondary_target_3</td>\n",
       "      <td>all libraries</td>\n",
       "      <td>pre-selection</td>\n",
       "      <td>27093</td>\n",
       "    </tr>\n",
       "    <tr>\n",
       "      <th>10</th>\n",
       "      <td>secondary_target_3</td>\n",
       "      <td>all libraries</td>\n",
       "      <td>loose_bottle</td>\n",
       "      <td>125743</td>\n",
       "    </tr>\n",
       "    <tr>\n",
       "      <th>11</th>\n",
       "      <td>secondary_target_3</td>\n",
       "      <td>all libraries</td>\n",
       "      <td>tight_bottle</td>\n",
       "      <td>133674</td>\n",
       "    </tr>\n",
       "  </tbody>\n",
       "</table>\n",
       "</div>"
      ],
      "text/plain": [
       "                 target        library         sample    count\n",
       "0   primary_target_gene  all libraries  pre-selection  5439967\n",
       "1   primary_target_gene  all libraries   loose_bottle  5368090\n",
       "2   primary_target_gene  all libraries   tight_bottle  5915801\n",
       "3    secondary_target_1  all libraries  pre-selection    23756\n",
       "4    secondary_target_1  all libraries   loose_bottle    54408\n",
       "5    secondary_target_1  all libraries   tight_bottle    56899\n",
       "6    secondary_target_2  all libraries  pre-selection    29184\n",
       "7    secondary_target_2  all libraries   loose_bottle    91759\n",
       "8    secondary_target_2  all libraries   tight_bottle   103626\n",
       "9    secondary_target_3  all libraries  pre-selection    27093\n",
       "10   secondary_target_3  all libraries   loose_bottle   125743\n",
       "11   secondary_target_3  all libraries   tight_bottle   133674"
      ]
     },
     "execution_count": 39,
     "metadata": {},
     "output_type": "execute_result"
    }
   ],
   "source": [
    "variants.n_variants_df(libraries='all_only')"
   ]
  },
  {
   "cell_type": "markdown",
   "metadata": {},
   "source": [
    "Look only for primary target:"
   ]
  },
  {
   "cell_type": "code",
   "execution_count": 40,
   "metadata": {},
   "outputs": [
    {
     "data": {
      "text/html": [
       "<div>\n",
       "<style scoped>\n",
       "    .dataframe tbody tr th:only-of-type {\n",
       "        vertical-align: middle;\n",
       "    }\n",
       "\n",
       "    .dataframe tbody tr th {\n",
       "        vertical-align: top;\n",
       "    }\n",
       "\n",
       "    .dataframe thead th {\n",
       "        text-align: right;\n",
       "    }\n",
       "</style>\n",
       "<table border=\"1\" class=\"dataframe\">\n",
       "  <thead>\n",
       "    <tr style=\"text-align: right;\">\n",
       "      <th></th>\n",
       "      <th>library</th>\n",
       "      <th>sample</th>\n",
       "      <th>count</th>\n",
       "    </tr>\n",
       "  </thead>\n",
       "  <tbody>\n",
       "    <tr>\n",
       "      <th>0</th>\n",
       "      <td>lib_1</td>\n",
       "      <td>pre-selection</td>\n",
       "      <td>2719365</td>\n",
       "    </tr>\n",
       "    <tr>\n",
       "      <th>1</th>\n",
       "      <td>lib_1</td>\n",
       "      <td>loose_bottle</td>\n",
       "      <td>2674302</td>\n",
       "    </tr>\n",
       "    <tr>\n",
       "      <th>2</th>\n",
       "      <td>lib_1</td>\n",
       "      <td>tight_bottle</td>\n",
       "      <td>2947573</td>\n",
       "    </tr>\n",
       "    <tr>\n",
       "      <th>3</th>\n",
       "      <td>lib_2</td>\n",
       "      <td>pre-selection</td>\n",
       "      <td>2720602</td>\n",
       "    </tr>\n",
       "    <tr>\n",
       "      <th>4</th>\n",
       "      <td>lib_2</td>\n",
       "      <td>loose_bottle</td>\n",
       "      <td>2693788</td>\n",
       "    </tr>\n",
       "    <tr>\n",
       "      <th>5</th>\n",
       "      <td>lib_2</td>\n",
       "      <td>tight_bottle</td>\n",
       "      <td>2968228</td>\n",
       "    </tr>\n",
       "    <tr>\n",
       "      <th>6</th>\n",
       "      <td>all libraries</td>\n",
       "      <td>pre-selection</td>\n",
       "      <td>5439967</td>\n",
       "    </tr>\n",
       "    <tr>\n",
       "      <th>7</th>\n",
       "      <td>all libraries</td>\n",
       "      <td>loose_bottle</td>\n",
       "      <td>5368090</td>\n",
       "    </tr>\n",
       "    <tr>\n",
       "      <th>8</th>\n",
       "      <td>all libraries</td>\n",
       "      <td>tight_bottle</td>\n",
       "      <td>5915801</td>\n",
       "    </tr>\n",
       "  </tbody>\n",
       "</table>\n",
       "</div>"
      ],
      "text/plain": [
       "         library         sample    count\n",
       "0          lib_1  pre-selection  2719365\n",
       "1          lib_1   loose_bottle  2674302\n",
       "2          lib_1   tight_bottle  2947573\n",
       "3          lib_2  pre-selection  2720602\n",
       "4          lib_2   loose_bottle  2693788\n",
       "5          lib_2   tight_bottle  2968228\n",
       "6  all libraries  pre-selection  5439967\n",
       "7  all libraries   loose_bottle  5368090\n",
       "8  all libraries   tight_bottle  5915801"
      ]
     },
     "execution_count": 40,
     "metadata": {},
     "output_type": "execute_result"
    }
   ],
   "source": [
    "variants.n_variants_df(primary_target_only=True)"
   ]
  },
  {
   "cell_type": "markdown",
   "metadata": {},
   "source": [
    "## Analyze sample variant counts\n",
    "A\n",
    "[CodonVariantTable](https://jbloomlab.github.io/dms_variants/dms_variants.codonvarianttable.html#dms_variants.codonvarianttable.CodonVariantTable)\n",
    "has methods for summarizing and plotting the variant counts for different\n",
    "samples.\n",
    "These methods are mostly the same as we used above to analyze the\n",
    "variant composition of the libraries themselves, but now we set `samples` to the\n",
    "samples that we want to analyze (typically `'all'`).\n",
    "Therefore, rather than each\n",
    "variant always counting once, each variant is counted in each sample in\n",
    "proportion to how many counts it has.\n",
    "\n",
    "In the rawest form, we can directly\n",
    "access a data frame giving the counts of each variant in each sample:"
   ]
  },
  {
   "cell_type": "code",
   "execution_count": 41,
   "metadata": {
    "attributes": {
     "classes": [],
     "id": "",
     "n": "31"
    }
   },
   "outputs": [
    {
     "data": {
      "text/html": [
       "<div>\n",
       "<style scoped>\n",
       "    .dataframe tbody tr th:only-of-type {\n",
       "        vertical-align: middle;\n",
       "    }\n",
       "\n",
       "    .dataframe tbody tr th {\n",
       "        vertical-align: top;\n",
       "    }\n",
       "\n",
       "    .dataframe thead th {\n",
       "        text-align: right;\n",
       "    }\n",
       "</style>\n",
       "<table border=\"1\" class=\"dataframe\">\n",
       "  <thead>\n",
       "    <tr style=\"text-align: right;\">\n",
       "      <th></th>\n",
       "      <th>target</th>\n",
       "      <th>library</th>\n",
       "      <th>sample</th>\n",
       "      <th>barcode</th>\n",
       "      <th>count</th>\n",
       "      <th>variant_call_support</th>\n",
       "      <th>codon_substitutions</th>\n",
       "      <th>aa_substitutions</th>\n",
       "      <th>n_codon_substitutions</th>\n",
       "      <th>n_aa_substitutions</th>\n",
       "    </tr>\n",
       "  </thead>\n",
       "  <tbody>\n",
       "    <tr>\n",
       "      <th>0</th>\n",
       "      <td>primary_target_gene</td>\n",
       "      <td>lib_1</td>\n",
       "      <td>pre-selection</td>\n",
       "      <td>AACCCGTTCACCACCA</td>\n",
       "      <td>692</td>\n",
       "      <td>2</td>\n",
       "      <td>ATC17CGA CGG29TGC</td>\n",
       "      <td>I17R R29C</td>\n",
       "      <td>2</td>\n",
       "      <td>2</td>\n",
       "    </tr>\n",
       "    <tr>\n",
       "      <th>1</th>\n",
       "      <td>primary_target_gene</td>\n",
       "      <td>lib_1</td>\n",
       "      <td>pre-selection</td>\n",
       "      <td>ACTACGGACGATTATT</td>\n",
       "      <td>633</td>\n",
       "      <td>1</td>\n",
       "      <td>GCT7TCT AAA14GAT AAC20CGA</td>\n",
       "      <td>A7S K14D N20R</td>\n",
       "      <td>3</td>\n",
       "      <td>3</td>\n",
       "    </tr>\n",
       "    <tr>\n",
       "      <th>2</th>\n",
       "      <td>primary_target_gene</td>\n",
       "      <td>lib_1</td>\n",
       "      <td>pre-selection</td>\n",
       "      <td>GGACTATCTCAGTATG</td>\n",
       "      <td>615</td>\n",
       "      <td>2</td>\n",
       "      <td></td>\n",
       "      <td></td>\n",
       "      <td>0</td>\n",
       "      <td>0</td>\n",
       "    </tr>\n",
       "    <tr>\n",
       "      <th>3</th>\n",
       "      <td>primary_target_gene</td>\n",
       "      <td>lib_1</td>\n",
       "      <td>pre-selection</td>\n",
       "      <td>CCAGAAAACCCACCAA</td>\n",
       "      <td>614</td>\n",
       "      <td>7</td>\n",
       "      <td>TTA18CTC</td>\n",
       "      <td></td>\n",
       "      <td>1</td>\n",
       "      <td>0</td>\n",
       "    </tr>\n",
       "    <tr>\n",
       "      <th>4</th>\n",
       "      <td>primary_target_gene</td>\n",
       "      <td>lib_1</td>\n",
       "      <td>pre-selection</td>\n",
       "      <td>ACGGCCTAAACTCACA</td>\n",
       "      <td>611</td>\n",
       "      <td>3</td>\n",
       "      <td>CGT6GTA GAC22CAC</td>\n",
       "      <td>R6V D22H</td>\n",
       "      <td>2</td>\n",
       "      <td>2</td>\n",
       "    </tr>\n",
       "    <tr>\n",
       "      <th>...</th>\n",
       "      <td>...</td>\n",
       "      <td>...</td>\n",
       "      <td>...</td>\n",
       "      <td>...</td>\n",
       "      <td>...</td>\n",
       "      <td>...</td>\n",
       "      <td>...</td>\n",
       "      <td>...</td>\n",
       "      <td>...</td>\n",
       "      <td>...</td>\n",
       "    </tr>\n",
       "    <tr>\n",
       "      <th>91297</th>\n",
       "      <td>secondary_target_3</td>\n",
       "      <td>lib_2</td>\n",
       "      <td>tight_bottle</td>\n",
       "      <td>CTCATGTACCGGGAGC</td>\n",
       "      <td>180</td>\n",
       "      <td>10</td>\n",
       "      <td>secondary_target_3</td>\n",
       "      <td>secondary_target_3</td>\n",
       "      <td>0</td>\n",
       "      <td>0</td>\n",
       "    </tr>\n",
       "    <tr>\n",
       "      <th>91298</th>\n",
       "      <td>secondary_target_3</td>\n",
       "      <td>lib_2</td>\n",
       "      <td>tight_bottle</td>\n",
       "      <td>ACTGACCATGATAGTC</td>\n",
       "      <td>178</td>\n",
       "      <td>10</td>\n",
       "      <td>secondary_target_3</td>\n",
       "      <td>secondary_target_3</td>\n",
       "      <td>0</td>\n",
       "      <td>0</td>\n",
       "    </tr>\n",
       "    <tr>\n",
       "      <th>91299</th>\n",
       "      <td>secondary_target_3</td>\n",
       "      <td>lib_2</td>\n",
       "      <td>tight_bottle</td>\n",
       "      <td>TATATCGGCGTGAAGA</td>\n",
       "      <td>159</td>\n",
       "      <td>10</td>\n",
       "      <td>secondary_target_3</td>\n",
       "      <td>secondary_target_3</td>\n",
       "      <td>0</td>\n",
       "      <td>0</td>\n",
       "    </tr>\n",
       "    <tr>\n",
       "      <th>91300</th>\n",
       "      <td>secondary_target_3</td>\n",
       "      <td>lib_2</td>\n",
       "      <td>tight_bottle</td>\n",
       "      <td>AAGGTTCTAGGTGGTC</td>\n",
       "      <td>0</td>\n",
       "      <td>10</td>\n",
       "      <td>secondary_target_3</td>\n",
       "      <td>secondary_target_3</td>\n",
       "      <td>0</td>\n",
       "      <td>0</td>\n",
       "    </tr>\n",
       "    <tr>\n",
       "      <th>91301</th>\n",
       "      <td>secondary_target_3</td>\n",
       "      <td>lib_2</td>\n",
       "      <td>tight_bottle</td>\n",
       "      <td>TTCTATTACGCTGGGG</td>\n",
       "      <td>0</td>\n",
       "      <td>10</td>\n",
       "      <td>secondary_target_3</td>\n",
       "      <td>secondary_target_3</td>\n",
       "      <td>0</td>\n",
       "      <td>0</td>\n",
       "    </tr>\n",
       "  </tbody>\n",
       "</table>\n",
       "<p>91302 rows × 10 columns</p>\n",
       "</div>"
      ],
      "text/plain": [
       "                    target library         sample           barcode  count  variant_call_support        codon_substitutions    aa_substitutions  n_codon_substitutions  n_aa_substitutions\n",
       "0      primary_target_gene   lib_1  pre-selection  AACCCGTTCACCACCA    692                     2          ATC17CGA CGG29TGC           I17R R29C                      2                   2\n",
       "1      primary_target_gene   lib_1  pre-selection  ACTACGGACGATTATT    633                     1  GCT7TCT AAA14GAT AAC20CGA       A7S K14D N20R                      3                   3\n",
       "2      primary_target_gene   lib_1  pre-selection  GGACTATCTCAGTATG    615                     2                                                                     0                   0\n",
       "3      primary_target_gene   lib_1  pre-selection  CCAGAAAACCCACCAA    614                     7                   TTA18CTC                                          1                   0\n",
       "4      primary_target_gene   lib_1  pre-selection  ACGGCCTAAACTCACA    611                     3           CGT6GTA GAC22CAC            R6V D22H                      2                   2\n",
       "...                    ...     ...            ...               ...    ...                   ...                        ...                 ...                    ...                 ...\n",
       "91297   secondary_target_3   lib_2   tight_bottle  CTCATGTACCGGGAGC    180                    10         secondary_target_3  secondary_target_3                      0                   0\n",
       "91298   secondary_target_3   lib_2   tight_bottle  ACTGACCATGATAGTC    178                    10         secondary_target_3  secondary_target_3                      0                   0\n",
       "91299   secondary_target_3   lib_2   tight_bottle  TATATCGGCGTGAAGA    159                    10         secondary_target_3  secondary_target_3                      0                   0\n",
       "91300   secondary_target_3   lib_2   tight_bottle  AAGGTTCTAGGTGGTC      0                    10         secondary_target_3  secondary_target_3                      0                   0\n",
       "91301   secondary_target_3   lib_2   tight_bottle  TTCTATTACGCTGGGG      0                    10         secondary_target_3  secondary_target_3                      0                   0\n",
       "\n",
       "[91302 rows x 10 columns]"
      ]
     },
     "execution_count": 41,
     "metadata": {},
     "output_type": "execute_result"
    }
   ],
   "source": [
    "variants.variant_count_df"
   ]
  },
  {
   "cell_type": "markdown",
   "metadata": {},
   "source": [
    "Get the **average** number of counts per variant:"
   ]
  },
  {
   "cell_type": "code",
   "execution_count": 42,
   "metadata": {},
   "outputs": [
    {
     "data": {
      "text/html": [
       "<div>\n",
       "<style scoped>\n",
       "    .dataframe tbody tr th:only-of-type {\n",
       "        vertical-align: middle;\n",
       "    }\n",
       "\n",
       "    .dataframe tbody tr th {\n",
       "        vertical-align: top;\n",
       "    }\n",
       "\n",
       "    .dataframe thead th {\n",
       "        text-align: right;\n",
       "    }\n",
       "</style>\n",
       "<table border=\"1\" class=\"dataframe\">\n",
       "  <thead>\n",
       "    <tr style=\"text-align: right;\">\n",
       "      <th></th>\n",
       "      <th>target</th>\n",
       "      <th>library</th>\n",
       "      <th>sample</th>\n",
       "      <th>avg_counts_per_variant</th>\n",
       "    </tr>\n",
       "  </thead>\n",
       "  <tbody>\n",
       "    <tr>\n",
       "      <th>0</th>\n",
       "      <td>primary_target_gene</td>\n",
       "      <td>lib_1</td>\n",
       "      <td>pre-selection</td>\n",
       "      <td>181.3</td>\n",
       "    </tr>\n",
       "    <tr>\n",
       "      <th>1</th>\n",
       "      <td>primary_target_gene</td>\n",
       "      <td>lib_1</td>\n",
       "      <td>loose_bottle</td>\n",
       "      <td>178.3</td>\n",
       "    </tr>\n",
       "    <tr>\n",
       "      <th>2</th>\n",
       "      <td>primary_target_gene</td>\n",
       "      <td>lib_1</td>\n",
       "      <td>tight_bottle</td>\n",
       "      <td>196.5</td>\n",
       "    </tr>\n",
       "    <tr>\n",
       "      <th>3</th>\n",
       "      <td>primary_target_gene</td>\n",
       "      <td>lib_2</td>\n",
       "      <td>pre-selection</td>\n",
       "      <td>181.4</td>\n",
       "    </tr>\n",
       "    <tr>\n",
       "      <th>4</th>\n",
       "      <td>primary_target_gene</td>\n",
       "      <td>lib_2</td>\n",
       "      <td>loose_bottle</td>\n",
       "      <td>179.6</td>\n",
       "    </tr>\n",
       "    <tr>\n",
       "      <th>5</th>\n",
       "      <td>primary_target_gene</td>\n",
       "      <td>lib_2</td>\n",
       "      <td>tight_bottle</td>\n",
       "      <td>197.9</td>\n",
       "    </tr>\n",
       "    <tr>\n",
       "      <th>6</th>\n",
       "      <td>primary_target_gene</td>\n",
       "      <td>all libraries</td>\n",
       "      <td>pre-selection</td>\n",
       "      <td>181.3</td>\n",
       "    </tr>\n",
       "    <tr>\n",
       "      <th>7</th>\n",
       "      <td>primary_target_gene</td>\n",
       "      <td>all libraries</td>\n",
       "      <td>loose_bottle</td>\n",
       "      <td>178.9</td>\n",
       "    </tr>\n",
       "    <tr>\n",
       "      <th>8</th>\n",
       "      <td>primary_target_gene</td>\n",
       "      <td>all libraries</td>\n",
       "      <td>tight_bottle</td>\n",
       "      <td>197.2</td>\n",
       "    </tr>\n",
       "    <tr>\n",
       "      <th>9</th>\n",
       "      <td>secondary_target_1</td>\n",
       "      <td>lib_1</td>\n",
       "      <td>pre-selection</td>\n",
       "      <td>166.1</td>\n",
       "    </tr>\n",
       "    <tr>\n",
       "      <th>10</th>\n",
       "      <td>secondary_target_1</td>\n",
       "      <td>lib_1</td>\n",
       "      <td>loose_bottle</td>\n",
       "      <td>380.7</td>\n",
       "    </tr>\n",
       "    <tr>\n",
       "      <th>11</th>\n",
       "      <td>secondary_target_1</td>\n",
       "      <td>lib_1</td>\n",
       "      <td>tight_bottle</td>\n",
       "      <td>399.4</td>\n",
       "    </tr>\n",
       "    <tr>\n",
       "      <th>12</th>\n",
       "      <td>secondary_target_1</td>\n",
       "      <td>lib_2</td>\n",
       "      <td>pre-selection</td>\n",
       "      <td>184.4</td>\n",
       "    </tr>\n",
       "    <tr>\n",
       "      <th>13</th>\n",
       "      <td>secondary_target_1</td>\n",
       "      <td>lib_2</td>\n",
       "      <td>loose_bottle</td>\n",
       "      <td>422.1</td>\n",
       "    </tr>\n",
       "    <tr>\n",
       "      <th>14</th>\n",
       "      <td>secondary_target_1</td>\n",
       "      <td>lib_2</td>\n",
       "      <td>tight_bottle</td>\n",
       "      <td>440.6</td>\n",
       "    </tr>\n",
       "    <tr>\n",
       "      <th>15</th>\n",
       "      <td>secondary_target_1</td>\n",
       "      <td>all libraries</td>\n",
       "      <td>pre-selection</td>\n",
       "      <td>177.3</td>\n",
       "    </tr>\n",
       "    <tr>\n",
       "      <th>16</th>\n",
       "      <td>secondary_target_1</td>\n",
       "      <td>all libraries</td>\n",
       "      <td>loose_bottle</td>\n",
       "      <td>406.0</td>\n",
       "    </tr>\n",
       "    <tr>\n",
       "      <th>17</th>\n",
       "      <td>secondary_target_1</td>\n",
       "      <td>all libraries</td>\n",
       "      <td>tight_bottle</td>\n",
       "      <td>424.6</td>\n",
       "    </tr>\n",
       "    <tr>\n",
       "      <th>18</th>\n",
       "      <td>secondary_target_2</td>\n",
       "      <td>lib_1</td>\n",
       "      <td>pre-selection</td>\n",
       "      <td>173.2</td>\n",
       "    </tr>\n",
       "    <tr>\n",
       "      <th>19</th>\n",
       "      <td>secondary_target_2</td>\n",
       "      <td>lib_1</td>\n",
       "      <td>loose_bottle</td>\n",
       "      <td>556.9</td>\n",
       "    </tr>\n",
       "    <tr>\n",
       "      <th>20</th>\n",
       "      <td>secondary_target_2</td>\n",
       "      <td>lib_1</td>\n",
       "      <td>tight_bottle</td>\n",
       "      <td>585.6</td>\n",
       "    </tr>\n",
       "    <tr>\n",
       "      <th>21</th>\n",
       "      <td>secondary_target_2</td>\n",
       "      <td>lib_2</td>\n",
       "      <td>pre-selection</td>\n",
       "      <td>199.5</td>\n",
       "    </tr>\n",
       "    <tr>\n",
       "      <th>22</th>\n",
       "      <td>secondary_target_2</td>\n",
       "      <td>lib_2</td>\n",
       "      <td>loose_bottle</td>\n",
       "      <td>611.5</td>\n",
       "    </tr>\n",
       "    <tr>\n",
       "      <th>23</th>\n",
       "      <td>secondary_target_2</td>\n",
       "      <td>lib_2</td>\n",
       "      <td>tight_bottle</td>\n",
       "      <td>746.5</td>\n",
       "    </tr>\n",
       "    <tr>\n",
       "      <th>24</th>\n",
       "      <td>secondary_target_2</td>\n",
       "      <td>all libraries</td>\n",
       "      <td>pre-selection</td>\n",
       "      <td>184.7</td>\n",
       "    </tr>\n",
       "    <tr>\n",
       "      <th>25</th>\n",
       "      <td>secondary_target_2</td>\n",
       "      <td>all libraries</td>\n",
       "      <td>loose_bottle</td>\n",
       "      <td>580.8</td>\n",
       "    </tr>\n",
       "    <tr>\n",
       "      <th>26</th>\n",
       "      <td>secondary_target_2</td>\n",
       "      <td>all libraries</td>\n",
       "      <td>tight_bottle</td>\n",
       "      <td>655.9</td>\n",
       "    </tr>\n",
       "    <tr>\n",
       "      <th>27</th>\n",
       "      <td>secondary_target_3</td>\n",
       "      <td>lib_1</td>\n",
       "      <td>pre-selection</td>\n",
       "      <td>190.6</td>\n",
       "    </tr>\n",
       "    <tr>\n",
       "      <th>28</th>\n",
       "      <td>secondary_target_3</td>\n",
       "      <td>lib_1</td>\n",
       "      <td>loose_bottle</td>\n",
       "      <td>877.5</td>\n",
       "    </tr>\n",
       "    <tr>\n",
       "      <th>29</th>\n",
       "      <td>secondary_target_3</td>\n",
       "      <td>lib_1</td>\n",
       "      <td>tight_bottle</td>\n",
       "      <td>971.7</td>\n",
       "    </tr>\n",
       "    <tr>\n",
       "      <th>30</th>\n",
       "      <td>secondary_target_3</td>\n",
       "      <td>lib_2</td>\n",
       "      <td>pre-selection</td>\n",
       "      <td>191.1</td>\n",
       "    </tr>\n",
       "    <tr>\n",
       "      <th>31</th>\n",
       "      <td>secondary_target_3</td>\n",
       "      <td>lib_2</td>\n",
       "      <td>loose_bottle</td>\n",
       "      <td>898.3</td>\n",
       "    </tr>\n",
       "    <tr>\n",
       "      <th>32</th>\n",
       "      <td>secondary_target_3</td>\n",
       "      <td>lib_2</td>\n",
       "      <td>tight_bottle</td>\n",
       "      <td>893.3</td>\n",
       "    </tr>\n",
       "    <tr>\n",
       "      <th>33</th>\n",
       "      <td>secondary_target_3</td>\n",
       "      <td>all libraries</td>\n",
       "      <td>pre-selection</td>\n",
       "      <td>190.8</td>\n",
       "    </tr>\n",
       "    <tr>\n",
       "      <th>34</th>\n",
       "      <td>secondary_target_3</td>\n",
       "      <td>all libraries</td>\n",
       "      <td>loose_bottle</td>\n",
       "      <td>885.5</td>\n",
       "    </tr>\n",
       "    <tr>\n",
       "      <th>35</th>\n",
       "      <td>secondary_target_3</td>\n",
       "      <td>all libraries</td>\n",
       "      <td>tight_bottle</td>\n",
       "      <td>941.4</td>\n",
       "    </tr>\n",
       "  </tbody>\n",
       "</table>\n",
       "</div>"
      ],
      "text/plain": [
       "                 target        library         sample  avg_counts_per_variant\n",
       "0   primary_target_gene          lib_1  pre-selection                   181.3\n",
       "1   primary_target_gene          lib_1   loose_bottle                   178.3\n",
       "2   primary_target_gene          lib_1   tight_bottle                   196.5\n",
       "3   primary_target_gene          lib_2  pre-selection                   181.4\n",
       "4   primary_target_gene          lib_2   loose_bottle                   179.6\n",
       "5   primary_target_gene          lib_2   tight_bottle                   197.9\n",
       "6   primary_target_gene  all libraries  pre-selection                   181.3\n",
       "7   primary_target_gene  all libraries   loose_bottle                   178.9\n",
       "8   primary_target_gene  all libraries   tight_bottle                   197.2\n",
       "9    secondary_target_1          lib_1  pre-selection                   166.1\n",
       "10   secondary_target_1          lib_1   loose_bottle                   380.7\n",
       "11   secondary_target_1          lib_1   tight_bottle                   399.4\n",
       "12   secondary_target_1          lib_2  pre-selection                   184.4\n",
       "13   secondary_target_1          lib_2   loose_bottle                   422.1\n",
       "14   secondary_target_1          lib_2   tight_bottle                   440.6\n",
       "15   secondary_target_1  all libraries  pre-selection                   177.3\n",
       "16   secondary_target_1  all libraries   loose_bottle                   406.0\n",
       "17   secondary_target_1  all libraries   tight_bottle                   424.6\n",
       "18   secondary_target_2          lib_1  pre-selection                   173.2\n",
       "19   secondary_target_2          lib_1   loose_bottle                   556.9\n",
       "20   secondary_target_2          lib_1   tight_bottle                   585.6\n",
       "21   secondary_target_2          lib_2  pre-selection                   199.5\n",
       "22   secondary_target_2          lib_2   loose_bottle                   611.5\n",
       "23   secondary_target_2          lib_2   tight_bottle                   746.5\n",
       "24   secondary_target_2  all libraries  pre-selection                   184.7\n",
       "25   secondary_target_2  all libraries   loose_bottle                   580.8\n",
       "26   secondary_target_2  all libraries   tight_bottle                   655.9\n",
       "27   secondary_target_3          lib_1  pre-selection                   190.6\n",
       "28   secondary_target_3          lib_1   loose_bottle                   877.5\n",
       "29   secondary_target_3          lib_1   tight_bottle                   971.7\n",
       "30   secondary_target_3          lib_2  pre-selection                   191.1\n",
       "31   secondary_target_3          lib_2   loose_bottle                   898.3\n",
       "32   secondary_target_3          lib_2   tight_bottle                   893.3\n",
       "33   secondary_target_3  all libraries  pre-selection                   190.8\n",
       "34   secondary_target_3  all libraries   loose_bottle                   885.5\n",
       "35   secondary_target_3  all libraries   tight_bottle                   941.4"
      ]
     },
     "execution_count": 42,
     "metadata": {},
     "output_type": "execute_result"
    }
   ],
   "source": [
    "variants.avgCountsPerVariant().round(1)"
   ]
  },
  {
   "cell_type": "markdown",
   "metadata": {},
   "source": [
    "Above the counts are grouped by target. To not group by target:"
   ]
  },
  {
   "cell_type": "code",
   "execution_count": 43,
   "metadata": {},
   "outputs": [
    {
     "data": {
      "text/html": [
       "<div>\n",
       "<style scoped>\n",
       "    .dataframe tbody tr th:only-of-type {\n",
       "        vertical-align: middle;\n",
       "    }\n",
       "\n",
       "    .dataframe tbody tr th {\n",
       "        vertical-align: top;\n",
       "    }\n",
       "\n",
       "    .dataframe thead th {\n",
       "        text-align: right;\n",
       "    }\n",
       "</style>\n",
       "<table border=\"1\" class=\"dataframe\">\n",
       "  <thead>\n",
       "    <tr style=\"text-align: right;\">\n",
       "      <th></th>\n",
       "      <th>library</th>\n",
       "      <th>sample</th>\n",
       "      <th>avg_counts_per_variant</th>\n",
       "    </tr>\n",
       "  </thead>\n",
       "  <tbody>\n",
       "    <tr>\n",
       "      <th>0</th>\n",
       "      <td>lib_1</td>\n",
       "      <td>pre-selection</td>\n",
       "      <td>181.2</td>\n",
       "    </tr>\n",
       "    <tr>\n",
       "      <th>1</th>\n",
       "      <td>lib_1</td>\n",
       "      <td>loose_bottle</td>\n",
       "      <td>185.2</td>\n",
       "    </tr>\n",
       "    <tr>\n",
       "      <th>2</th>\n",
       "      <td>lib_1</td>\n",
       "      <td>tight_bottle</td>\n",
       "      <td>203.9</td>\n",
       "    </tr>\n",
       "    <tr>\n",
       "      <th>3</th>\n",
       "      <td>lib_2</td>\n",
       "      <td>pre-selection</td>\n",
       "      <td>181.5</td>\n",
       "    </tr>\n",
       "    <tr>\n",
       "      <th>4</th>\n",
       "      <td>lib_2</td>\n",
       "      <td>loose_bottle</td>\n",
       "      <td>185.5</td>\n",
       "    </tr>\n",
       "    <tr>\n",
       "      <th>5</th>\n",
       "      <td>lib_2</td>\n",
       "      <td>tight_bottle</td>\n",
       "      <td>204.2</td>\n",
       "    </tr>\n",
       "    <tr>\n",
       "      <th>6</th>\n",
       "      <td>all libraries</td>\n",
       "      <td>pre-selection</td>\n",
       "      <td>181.4</td>\n",
       "    </tr>\n",
       "    <tr>\n",
       "      <th>7</th>\n",
       "      <td>all libraries</td>\n",
       "      <td>loose_bottle</td>\n",
       "      <td>185.3</td>\n",
       "    </tr>\n",
       "    <tr>\n",
       "      <th>8</th>\n",
       "      <td>all libraries</td>\n",
       "      <td>tight_bottle</td>\n",
       "      <td>204.0</td>\n",
       "    </tr>\n",
       "  </tbody>\n",
       "</table>\n",
       "</div>"
      ],
      "text/plain": [
       "         library         sample  avg_counts_per_variant\n",
       "0          lib_1  pre-selection                   181.2\n",
       "1          lib_1   loose_bottle                   185.2\n",
       "2          lib_1   tight_bottle                   203.9\n",
       "3          lib_2  pre-selection                   181.5\n",
       "4          lib_2   loose_bottle                   185.5\n",
       "5          lib_2   tight_bottle                   204.2\n",
       "6  all libraries  pre-selection                   181.4\n",
       "7  all libraries   loose_bottle                   185.3\n",
       "8  all libraries   tight_bottle                   204.0"
      ]
     },
     "execution_count": 43,
     "metadata": {},
     "output_type": "execute_result"
    }
   ],
   "source": [
    "variants.avgCountsPerVariant(by_target=False).round(1)"
   ]
  },
  {
   "cell_type": "markdown",
   "metadata": {},
   "source": [
    "We also plot the average counts per variant:"
   ]
  },
  {
   "cell_type": "code",
   "execution_count": 44,
   "metadata": {},
   "outputs": [
    {
     "data": {
      "image/png": "[encoded data removed]",
      "text/plain": [
       "<Figure size 450x945 with 12 Axes>"
      ]
     },
     "metadata": {
      "needs_background": "light"
     },
     "output_type": "display_data"
    }
   ],
   "source": [
    "p = variants.plotAvgCountsPerVariant(heightscale=1.5, orientation='h')\n",
    "p = p + theme(panel_grid_major_x=element_blank())  # no vertical grid lines\n",
    "_ = p.draw()"
   ]
  },
  {
   "cell_type": "markdown",
   "metadata": {},
   "source": [
    "Here is the same plot **not** faceted by target:"
   ]
  },
  {
   "cell_type": "code",
   "execution_count": 45,
   "metadata": {},
   "outputs": [
    {
     "data": {
      "image/png": "[encoded data removed]",
      "text/plain": [
       "<Figure size 450x210 with 3 Axes>"
      ]
     },
     "metadata": {
      "needs_background": "light"
     },
     "output_type": "display_data"
    }
   ],
   "source": [
    "p = variants.plotAvgCountsPerVariant(orientation='h', by_target=False)\n",
    "p = p + theme(panel_grid_major_x=element_blank())  # no vertical grid lines\n",
    "_ = p.draw()"
   ]
  },
  {
   "cell_type": "markdown",
   "metadata": {},
   "source": [
    "Plot the number of counts for each variant in each sample. \n",
    "The horizontal\n",
    "dashed line shows the total number of variants. \n",
    "The plot shows that all\n",
    "variants are well-sampled in the pre-selection libraries, but that post-\n",
    "selection some variants are sampled more or less.\n",
    "This is expected since\n",
    "selection will decrease and increase the frequency of variants.\n",
    "By default, this plot shows only the primary target:"
   ]
  },
  {
   "cell_type": "code",
   "execution_count": 46,
   "metadata": {
    "attributes": {
     "classes": [],
     "id": "",
     "n": "32"
    }
   },
   "outputs": [
    {
     "data": {
      "image/png": "[encoded data removed]",
      "text/plain": [
       "<Figure size 550x510 with 9 Axes>"
      ]
     },
     "metadata": {
      "needs_background": "light"
     },
     "output_type": "display_data"
    }
   ],
   "source": [
    "p = variants.plotCumulVariantCounts()\n",
    "_ = p.draw()"
   ]
  },
  {
   "cell_type": "markdown",
   "metadata": {},
   "source": [
    "Similar plot showing all targets:"
   ]
  },
  {
   "cell_type": "code",
   "execution_count": 47,
   "metadata": {},
   "outputs": [
    {
     "data": {
      "image/png": "[encoded data removed]",
      "text/plain": [
       "<Figure size 550x510 with 9 Axes>"
      ]
     },
     "metadata": {
      "needs_background": "light"
     },
     "output_type": "display_data"
    }
   ],
   "source": [
    "p = variants.plotCumulVariantCounts(primary_target_only=False)\n",
    "_ = p.draw()"
   ]
  },
  {
   "cell_type": "markdown",
   "metadata": {},
   "source": [
    "Distribution of the number of amino-acid mutations per variant in each sample.\n",
    "This is only for the primary target.\n",
    "As expected, mutations go down after selection:"
   ]
  },
  {
   "cell_type": "code",
   "execution_count": 48,
   "metadata": {
    "attributes": {
     "classes": [],
     "id": "",
     "n": "33"
    }
   },
   "outputs": [
    {
     "data": {
      "image/png": "[encoded data removed]",
      "text/plain": [
       "<Figure size 550x510 with 9 Axes>"
      ]
     },
     "metadata": {
      "needs_background": "light"
     },
     "output_type": "display_data"
    }
   ],
   "source": [
    "p = variants.plotNumMutsHistogram(mut_type='aa')\n",
    "p = p + theme(panel_grid_major_x=element_blank())  # no vertical grid lines\n",
    "_ = p.draw()"
   ]
  },
  {
   "cell_type": "markdown",
   "metadata": {},
   "source": [
    "Average number of mutations of each type per variant among just single mutants\n",
    "(and wildtype) and among all variants, again only for primary target:"
   ]
  },
  {
   "cell_type": "code",
   "execution_count": 49,
   "metadata": {
    "attributes": {
     "classes": [],
     "id": "",
     "n": "34"
    }
   },
   "outputs": [
    {
     "data": {
      "image/png": "[encoded data removed]",
      "text/plain": [
       "<Figure size 520x490 with 9 Axes>"
      ]
     },
     "metadata": {
      "needs_background": "light"
     },
     "output_type": "display_data"
    },
    {
     "data": {
      "image/png": "[encoded data removed]",
      "text/plain": [
       "<Figure size 520x490 with 9 Axes>"
      ]
     },
     "metadata": {
      "needs_background": "light"
     },
     "output_type": "display_data"
    }
   ],
   "source": [
    "for variant_type in ['single', 'all']:\n",
    "    p = variants.plotNumCodonMutsByType(variant_type)\n",
    "    p = p + theme(panel_grid_major_x=element_blank())  # no vertical grid lines\n",
    "    _ = p.draw()"
   ]
  },
  {
   "cell_type": "markdown",
   "metadata": {},
   "source": [
    "Here are the numerical data plotted above (just for the individual libraries and all mutations):"
   ]
  },
  {
   "cell_type": "code",
   "execution_count": 50,
   "metadata": {},
   "outputs": [
    {
     "data": {
      "text/html": [
       "<div>\n",
       "<style scoped>\n",
       "    .dataframe tbody tr th:only-of-type {\n",
       "        vertical-align: middle;\n",
       "    }\n",
       "\n",
       "    .dataframe tbody tr th {\n",
       "        vertical-align: top;\n",
       "    }\n",
       "\n",
       "    .dataframe thead th {\n",
       "        text-align: right;\n",
       "    }\n",
       "</style>\n",
       "<table border=\"1\" class=\"dataframe\">\n",
       "  <thead>\n",
       "    <tr style=\"text-align: right;\">\n",
       "      <th></th>\n",
       "      <th>library</th>\n",
       "      <th>sample</th>\n",
       "      <th>mutation_type</th>\n",
       "      <th>num_muts_count</th>\n",
       "      <th>count</th>\n",
       "      <th>number</th>\n",
       "    </tr>\n",
       "  </thead>\n",
       "  <tbody>\n",
       "    <tr>\n",
       "      <th>0</th>\n",
       "      <td>lib_1</td>\n",
       "      <td>pre-selection</td>\n",
       "      <td>nonsynonymous</td>\n",
       "      <td>4864651</td>\n",
       "      <td>2719365</td>\n",
       "      <td>1.789</td>\n",
       "    </tr>\n",
       "    <tr>\n",
       "      <th>1</th>\n",
       "      <td>lib_1</td>\n",
       "      <td>pre-selection</td>\n",
       "      <td>synonymous</td>\n",
       "      <td>275311</td>\n",
       "      <td>2719365</td>\n",
       "      <td>0.101</td>\n",
       "    </tr>\n",
       "    <tr>\n",
       "      <th>2</th>\n",
       "      <td>lib_1</td>\n",
       "      <td>pre-selection</td>\n",
       "      <td>stop</td>\n",
       "      <td>257132</td>\n",
       "      <td>2719365</td>\n",
       "      <td>0.095</td>\n",
       "    </tr>\n",
       "    <tr>\n",
       "      <th>3</th>\n",
       "      <td>lib_1</td>\n",
       "      <td>loose_bottle</td>\n",
       "      <td>nonsynonymous</td>\n",
       "      <td>2331222</td>\n",
       "      <td>2674302</td>\n",
       "      <td>0.872</td>\n",
       "    </tr>\n",
       "    <tr>\n",
       "      <th>4</th>\n",
       "      <td>lib_1</td>\n",
       "      <td>loose_bottle</td>\n",
       "      <td>synonymous</td>\n",
       "      <td>269969</td>\n",
       "      <td>2674302</td>\n",
       "      <td>0.101</td>\n",
       "    </tr>\n",
       "    <tr>\n",
       "      <th>5</th>\n",
       "      <td>lib_1</td>\n",
       "      <td>loose_bottle</td>\n",
       "      <td>stop</td>\n",
       "      <td>809</td>\n",
       "      <td>2674302</td>\n",
       "      <td>0.000</td>\n",
       "    </tr>\n",
       "    <tr>\n",
       "      <th>6</th>\n",
       "      <td>lib_1</td>\n",
       "      <td>tight_bottle</td>\n",
       "      <td>nonsynonymous</td>\n",
       "      <td>2575101</td>\n",
       "      <td>2947573</td>\n",
       "      <td>0.874</td>\n",
       "    </tr>\n",
       "    <tr>\n",
       "      <th>7</th>\n",
       "      <td>lib_1</td>\n",
       "      <td>tight_bottle</td>\n",
       "      <td>synonymous</td>\n",
       "      <td>295569</td>\n",
       "      <td>2947573</td>\n",
       "      <td>0.100</td>\n",
       "    </tr>\n",
       "    <tr>\n",
       "      <th>8</th>\n",
       "      <td>lib_1</td>\n",
       "      <td>tight_bottle</td>\n",
       "      <td>stop</td>\n",
       "      <td>905</td>\n",
       "      <td>2947573</td>\n",
       "      <td>0.000</td>\n",
       "    </tr>\n",
       "    <tr>\n",
       "      <th>9</th>\n",
       "      <td>lib_2</td>\n",
       "      <td>pre-selection</td>\n",
       "      <td>nonsynonymous</td>\n",
       "      <td>4872431</td>\n",
       "      <td>2720602</td>\n",
       "      <td>1.791</td>\n",
       "    </tr>\n",
       "    <tr>\n",
       "      <th>10</th>\n",
       "      <td>lib_2</td>\n",
       "      <td>pre-selection</td>\n",
       "      <td>synonymous</td>\n",
       "      <td>279586</td>\n",
       "      <td>2720602</td>\n",
       "      <td>0.103</td>\n",
       "    </tr>\n",
       "    <tr>\n",
       "      <th>11</th>\n",
       "      <td>lib_2</td>\n",
       "      <td>pre-selection</td>\n",
       "      <td>stop</td>\n",
       "      <td>249866</td>\n",
       "      <td>2720602</td>\n",
       "      <td>0.092</td>\n",
       "    </tr>\n",
       "    <tr>\n",
       "      <th>12</th>\n",
       "      <td>lib_2</td>\n",
       "      <td>loose_bottle</td>\n",
       "      <td>nonsynonymous</td>\n",
       "      <td>2429425</td>\n",
       "      <td>2693788</td>\n",
       "      <td>0.902</td>\n",
       "    </tr>\n",
       "    <tr>\n",
       "      <th>13</th>\n",
       "      <td>lib_2</td>\n",
       "      <td>loose_bottle</td>\n",
       "      <td>synonymous</td>\n",
       "      <td>270538</td>\n",
       "      <td>2693788</td>\n",
       "      <td>0.100</td>\n",
       "    </tr>\n",
       "    <tr>\n",
       "      <th>14</th>\n",
       "      <td>lib_2</td>\n",
       "      <td>loose_bottle</td>\n",
       "      <td>stop</td>\n",
       "      <td>1303</td>\n",
       "      <td>2693788</td>\n",
       "      <td>0.000</td>\n",
       "    </tr>\n",
       "    <tr>\n",
       "      <th>15</th>\n",
       "      <td>lib_2</td>\n",
       "      <td>tight_bottle</td>\n",
       "      <td>nonsynonymous</td>\n",
       "      <td>2712353</td>\n",
       "      <td>2968228</td>\n",
       "      <td>0.914</td>\n",
       "    </tr>\n",
       "    <tr>\n",
       "      <th>16</th>\n",
       "      <td>lib_2</td>\n",
       "      <td>tight_bottle</td>\n",
       "      <td>synonymous</td>\n",
       "      <td>299423</td>\n",
       "      <td>2968228</td>\n",
       "      <td>0.101</td>\n",
       "    </tr>\n",
       "    <tr>\n",
       "      <th>17</th>\n",
       "      <td>lib_2</td>\n",
       "      <td>tight_bottle</td>\n",
       "      <td>stop</td>\n",
       "      <td>1377</td>\n",
       "      <td>2968228</td>\n",
       "      <td>0.000</td>\n",
       "    </tr>\n",
       "  </tbody>\n",
       "</table>\n",
       "</div>"
      ],
      "text/plain": [
       "   library         sample  mutation_type  num_muts_count    count  number\n",
       "0    lib_1  pre-selection  nonsynonymous         4864651  2719365   1.789\n",
       "1    lib_1  pre-selection     synonymous          275311  2719365   0.101\n",
       "2    lib_1  pre-selection           stop          257132  2719365   0.095\n",
       "3    lib_1   loose_bottle  nonsynonymous         2331222  2674302   0.872\n",
       "4    lib_1   loose_bottle     synonymous          269969  2674302   0.101\n",
       "5    lib_1   loose_bottle           stop             809  2674302   0.000\n",
       "6    lib_1   tight_bottle  nonsynonymous         2575101  2947573   0.874\n",
       "7    lib_1   tight_bottle     synonymous          295569  2947573   0.100\n",
       "8    lib_1   tight_bottle           stop             905  2947573   0.000\n",
       "9    lib_2  pre-selection  nonsynonymous         4872431  2720602   1.791\n",
       "10   lib_2  pre-selection     synonymous          279586  2720602   0.103\n",
       "11   lib_2  pre-selection           stop          249866  2720602   0.092\n",
       "12   lib_2   loose_bottle  nonsynonymous         2429425  2693788   0.902\n",
       "13   lib_2   loose_bottle     synonymous          270538  2693788   0.100\n",
       "14   lib_2   loose_bottle           stop            1303  2693788   0.000\n",
       "15   lib_2   tight_bottle  nonsynonymous         2712353  2968228   0.914\n",
       "16   lib_2   tight_bottle     synonymous          299423  2968228   0.101\n",
       "17   lib_2   tight_bottle           stop            1377  2968228   0.000"
      ]
     },
     "execution_count": 50,
     "metadata": {},
     "output_type": "execute_result"
    }
   ],
   "source": [
    "# NBVAL_IGNORE_OUTPUT\n",
    "\n",
    "variants.numCodonMutsByType(variant_type='all', libraries=libs).round(3)"
   ]
  },
  {
   "cell_type": "markdown",
   "metadata": {},
   "source": [
    "Here are mutation frequencies as a function of primary sequence among all variants of the primary target:"
   ]
  },
  {
   "cell_type": "code",
   "execution_count": 51,
   "metadata": {
    "attributes": {
     "classes": [],
     "id": "",
     "n": "35"
    }
   },
   "outputs": [
    {
     "data": {
      "image/png": "[encoded data removed]",
      "text/plain": [
       "<Figure size 700x380 with 9 Axes>"
      ]
     },
     "metadata": {
      "needs_background": "light"
     },
     "output_type": "display_data"
    }
   ],
   "source": [
    "p = variants.plotMutFreqs(variant_type='all',\n",
    "                          mut_type='codon')\n",
    "_ = p.draw()"
   ]
  },
  {
   "cell_type": "markdown",
   "metadata": {},
   "source": [
    "Plot how thoroughly amino-acid mutations are sampled, doing this separately among all variants and single-mutant variants for the primary target.\n",
    "The plots below show that the stop mutations are sampled very poorly post-selection because they are eliminated during selection:"
   ]
  },
  {
   "cell_type": "code",
   "execution_count": 52,
   "metadata": {
    "attributes": {
     "classes": [],
     "id": "",
     "n": "36"
    }
   },
   "outputs": [
    {
     "data": {
      "image/png": "[encoded data removed]",
      "text/plain": [
       "<Figure size 550x460 with 9 Axes>"
      ]
     },
     "metadata": {
      "needs_background": "light"
     },
     "output_type": "display_data"
    },
    {
     "data": {
      "image/png": "[encoded data removed]",
      "text/plain": [
       "<Figure size 550x460 with 9 Axes>"
      ]
     },
     "metadata": {
      "needs_background": "light"
     },
     "output_type": "display_data"
    }
   ],
   "source": [
    "for variant_type in ['single', 'all']:\n",
    "    p = variants.plotCumulMutCoverage(variant_type=variant_type,\n",
    "                                      mut_type='aa')\n",
    "    _ = p.draw()"
   ]
  },
  {
   "cell_type": "markdown",
   "metadata": {},
   "source": [
    "## Functional scores for variants\n",
    "The\n",
    "[CodonVariantTable.func_scores](https://jbloomlab.github.io/dms_variants/dms_variants.codonvarianttable.html#dms_variants.codonvarianttable.CodonVariantTable.func_scores)\n",
    "method calculates a functional score for each variant based on its change in\n",
    "frequency from pre- to post-selection.\n",
    "\n",
    "To calculate these scores, we\n",
    "need to pair each\n",
    "post-selection sample with a pre-selection one.\n",
    "In this case,\n",
    "the pre-selection sample is named 'pre-selection' for all post-selection\n",
    "samples:"
   ]
  },
  {
   "cell_type": "code",
   "execution_count": 53,
   "metadata": {
    "attributes": {
     "classes": [],
     "id": "",
     "n": "37"
    }
   },
   "outputs": [],
   "source": [
    "func_scores = variants.func_scores('pre-selection',\n",
    "                                   libraries=libs)"
   ]
  },
  {
   "cell_type": "markdown",
   "metadata": {},
   "source": [
    "The resulting data frame has a functional score (and its\n",
    "variance) for each barcoded variant:"
   ]
  },
  {
   "cell_type": "code",
   "execution_count": 54,
   "metadata": {
    "attributes": {
     "classes": [],
     "id": "",
     "n": "38"
    }
   },
   "outputs": [
    {
     "data": {
      "text/html": [
       "<div>\n",
       "<style scoped>\n",
       "    .dataframe tbody tr th:only-of-type {\n",
       "        vertical-align: middle;\n",
       "    }\n",
       "\n",
       "    .dataframe tbody tr th {\n",
       "        vertical-align: top;\n",
       "    }\n",
       "\n",
       "    .dataframe thead th {\n",
       "        text-align: right;\n",
       "    }\n",
       "</style>\n",
       "<table border=\"1\" class=\"dataframe\">\n",
       "  <thead>\n",
       "    <tr style=\"text-align: right;\">\n",
       "      <th></th>\n",
       "      <th>target</th>\n",
       "      <th>library</th>\n",
       "      <th>pre_sample</th>\n",
       "      <th>post_sample</th>\n",
       "      <th>barcode</th>\n",
       "      <th>func_score</th>\n",
       "      <th>func_score_var</th>\n",
       "      <th>pre_count</th>\n",
       "      <th>post_count</th>\n",
       "      <th>pre_count_wt</th>\n",
       "      <th>post_count_wt</th>\n",
       "      <th>pseudocount</th>\n",
       "      <th>codon_substitutions</th>\n",
       "      <th>n_codon_substitutions</th>\n",
       "      <th>aa_substitutions</th>\n",
       "      <th>n_aa_substitutions</th>\n",
       "    </tr>\n",
       "  </thead>\n",
       "  <tbody>\n",
       "    <tr>\n",
       "      <th>0</th>\n",
       "      <td>primary_target_gene</td>\n",
       "      <td>lib_1</td>\n",
       "      <td>pre-selection</td>\n",
       "      <td>loose_bottle</td>\n",
       "      <td>AACCCGTTCACCACCA</td>\n",
       "      <td>-1.060</td>\n",
       "      <td>0.005</td>\n",
       "      <td>692</td>\n",
       "      <td>847</td>\n",
       "      <td>381697</td>\n",
       "      <td>974119</td>\n",
       "      <td>0.5</td>\n",
       "      <td>ATC17CGA CGG29TGC</td>\n",
       "      <td>2</td>\n",
       "      <td>I17R R29C</td>\n",
       "      <td>2</td>\n",
       "    </tr>\n",
       "    <tr>\n",
       "      <th>1</th>\n",
       "      <td>primary_target_gene</td>\n",
       "      <td>lib_1</td>\n",
       "      <td>pre-selection</td>\n",
       "      <td>loose_bottle</td>\n",
       "      <td>ACTACGGACGATTATT</td>\n",
       "      <td>-3.845</td>\n",
       "      <td>0.022</td>\n",
       "      <td>633</td>\n",
       "      <td>112</td>\n",
       "      <td>381697</td>\n",
       "      <td>974119</td>\n",
       "      <td>0.5</td>\n",
       "      <td>GCT7TCT AAA14GAT AAC20CGA</td>\n",
       "      <td>3</td>\n",
       "      <td>A7S K14D N20R</td>\n",
       "      <td>3</td>\n",
       "    </tr>\n",
       "    <tr>\n",
       "      <th>2</th>\n",
       "      <td>primary_target_gene</td>\n",
       "      <td>lib_1</td>\n",
       "      <td>pre-selection</td>\n",
       "      <td>loose_bottle</td>\n",
       "      <td>GGACTATCTCAGTATG</td>\n",
       "      <td>-0.188</td>\n",
       "      <td>0.005</td>\n",
       "      <td>615</td>\n",
       "      <td>1378</td>\n",
       "      <td>381697</td>\n",
       "      <td>974119</td>\n",
       "      <td>0.5</td>\n",
       "      <td></td>\n",
       "      <td>0</td>\n",
       "      <td></td>\n",
       "      <td>0</td>\n",
       "    </tr>\n",
       "    <tr>\n",
       "      <th>3</th>\n",
       "      <td>primary_target_gene</td>\n",
       "      <td>lib_1</td>\n",
       "      <td>pre-selection</td>\n",
       "      <td>loose_bottle</td>\n",
       "      <td>CCAGAAAACCCACCAA</td>\n",
       "      <td>-0.052</td>\n",
       "      <td>0.005</td>\n",
       "      <td>614</td>\n",
       "      <td>1512</td>\n",
       "      <td>381697</td>\n",
       "      <td>974119</td>\n",
       "      <td>0.5</td>\n",
       "      <td>TTA18CTC</td>\n",
       "      <td>1</td>\n",
       "      <td></td>\n",
       "      <td>0</td>\n",
       "    </tr>\n",
       "    <tr>\n",
       "      <th>4</th>\n",
       "      <td>primary_target_gene</td>\n",
       "      <td>lib_1</td>\n",
       "      <td>pre-selection</td>\n",
       "      <td>loose_bottle</td>\n",
       "      <td>ACGGCCTAAACTCACA</td>\n",
       "      <td>-3.228</td>\n",
       "      <td>0.016</td>\n",
       "      <td>611</td>\n",
       "      <td>166</td>\n",
       "      <td>381697</td>\n",
       "      <td>974119</td>\n",
       "      <td>0.5</td>\n",
       "      <td>CGT6GTA GAC22CAC</td>\n",
       "      <td>2</td>\n",
       "      <td>R6V D22H</td>\n",
       "      <td>2</td>\n",
       "    </tr>\n",
       "    <tr>\n",
       "      <th>...</th>\n",
       "      <td>...</td>\n",
       "      <td>...</td>\n",
       "      <td>...</td>\n",
       "      <td>...</td>\n",
       "      <td>...</td>\n",
       "      <td>...</td>\n",
       "      <td>...</td>\n",
       "      <td>...</td>\n",
       "      <td>...</td>\n",
       "      <td>...</td>\n",
       "      <td>...</td>\n",
       "      <td>...</td>\n",
       "      <td>...</td>\n",
       "      <td>...</td>\n",
       "      <td>...</td>\n",
       "      <td>...</td>\n",
       "    </tr>\n",
       "    <tr>\n",
       "      <th>60863</th>\n",
       "      <td>secondary_target_3</td>\n",
       "      <td>lib_2</td>\n",
       "      <td>pre-selection</td>\n",
       "      <td>tight_bottle</td>\n",
       "      <td>TGTGCTTAGAGCACCG</td>\n",
       "      <td>1.384</td>\n",
       "      <td>0.032</td>\n",
       "      <td>74</td>\n",
       "      <td>544</td>\n",
       "      <td>359334</td>\n",
       "      <td>1006145</td>\n",
       "      <td>0.5</td>\n",
       "      <td>secondary_target_3</td>\n",
       "      <td>0</td>\n",
       "      <td>secondary_target_3</td>\n",
       "      <td>0</td>\n",
       "    </tr>\n",
       "    <tr>\n",
       "      <th>60864</th>\n",
       "      <td>secondary_target_3</td>\n",
       "      <td>lib_2</td>\n",
       "      <td>pre-selection</td>\n",
       "      <td>tight_bottle</td>\n",
       "      <td>CCTGGATTTCTGATTT</td>\n",
       "      <td>2.776</td>\n",
       "      <td>0.032</td>\n",
       "      <td>69</td>\n",
       "      <td>1332</td>\n",
       "      <td>359334</td>\n",
       "      <td>1006145</td>\n",
       "      <td>0.5</td>\n",
       "      <td>secondary_target_3</td>\n",
       "      <td>0</td>\n",
       "      <td>secondary_target_3</td>\n",
       "      <td>0</td>\n",
       "    </tr>\n",
       "    <tr>\n",
       "      <th>60865</th>\n",
       "      <td>secondary_target_3</td>\n",
       "      <td>lib_2</td>\n",
       "      <td>pre-selection</td>\n",
       "      <td>tight_bottle</td>\n",
       "      <td>CAGTGGTAATTAAACG</td>\n",
       "      <td>0.853</td>\n",
       "      <td>0.036</td>\n",
       "      <td>68</td>\n",
       "      <td>346</td>\n",
       "      <td>359334</td>\n",
       "      <td>1006145</td>\n",
       "      <td>0.5</td>\n",
       "      <td>secondary_target_3</td>\n",
       "      <td>0</td>\n",
       "      <td>secondary_target_3</td>\n",
       "      <td>0</td>\n",
       "    </tr>\n",
       "    <tr>\n",
       "      <th>60866</th>\n",
       "      <td>secondary_target_3</td>\n",
       "      <td>lib_2</td>\n",
       "      <td>pre-selection</td>\n",
       "      <td>tight_bottle</td>\n",
       "      <td>CTTGTTGTATACTAGC</td>\n",
       "      <td>1.499</td>\n",
       "      <td>0.045</td>\n",
       "      <td>52</td>\n",
       "      <td>415</td>\n",
       "      <td>359334</td>\n",
       "      <td>1006145</td>\n",
       "      <td>0.5</td>\n",
       "      <td>secondary_target_3</td>\n",
       "      <td>0</td>\n",
       "      <td>secondary_target_3</td>\n",
       "      <td>0</td>\n",
       "    </tr>\n",
       "    <tr>\n",
       "      <th>60867</th>\n",
       "      <td>secondary_target_3</td>\n",
       "      <td>lib_2</td>\n",
       "      <td>pre-selection</td>\n",
       "      <td>tight_bottle</td>\n",
       "      <td>ACTGACCATGATAGTC</td>\n",
       "      <td>1.161</td>\n",
       "      <td>0.085</td>\n",
       "      <td>28</td>\n",
       "      <td>178</td>\n",
       "      <td>359334</td>\n",
       "      <td>1006145</td>\n",
       "      <td>0.5</td>\n",
       "      <td>secondary_target_3</td>\n",
       "      <td>0</td>\n",
       "      <td>secondary_target_3</td>\n",
       "      <td>0</td>\n",
       "    </tr>\n",
       "  </tbody>\n",
       "</table>\n",
       "<p>60868 rows × 16 columns</p>\n",
       "</div>"
      ],
      "text/plain": [
       "                    target library     pre_sample   post_sample           barcode  func_score  func_score_var  pre_count  post_count  pre_count_wt  post_count_wt  pseudocount        codon_substitutions  n_codon_substitutions    aa_substitutions  n_aa_substitutions\n",
       "0      primary_target_gene   lib_1  pre-selection  loose_bottle  AACCCGTTCACCACCA      -1.060           0.005        692         847        381697         974119          0.5          ATC17CGA CGG29TGC                      2           I17R R29C                   2\n",
       "1      primary_target_gene   lib_1  pre-selection  loose_bottle  ACTACGGACGATTATT      -3.845           0.022        633         112        381697         974119          0.5  GCT7TCT AAA14GAT AAC20CGA                      3       A7S K14D N20R                   3\n",
       "2      primary_target_gene   lib_1  pre-selection  loose_bottle  GGACTATCTCAGTATG      -0.188           0.005        615        1378        381697         974119          0.5                                                 0                                       0\n",
       "3      primary_target_gene   lib_1  pre-selection  loose_bottle  CCAGAAAACCCACCAA      -0.052           0.005        614        1512        381697         974119          0.5                   TTA18CTC                      1                                       0\n",
       "4      primary_target_gene   lib_1  pre-selection  loose_bottle  ACGGCCTAAACTCACA      -3.228           0.016        611         166        381697         974119          0.5           CGT6GTA GAC22CAC                      2            R6V D22H                   2\n",
       "...                    ...     ...            ...           ...               ...         ...             ...        ...         ...           ...            ...          ...                        ...                    ...                 ...                 ...\n",
       "60863   secondary_target_3   lib_2  pre-selection  tight_bottle  TGTGCTTAGAGCACCG       1.384           0.032         74         544        359334        1006145          0.5         secondary_target_3                      0  secondary_target_3                   0\n",
       "60864   secondary_target_3   lib_2  pre-selection  tight_bottle  CCTGGATTTCTGATTT       2.776           0.032         69        1332        359334        1006145          0.5         secondary_target_3                      0  secondary_target_3                   0\n",
       "60865   secondary_target_3   lib_2  pre-selection  tight_bottle  CAGTGGTAATTAAACG       0.853           0.036         68         346        359334        1006145          0.5         secondary_target_3                      0  secondary_target_3                   0\n",
       "60866   secondary_target_3   lib_2  pre-selection  tight_bottle  CTTGTTGTATACTAGC       1.499           0.045         52         415        359334        1006145          0.5         secondary_target_3                      0  secondary_target_3                   0\n",
       "60867   secondary_target_3   lib_2  pre-selection  tight_bottle  ACTGACCATGATAGTC       1.161           0.085         28         178        359334        1006145          0.5         secondary_target_3                      0  secondary_target_3                   0\n",
       "\n",
       "[60868 rows x 16 columns]"
      ]
     },
     "execution_count": 54,
     "metadata": {},
     "output_type": "execute_result"
    }
   ],
   "source": [
    "func_scores.round(3)"
   ]
  },
  {
   "cell_type": "markdown",
   "metadata": {},
   "source": [
    "We can also calculate functional scores at the level of amino-acid or codon\n",
    "substitutions rather than at the level of variants. \n",
    "This calculation groups all\n",
    "variants with the same substitutions before calculating the functional score.\n",
    "Here are scores grouping by amino-acid substitutions; we also set\n",
    "`syn_as_wt=True` to include variants with only synonymous mutations in the\n",
    "counts of wild type in this case:"
   ]
  },
  {
   "cell_type": "code",
   "execution_count": 55,
   "metadata": {
    "attributes": {
     "classes": [],
     "id": "",
     "n": "39"
    }
   },
   "outputs": [
    {
     "data": {
      "text/html": [
       "<div>\n",
       "<style scoped>\n",
       "    .dataframe tbody tr th:only-of-type {\n",
       "        vertical-align: middle;\n",
       "    }\n",
       "\n",
       "    .dataframe tbody tr th {\n",
       "        vertical-align: top;\n",
       "    }\n",
       "\n",
       "    .dataframe thead th {\n",
       "        text-align: right;\n",
       "    }\n",
       "</style>\n",
       "<table border=\"1\" class=\"dataframe\">\n",
       "  <thead>\n",
       "    <tr style=\"text-align: right;\">\n",
       "      <th></th>\n",
       "      <th>target</th>\n",
       "      <th>library</th>\n",
       "      <th>pre_sample</th>\n",
       "      <th>post_sample</th>\n",
       "      <th>aa_substitutions</th>\n",
       "      <th>func_score</th>\n",
       "      <th>func_score_var</th>\n",
       "      <th>pre_count</th>\n",
       "      <th>post_count</th>\n",
       "      <th>pre_count_wt</th>\n",
       "      <th>post_count_wt</th>\n",
       "      <th>pseudocount</th>\n",
       "      <th>n_aa_substitutions</th>\n",
       "    </tr>\n",
       "  </thead>\n",
       "  <tbody>\n",
       "    <tr>\n",
       "      <th>0</th>\n",
       "      <td>primary_target_gene</td>\n",
       "      <td>lib_1</td>\n",
       "      <td>pre-selection</td>\n",
       "      <td>loose_bottle</td>\n",
       "      <td>I17R R29C</td>\n",
       "      <td>-1.061</td>\n",
       "      <td>0.005</td>\n",
       "      <td>692</td>\n",
       "      <td>847</td>\n",
       "      <td>418909</td>\n",
       "      <td>1069961</td>\n",
       "      <td>0.5</td>\n",
       "      <td>2</td>\n",
       "    </tr>\n",
       "    <tr>\n",
       "      <th>1</th>\n",
       "      <td>primary_target_gene</td>\n",
       "      <td>lib_1</td>\n",
       "      <td>pre-selection</td>\n",
       "      <td>loose_bottle</td>\n",
       "      <td>A7S K14D N20R</td>\n",
       "      <td>-3.846</td>\n",
       "      <td>0.022</td>\n",
       "      <td>633</td>\n",
       "      <td>112</td>\n",
       "      <td>418909</td>\n",
       "      <td>1069961</td>\n",
       "      <td>0.5</td>\n",
       "      <td>3</td>\n",
       "    </tr>\n",
       "    <tr>\n",
       "      <th>2</th>\n",
       "      <td>primary_target_gene</td>\n",
       "      <td>lib_1</td>\n",
       "      <td>pre-selection</td>\n",
       "      <td>loose_bottle</td>\n",
       "      <td></td>\n",
       "      <td>0.000</td>\n",
       "      <td>0.000</td>\n",
       "      <td>418909</td>\n",
       "      <td>1069961</td>\n",
       "      <td>418909</td>\n",
       "      <td>1069961</td>\n",
       "      <td>0.5</td>\n",
       "      <td>0</td>\n",
       "    </tr>\n",
       "    <tr>\n",
       "      <th>3</th>\n",
       "      <td>primary_target_gene</td>\n",
       "      <td>lib_1</td>\n",
       "      <td>pre-selection</td>\n",
       "      <td>loose_bottle</td>\n",
       "      <td>R6V D22H</td>\n",
       "      <td>-3.230</td>\n",
       "      <td>0.016</td>\n",
       "      <td>611</td>\n",
       "      <td>166</td>\n",
       "      <td>418909</td>\n",
       "      <td>1069961</td>\n",
       "      <td>0.5</td>\n",
       "      <td>2</td>\n",
       "    </tr>\n",
       "    <tr>\n",
       "      <th>4</th>\n",
       "      <td>primary_target_gene</td>\n",
       "      <td>lib_1</td>\n",
       "      <td>pre-selection</td>\n",
       "      <td>loose_bottle</td>\n",
       "      <td>R1A</td>\n",
       "      <td>0.108</td>\n",
       "      <td>0.002</td>\n",
       "      <td>1863</td>\n",
       "      <td>5129</td>\n",
       "      <td>418909</td>\n",
       "      <td>1069961</td>\n",
       "      <td>0.5</td>\n",
       "      <td>1</td>\n",
       "    </tr>\n",
       "    <tr>\n",
       "      <th>...</th>\n",
       "      <td>...</td>\n",
       "      <td>...</td>\n",
       "      <td>...</td>\n",
       "      <td>...</td>\n",
       "      <td>...</td>\n",
       "      <td>...</td>\n",
       "      <td>...</td>\n",
       "      <td>...</td>\n",
       "      <td>...</td>\n",
       "      <td>...</td>\n",
       "      <td>...</td>\n",
       "      <td>...</td>\n",
       "      <td>...</td>\n",
       "    </tr>\n",
       "    <tr>\n",
       "      <th>35995</th>\n",
       "      <td>primary_target_gene</td>\n",
       "      <td>lib_2</td>\n",
       "      <td>pre-selection</td>\n",
       "      <td>tight_bottle</td>\n",
       "      <td>V3P N21G D22S</td>\n",
       "      <td>-6.523</td>\n",
       "      <td>4.289</td>\n",
       "      <td>16</td>\n",
       "      <td>0</td>\n",
       "      <td>404611</td>\n",
       "      <td>1127329</td>\n",
       "      <td>0.5</td>\n",
       "      <td>3</td>\n",
       "    </tr>\n",
       "    <tr>\n",
       "      <th>35996</th>\n",
       "      <td>primary_target_gene</td>\n",
       "      <td>lib_2</td>\n",
       "      <td>pre-selection</td>\n",
       "      <td>tight_bottle</td>\n",
       "      <td>L5S A7Y I25S</td>\n",
       "      <td>-5.179</td>\n",
       "      <td>4.483</td>\n",
       "      <td>6</td>\n",
       "      <td>0</td>\n",
       "      <td>404611</td>\n",
       "      <td>1127329</td>\n",
       "      <td>0.5</td>\n",
       "      <td>3</td>\n",
       "    </tr>\n",
       "    <tr>\n",
       "      <th>35997</th>\n",
       "      <td>secondary_target_1</td>\n",
       "      <td>lib_2</td>\n",
       "      <td>pre-selection</td>\n",
       "      <td>tight_bottle</td>\n",
       "      <td>secondary_target_1</td>\n",
       "      <td>-0.222</td>\n",
       "      <td>0.000</td>\n",
       "      <td>15119</td>\n",
       "      <td>36129</td>\n",
       "      <td>404611</td>\n",
       "      <td>1127329</td>\n",
       "      <td>0.5</td>\n",
       "      <td>0</td>\n",
       "    </tr>\n",
       "    <tr>\n",
       "      <th>35998</th>\n",
       "      <td>secondary_target_2</td>\n",
       "      <td>lib_2</td>\n",
       "      <td>pre-selection</td>\n",
       "      <td>tight_bottle</td>\n",
       "      <td>secondary_target_2</td>\n",
       "      <td>0.425</td>\n",
       "      <td>0.000</td>\n",
       "      <td>13766</td>\n",
       "      <td>51509</td>\n",
       "      <td>404611</td>\n",
       "      <td>1127329</td>\n",
       "      <td>0.5</td>\n",
       "      <td>0</td>\n",
       "    </tr>\n",
       "    <tr>\n",
       "      <th>35999</th>\n",
       "      <td>secondary_target_3</td>\n",
       "      <td>lib_2</td>\n",
       "      <td>pre-selection</td>\n",
       "      <td>tight_bottle</td>\n",
       "      <td>secondary_target_3</td>\n",
       "      <td>0.746</td>\n",
       "      <td>0.000</td>\n",
       "      <td>10513</td>\n",
       "      <td>49134</td>\n",
       "      <td>404611</td>\n",
       "      <td>1127329</td>\n",
       "      <td>0.5</td>\n",
       "      <td>0</td>\n",
       "    </tr>\n",
       "  </tbody>\n",
       "</table>\n",
       "<p>36000 rows × 13 columns</p>\n",
       "</div>"
      ],
      "text/plain": [
       "                    target library     pre_sample   post_sample    aa_substitutions  func_score  func_score_var  pre_count  post_count  pre_count_wt  post_count_wt  pseudocount  n_aa_substitutions\n",
       "0      primary_target_gene   lib_1  pre-selection  loose_bottle           I17R R29C      -1.061           0.005        692         847        418909        1069961          0.5                   2\n",
       "1      primary_target_gene   lib_1  pre-selection  loose_bottle       A7S K14D N20R      -3.846           0.022        633         112        418909        1069961          0.5                   3\n",
       "2      primary_target_gene   lib_1  pre-selection  loose_bottle                           0.000           0.000     418909     1069961        418909        1069961          0.5                   0\n",
       "3      primary_target_gene   lib_1  pre-selection  loose_bottle            R6V D22H      -3.230           0.016        611         166        418909        1069961          0.5                   2\n",
       "4      primary_target_gene   lib_1  pre-selection  loose_bottle                 R1A       0.108           0.002       1863        5129        418909        1069961          0.5                   1\n",
       "...                    ...     ...            ...           ...                 ...         ...             ...        ...         ...           ...            ...          ...                 ...\n",
       "35995  primary_target_gene   lib_2  pre-selection  tight_bottle       V3P N21G D22S      -6.523           4.289         16           0        404611        1127329          0.5                   3\n",
       "35996  primary_target_gene   lib_2  pre-selection  tight_bottle        L5S A7Y I25S      -5.179           4.483          6           0        404611        1127329          0.5                   3\n",
       "35997   secondary_target_1   lib_2  pre-selection  tight_bottle  secondary_target_1      -0.222           0.000      15119       36129        404611        1127329          0.5                   0\n",
       "35998   secondary_target_2   lib_2  pre-selection  tight_bottle  secondary_target_2       0.425           0.000      13766       51509        404611        1127329          0.5                   0\n",
       "35999   secondary_target_3   lib_2  pre-selection  tight_bottle  secondary_target_3       0.746           0.000      10513       49134        404611        1127329          0.5                   0\n",
       "\n",
       "[36000 rows x 13 columns]"
      ]
     },
     "execution_count": 55,
     "metadata": {},
     "output_type": "execute_result"
    }
   ],
   "source": [
    "aa_func_scores = variants.func_scores('pre-selection',\n",
    "                                      by='aa_substitutions',\n",
    "                                      syn_as_wt=True,\n",
    "                                      libraries=libs)\n",
    "aa_func_scores.round(3)"
   ]
  },
  {
   "cell_type": "markdown",
   "metadata": {},
   "source": [
    "We can plot the distribution of the functional scores for variants.\n",
    "These plots\n",
    "are most informative if we classify variants\n",
    "by the “types” of mutations they\n",
    "have, which we do here using the\n",
    "[CodonVariantTable.classifyVariants](https://jbloomlab.github.io/dms_variants/dms_variants.codonvarianttable.html#dms_variants.codonvarianttable.CodonVariantTable.classifyVariants)\n",
    "method, which adds a  column called `variant_class` to the data frame:"
   ]
  },
  {
   "cell_type": "code",
   "execution_count": 56,
   "metadata": {},
   "outputs": [
    {
     "data": {
      "text/html": [
       "<div>\n",
       "<style scoped>\n",
       "    .dataframe tbody tr th:only-of-type {\n",
       "        vertical-align: middle;\n",
       "    }\n",
       "\n",
       "    .dataframe tbody tr th {\n",
       "        vertical-align: top;\n",
       "    }\n",
       "\n",
       "    .dataframe thead th {\n",
       "        text-align: right;\n",
       "    }\n",
       "</style>\n",
       "<table border=\"1\" class=\"dataframe\">\n",
       "  <thead>\n",
       "    <tr style=\"text-align: right;\">\n",
       "      <th></th>\n",
       "      <th>target</th>\n",
       "      <th>codon_substitutions</th>\n",
       "      <th>aa_substitutions</th>\n",
       "      <th>variant_class</th>\n",
       "    </tr>\n",
       "  </thead>\n",
       "  <tbody>\n",
       "    <tr>\n",
       "      <th>0</th>\n",
       "      <td>primary_target_gene</td>\n",
       "      <td>ATC17CGA CGG29TGC</td>\n",
       "      <td>I17R R29C</td>\n",
       "      <td>&gt;1 nonsynonymous</td>\n",
       "    </tr>\n",
       "    <tr>\n",
       "      <th>1</th>\n",
       "      <td>primary_target_gene</td>\n",
       "      <td>GCT7TCT AAA14GAT AAC20CGA</td>\n",
       "      <td>A7S K14D N20R</td>\n",
       "      <td>&gt;1 nonsynonymous</td>\n",
       "    </tr>\n",
       "    <tr>\n",
       "      <th>2</th>\n",
       "      <td>primary_target_gene</td>\n",
       "      <td></td>\n",
       "      <td></td>\n",
       "      <td>wildtype</td>\n",
       "    </tr>\n",
       "    <tr>\n",
       "      <th>3</th>\n",
       "      <td>primary_target_gene</td>\n",
       "      <td>TTA18CTC</td>\n",
       "      <td></td>\n",
       "      <td>synonymous</td>\n",
       "    </tr>\n",
       "    <tr>\n",
       "      <th>4</th>\n",
       "      <td>primary_target_gene</td>\n",
       "      <td>CGT6GTA GAC22CAC</td>\n",
       "      <td>R6V D22H</td>\n",
       "      <td>&gt;1 nonsynonymous</td>\n",
       "    </tr>\n",
       "    <tr>\n",
       "      <th>...</th>\n",
       "      <td>...</td>\n",
       "      <td>...</td>\n",
       "      <td>...</td>\n",
       "      <td>...</td>\n",
       "    </tr>\n",
       "    <tr>\n",
       "      <th>60863</th>\n",
       "      <td>secondary_target_3</td>\n",
       "      <td>secondary_target_3</td>\n",
       "      <td>secondary_target_3</td>\n",
       "      <td>wildtype</td>\n",
       "    </tr>\n",
       "    <tr>\n",
       "      <th>60864</th>\n",
       "      <td>secondary_target_3</td>\n",
       "      <td>secondary_target_3</td>\n",
       "      <td>secondary_target_3</td>\n",
       "      <td>wildtype</td>\n",
       "    </tr>\n",
       "    <tr>\n",
       "      <th>60865</th>\n",
       "      <td>secondary_target_3</td>\n",
       "      <td>secondary_target_3</td>\n",
       "      <td>secondary_target_3</td>\n",
       "      <td>wildtype</td>\n",
       "    </tr>\n",
       "    <tr>\n",
       "      <th>60866</th>\n",
       "      <td>secondary_target_3</td>\n",
       "      <td>secondary_target_3</td>\n",
       "      <td>secondary_target_3</td>\n",
       "      <td>wildtype</td>\n",
       "    </tr>\n",
       "    <tr>\n",
       "      <th>60867</th>\n",
       "      <td>secondary_target_3</td>\n",
       "      <td>secondary_target_3</td>\n",
       "      <td>secondary_target_3</td>\n",
       "      <td>wildtype</td>\n",
       "    </tr>\n",
       "  </tbody>\n",
       "</table>\n",
       "<p>60868 rows × 4 columns</p>\n",
       "</div>"
      ],
      "text/plain": [
       "                    target        codon_substitutions    aa_substitutions     variant_class\n",
       "0      primary_target_gene          ATC17CGA CGG29TGC           I17R R29C  >1 nonsynonymous\n",
       "1      primary_target_gene  GCT7TCT AAA14GAT AAC20CGA       A7S K14D N20R  >1 nonsynonymous\n",
       "2      primary_target_gene                                                         wildtype\n",
       "3      primary_target_gene                   TTA18CTC                            synonymous\n",
       "4      primary_target_gene           CGT6GTA GAC22CAC            R6V D22H  >1 nonsynonymous\n",
       "...                    ...                        ...                 ...               ...\n",
       "60863   secondary_target_3         secondary_target_3  secondary_target_3          wildtype\n",
       "60864   secondary_target_3         secondary_target_3  secondary_target_3          wildtype\n",
       "60865   secondary_target_3         secondary_target_3  secondary_target_3          wildtype\n",
       "60866   secondary_target_3         secondary_target_3  secondary_target_3          wildtype\n",
       "60867   secondary_target_3         secondary_target_3  secondary_target_3          wildtype\n",
       "\n",
       "[60868 rows x 4 columns]"
      ]
     },
     "execution_count": 56,
     "metadata": {},
     "output_type": "execute_result"
    }
   ],
   "source": [
    "func_scores = dms_variants.codonvarianttable.CodonVariantTable.classifyVariants(func_scores)\n",
    "\n",
    "(func_scores\n",
    " [['target', 'codon_substitutions','aa_substitutions', 'variant_class']]\n",
    " )"
   ]
  },
  {
   "cell_type": "markdown",
   "metadata": {},
   "source": [
    "Now we use [plotnine](https://plotnine.readthedocs.io) to plot the distributions\n",
    "of scores in ggplot2-like syntax, coloring by the variant class.\n",
    "This plot shows\n",
    "the expected behavior for different variant classes; for instance, stop codon\n",
    "variants tend to have low scores and synonymous variants tend to have wildtype-like (near 0) scores.\n",
    "We only plot this for the primary target.\n",
    "As expected, there is more noise with a tighter bottleneck:"
   ]
  },
  {
   "cell_type": "code",
   "execution_count": 57,
   "metadata": {},
   "outputs": [
    {
     "data": {
      "image/png": "[encoded data removed]",
      "text/plain": [
       "<Figure size 550x400 with 4 Axes>"
      ]
     },
     "metadata": {
      "needs_background": "light"
     },
     "output_type": "display_data"
    }
   ],
   "source": [
    "p = (\n",
    "    ggplot(func_scores.query('target == @primary_target'),\n",
    "           aes('variant_class', 'func_score')) +\n",
    "    geom_violin(aes(fill='variant_class')) +\n",
    "    ylab('functional score') +\n",
    "    xlab('') +\n",
    "    facet_grid('post_sample ~ library') +\n",
    "    theme(figure_size=(2.75 * len(libs), \n",
    "                       2 * len(bottlenecks)),\n",
    "          axis_text_x=element_text(angle=90),\n",
    "          panel_grid_major_x=element_blank(),  # no vertical grid lines\n",
    "          ) +\n",
    "    scale_fill_manual(values=CBPALETTE[1:], guide=False)\n",
    "    )\n",
    "_ = p.draw()"
   ]
  }
 ],
 "metadata": {
  "kernelspec": {
   "display_name": "Python 3",
   "language": "python",
   "name": "python3"
  },
  "language_info": {
   "codemirror_mode": {
    "name": "ipython",
    "version": 3
   },
   "file_extension": ".py",
   "mimetype": "text/x-python",
   "name": "python",
   "nbconvert_exporter": "python",
   "pygments_lexer": "ipython3",
   "version": "3.6.7"
  },
  "toc": {
   "base_numbering": 1,
   "nav_menu": {},
   "number_sections": false,
   "sideBar": true,
   "skip_h1_title": false,
   "title_cell": "Table of Contents",
   "title_sidebar": "Contents",
   "toc_cell": false,
   "toc_position": {
    "height": "844.4px",
    "left": "0px",
    "right": "1281.8px",
    "top": "111.6px",
    "width": "226.2px"
   },
   "toc_section_display": true,
   "toc_window_display": true
  }
 },
 "nbformat": 4,
 "nbformat_minor": 4
}
