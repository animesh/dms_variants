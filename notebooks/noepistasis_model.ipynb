{
 "cells": [
  {
   "cell_type": "markdown",
   "metadata": {},
   "source": [
    "# `NoEpistasis` model\n",
    "Simulates some variants and analyzes them under the `globalepistasis.NoEpistasis` model.\n",
    "\n",
    "This notebook is designed as a test, not for user documentation--and it uses some private methods that should not be used in real analyses."
   ]
  },
  {
   "cell_type": "markdown",
   "metadata": {},
   "source": [
    "## Set up\n",
    "Import Python modules:"
   ]
  },
  {
   "cell_type": "code",
   "execution_count": 1,
   "metadata": {},
   "outputs": [],
   "source": [
    "import math\n",
    "import random\n",
    "import time\n",
    "import warnings\n",
    "\n",
    "import pandas as pd\n",
    "\n",
    "from plotnine import *\n",
    "\n",
    "import scipy\n",
    "\n",
    "import dms_variants.binarymap\n",
    "import dms_variants.globalepistasis\n",
    "import dms_variants.codonvarianttable\n",
    "import dms_variants.plotnine_themes\n",
    "import dms_variants.simulate\n",
    "from dms_variants.constants import CBPALETTE, CODONS_NOSTOP"
   ]
  },
  {
   "cell_type": "markdown",
   "metadata": {},
   "source": [
    "Parameters for simulations:"
   ]
  },
  {
   "cell_type": "code",
   "execution_count": 2,
   "metadata": {},
   "outputs": [],
   "source": [
    "seed = 1  # random number seed\n",
    "genelength = 25  # gene length in codons\n",
    "bclen = 16  # length of barcodes\n",
    "libs = ['lib_1', 'lib_2']  # distinct libraries of gene\n",
    "variants_per_lib = 500 * genelength  # variants per library\n",
    "avgmuts = 2.5  # average codon mutations per variant\n",
    "variant_error_rate = 0  # rate variants are mis-sequenced\n",
    "depth = 1000 * variants_per_lib  # per-sample sequencing depth\n",
    "lib_uniformity = 5  # uniformity of library pre-selection\n",
    "noise = 0.0  # non-statistical noise in selections\n",
    "bottlenecks = {  # bottlenecks from pre- to post-selection\n",
    "        'tight_bottle': variants_per_lib * 5,\n",
    "        'loose_bottle': variants_per_lib * 1000,\n",
    "        }"
   ]
  },
  {
   "cell_type": "markdown",
   "metadata": {},
   "source": [
    "Seed random number generators:"
   ]
  },
  {
   "cell_type": "code",
   "execution_count": 3,
   "metadata": {},
   "outputs": [],
   "source": [
    "random.seed(seed)\n",
    "scipy.random.seed(seed)"
   ]
  },
  {
   "cell_type": "markdown",
   "metadata": {},
   "source": [
    "Suppress warnings that clutter output:"
   ]
  },
  {
   "cell_type": "code",
   "execution_count": 4,
   "metadata": {},
   "outputs": [],
   "source": [
    "warnings.simplefilter('ignore')"
   ]
  },
  {
   "cell_type": "markdown",
   "metadata": {},
   "source": [
    "Set plotnine theme:"
   ]
  },
  {
   "cell_type": "code",
   "execution_count": 5,
   "metadata": {},
   "outputs": [],
   "source": [
    "theme_set(dms_variants.plotnine_themes.theme_graygrid())"
   ]
  },
  {
   "cell_type": "markdown",
   "metadata": {},
   "source": [
    "## Simulate variants\n",
    "Simulate wildtype gene sequence:"
   ]
  },
  {
   "cell_type": "code",
   "execution_count": 6,
   "metadata": {},
   "outputs": [
    {
     "name": "stdout",
     "output_type": "stream",
     "text": [
      "Wildtype gene of 25 codons:\n",
      "AGATCCGTGATTCTGCGTGCTTACACCAACTCACGGGTGAAACGTGTAATCTTATGCAACAACGACTTACCTATC\n"
     ]
    }
   ],
   "source": [
    "geneseq = ''.join(random.choices(CODONS_NOSTOP, k=genelength))\n",
    "print(f\"Wildtype gene of {genelength} codons:\\n{geneseq}\")"
   ]
  },
  {
   "cell_type": "markdown",
   "metadata": {},
   "source": [
    "Simulate a `CodonVariantTable`:"
   ]
  },
  {
   "cell_type": "code",
   "execution_count": 7,
   "metadata": {},
   "outputs": [],
   "source": [
    "variants = dms_variants.simulate.simulate_CodonVariantTable(\n",
    "                geneseq=geneseq,\n",
    "                bclen=bclen,\n",
    "                library_specs={lib: {'avgmuts': avgmuts,\n",
    "                                     'nvariants': variants_per_lib}\n",
    "                               for lib in libs},\n",
    "                seed=seed,\n",
    "                )"
   ]
  },
  {
   "cell_type": "markdown",
   "metadata": {},
   "source": [
    "Number of amino-acid mutations per variant in library:"
   ]
  },
  {
   "cell_type": "code",
   "execution_count": 8,
   "metadata": {},
   "outputs": [
    {
     "data": {
      "image/png": "[encoded data removed]",
      "text/plain": [
       "<Figure size 550x210 with 3 Axes>"
      ]
     },
     "metadata": {
      "needs_background": "light"
     },
     "output_type": "display_data"
    }
   ],
   "source": [
    "p = variants.plotNumMutsHistogram('aa', samples=None, max_muts=8)\n",
    "p = p + theme(panel_grid_major_x=element_blank())  # no vertical grid lines\n",
    "_ = p.draw()"
   ]
  },
  {
   "cell_type": "markdown",
   "metadata": {},
   "source": [
    "## Simulate variants\n",
    "We will simulate using a `SigmoidPhenotypeSimulator`:"
   ]
  },
  {
   "cell_type": "code",
   "execution_count": 9,
   "metadata": {},
   "outputs": [],
   "source": [
    "phenosimulator = dms_variants.simulate.SigmoidPhenotypeSimulator(\n",
    "                    geneseq,\n",
    "                    seed=seed,\n",
    "                    norm_weights=((0.4, -0.5, 0.7), (0.6, -5, 1.5)),\n",
    "                    )"
   ]
  },
  {
   "cell_type": "markdown",
   "metadata": {},
   "source": [
    "But since we are using a non-epistatic (linear model), we will simulate variants according to the *latent phenotype* rather than their *observed phenotype* (since in a non-epistatic model these two are the same).\n",
    "First, look at the distribution of latent phenotypes for all single mutants (the dashed orange line is the latent phenotype of wildtype):"
   ]
  },
  {
   "cell_type": "code",
   "execution_count": 10,
   "metadata": {},
   "outputs": [
    {
     "data": {
      "image/png": "[encoded data removed]",
      "text/plain": [
       "<Figure size 350x250 with 1 Axes>"
      ]
     },
     "metadata": {
      "needs_background": "light"
     },
     "output_type": "display_data"
    }
   ],
   "source": [
    "p = phenosimulator.plotMutsHistogram('latent')\n",
    "_ = p.draw()"
   ]
  },
  {
   "cell_type": "markdown",
   "metadata": {},
   "source": [
    "Our simulation function is then the exponential of the latent phenotype, as mutants as the functional scores represent the log enrichment:"
   ]
  },
  {
   "cell_type": "code",
   "execution_count": 11,
   "metadata": {},
   "outputs": [],
   "source": [
    "def phenotype_func(x):\n",
    "    return math.exp(phenosimulator.latentPhenotype(x))"
   ]
  },
  {
   "cell_type": "markdown",
   "metadata": {},
   "source": [
    "Now we simulate the counts, passing to the simulate function the latent rather than observed phenotype:"
   ]
  },
  {
   "cell_type": "code",
   "execution_count": 12,
   "metadata": {},
   "outputs": [],
   "source": [
    "counts = dms_variants.simulate.simulateSampleCounts(\n",
    "            variants=variants,\n",
    "            phenotype_func=phenotype_func,\n",
    "            variant_error_rate=variant_error_rate,\n",
    "            pre_sample={'total_count': depth,\n",
    "                        'uniformity': lib_uniformity},\n",
    "            pre_sample_name='pre-selection',\n",
    "            post_samples={name: {'noise': noise,\n",
    "                                 'total_count': depth,\n",
    "                                 'bottleneck': bottle}\n",
    "                          for name, bottle in bottlenecks.items()},\n",
    "            seed=seed,\n",
    "            )"
   ]
  },
  {
   "cell_type": "markdown",
   "metadata": {},
   "source": [
    "Add the counts to the variant table:"
   ]
  },
  {
   "cell_type": "code",
   "execution_count": 13,
   "metadata": {},
   "outputs": [],
   "source": [
    "variants.add_sample_counts_df(counts)"
   ]
  },
  {
   "cell_type": "markdown",
   "metadata": {},
   "source": [
    "Confirm expected selection on mutations:"
   ]
  },
  {
   "cell_type": "code",
   "execution_count": 14,
   "metadata": {},
   "outputs": [
    {
     "data": {
      "image/png": "[encoded data removed]",
      "text/plain": [
       "<Figure size 520x490 with 9 Axes>"
      ]
     },
     "metadata": {
      "needs_background": "light"
     },
     "output_type": "display_data"
    }
   ],
   "source": [
    "p = variants.plotNumCodonMutsByType('all')\n",
    "p = p + theme(panel_grid_major_x=element_blank())  # no vertical grid lines\n",
    "_ = p.draw()"
   ]
  },
  {
   "cell_type": "code",
   "execution_count": 15,
   "metadata": {},
   "outputs": [
    {
     "data": {
      "text/html": [
       "<div>\n",
       "<style scoped>\n",
       "    .dataframe tbody tr th:only-of-type {\n",
       "        vertical-align: middle;\n",
       "    }\n",
       "\n",
       "    .dataframe tbody tr th {\n",
       "        vertical-align: top;\n",
       "    }\n",
       "\n",
       "    .dataframe thead th {\n",
       "        text-align: right;\n",
       "    }\n",
       "</style>\n",
       "<table border=\"1\" class=\"dataframe\">\n",
       "  <thead>\n",
       "    <tr style=\"text-align: right;\">\n",
       "      <th></th>\n",
       "      <th>library</th>\n",
       "      <th>sample</th>\n",
       "      <th>mutation_type</th>\n",
       "      <th>num_muts_count</th>\n",
       "      <th>count</th>\n",
       "      <th>number</th>\n",
       "    </tr>\n",
       "  </thead>\n",
       "  <tbody>\n",
       "    <tr>\n",
       "      <td>0</td>\n",
       "      <td>lib_1</td>\n",
       "      <td>pre-selection</td>\n",
       "      <td>nonsynonymous</td>\n",
       "      <td>28149864</td>\n",
       "      <td>12500000</td>\n",
       "      <td>2.251989</td>\n",
       "    </tr>\n",
       "    <tr>\n",
       "      <td>1</td>\n",
       "      <td>lib_1</td>\n",
       "      <td>pre-selection</td>\n",
       "      <td>synonymous</td>\n",
       "      <td>1527283</td>\n",
       "      <td>12500000</td>\n",
       "      <td>0.122183</td>\n",
       "    </tr>\n",
       "    <tr>\n",
       "      <td>2</td>\n",
       "      <td>lib_1</td>\n",
       "      <td>pre-selection</td>\n",
       "      <td>stop</td>\n",
       "      <td>1479183</td>\n",
       "      <td>12500000</td>\n",
       "      <td>0.118335</td>\n",
       "    </tr>\n",
       "    <tr>\n",
       "      <td>3</td>\n",
       "      <td>lib_1</td>\n",
       "      <td>loose_bottle</td>\n",
       "      <td>nonsynonymous</td>\n",
       "      <td>8260246</td>\n",
       "      <td>12500000</td>\n",
       "      <td>0.660820</td>\n",
       "    </tr>\n",
       "    <tr>\n",
       "      <td>4</td>\n",
       "      <td>lib_1</td>\n",
       "      <td>loose_bottle</td>\n",
       "      <td>synonymous</td>\n",
       "      <td>1507526</td>\n",
       "      <td>12500000</td>\n",
       "      <td>0.120602</td>\n",
       "    </tr>\n",
       "    <tr>\n",
       "      <td>5</td>\n",
       "      <td>lib_1</td>\n",
       "      <td>loose_bottle</td>\n",
       "      <td>stop</td>\n",
       "      <td>71</td>\n",
       "      <td>12500000</td>\n",
       "      <td>0.000006</td>\n",
       "    </tr>\n",
       "    <tr>\n",
       "      <td>6</td>\n",
       "      <td>lib_1</td>\n",
       "      <td>tight_bottle</td>\n",
       "      <td>nonsynonymous</td>\n",
       "      <td>8189504</td>\n",
       "      <td>12500000</td>\n",
       "      <td>0.655160</td>\n",
       "    </tr>\n",
       "    <tr>\n",
       "      <td>7</td>\n",
       "      <td>lib_1</td>\n",
       "      <td>tight_bottle</td>\n",
       "      <td>synonymous</td>\n",
       "      <td>1504221</td>\n",
       "      <td>12500000</td>\n",
       "      <td>0.120338</td>\n",
       "    </tr>\n",
       "    <tr>\n",
       "      <td>8</td>\n",
       "      <td>lib_1</td>\n",
       "      <td>tight_bottle</td>\n",
       "      <td>stop</td>\n",
       "      <td>68</td>\n",
       "      <td>12500000</td>\n",
       "      <td>0.000005</td>\n",
       "    </tr>\n",
       "    <tr>\n",
       "      <td>9</td>\n",
       "      <td>lib_2</td>\n",
       "      <td>pre-selection</td>\n",
       "      <td>nonsynonymous</td>\n",
       "      <td>27971269</td>\n",
       "      <td>12500000</td>\n",
       "      <td>2.237702</td>\n",
       "    </tr>\n",
       "    <tr>\n",
       "      <td>10</td>\n",
       "      <td>lib_2</td>\n",
       "      <td>pre-selection</td>\n",
       "      <td>synonymous</td>\n",
       "      <td>1498128</td>\n",
       "      <td>12500000</td>\n",
       "      <td>0.119850</td>\n",
       "    </tr>\n",
       "    <tr>\n",
       "      <td>11</td>\n",
       "      <td>lib_2</td>\n",
       "      <td>pre-selection</td>\n",
       "      <td>stop</td>\n",
       "      <td>1508271</td>\n",
       "      <td>12500000</td>\n",
       "      <td>0.120662</td>\n",
       "    </tr>\n",
       "    <tr>\n",
       "      <td>12</td>\n",
       "      <td>lib_2</td>\n",
       "      <td>loose_bottle</td>\n",
       "      <td>nonsynonymous</td>\n",
       "      <td>8295722</td>\n",
       "      <td>12500000</td>\n",
       "      <td>0.663658</td>\n",
       "    </tr>\n",
       "    <tr>\n",
       "      <td>13</td>\n",
       "      <td>lib_2</td>\n",
       "      <td>loose_bottle</td>\n",
       "      <td>synonymous</td>\n",
       "      <td>1607251</td>\n",
       "      <td>12500000</td>\n",
       "      <td>0.128580</td>\n",
       "    </tr>\n",
       "    <tr>\n",
       "      <td>14</td>\n",
       "      <td>lib_2</td>\n",
       "      <td>loose_bottle</td>\n",
       "      <td>stop</td>\n",
       "      <td>77</td>\n",
       "      <td>12500000</td>\n",
       "      <td>0.000006</td>\n",
       "    </tr>\n",
       "    <tr>\n",
       "      <td>15</td>\n",
       "      <td>lib_2</td>\n",
       "      <td>tight_bottle</td>\n",
       "      <td>nonsynonymous</td>\n",
       "      <td>8018464</td>\n",
       "      <td>12500000</td>\n",
       "      <td>0.641477</td>\n",
       "    </tr>\n",
       "    <tr>\n",
       "      <td>16</td>\n",
       "      <td>lib_2</td>\n",
       "      <td>tight_bottle</td>\n",
       "      <td>synonymous</td>\n",
       "      <td>1644058</td>\n",
       "      <td>12500000</td>\n",
       "      <td>0.131525</td>\n",
       "    </tr>\n",
       "    <tr>\n",
       "      <td>17</td>\n",
       "      <td>lib_2</td>\n",
       "      <td>tight_bottle</td>\n",
       "      <td>stop</td>\n",
       "      <td>88</td>\n",
       "      <td>12500000</td>\n",
       "      <td>0.000007</td>\n",
       "    </tr>\n",
       "    <tr>\n",
       "      <td>18</td>\n",
       "      <td>all libraries</td>\n",
       "      <td>pre-selection</td>\n",
       "      <td>nonsynonymous</td>\n",
       "      <td>56121133</td>\n",
       "      <td>25000000</td>\n",
       "      <td>2.244845</td>\n",
       "    </tr>\n",
       "    <tr>\n",
       "      <td>19</td>\n",
       "      <td>all libraries</td>\n",
       "      <td>pre-selection</td>\n",
       "      <td>synonymous</td>\n",
       "      <td>3025411</td>\n",
       "      <td>25000000</td>\n",
       "      <td>0.121016</td>\n",
       "    </tr>\n",
       "    <tr>\n",
       "      <td>20</td>\n",
       "      <td>all libraries</td>\n",
       "      <td>pre-selection</td>\n",
       "      <td>stop</td>\n",
       "      <td>2987454</td>\n",
       "      <td>25000000</td>\n",
       "      <td>0.119498</td>\n",
       "    </tr>\n",
       "    <tr>\n",
       "      <td>21</td>\n",
       "      <td>all libraries</td>\n",
       "      <td>loose_bottle</td>\n",
       "      <td>nonsynonymous</td>\n",
       "      <td>16555968</td>\n",
       "      <td>25000000</td>\n",
       "      <td>0.662239</td>\n",
       "    </tr>\n",
       "    <tr>\n",
       "      <td>22</td>\n",
       "      <td>all libraries</td>\n",
       "      <td>loose_bottle</td>\n",
       "      <td>synonymous</td>\n",
       "      <td>3114777</td>\n",
       "      <td>25000000</td>\n",
       "      <td>0.124591</td>\n",
       "    </tr>\n",
       "    <tr>\n",
       "      <td>23</td>\n",
       "      <td>all libraries</td>\n",
       "      <td>loose_bottle</td>\n",
       "      <td>stop</td>\n",
       "      <td>148</td>\n",
       "      <td>25000000</td>\n",
       "      <td>0.000006</td>\n",
       "    </tr>\n",
       "    <tr>\n",
       "      <td>24</td>\n",
       "      <td>all libraries</td>\n",
       "      <td>tight_bottle</td>\n",
       "      <td>nonsynonymous</td>\n",
       "      <td>16207968</td>\n",
       "      <td>25000000</td>\n",
       "      <td>0.648319</td>\n",
       "    </tr>\n",
       "    <tr>\n",
       "      <td>25</td>\n",
       "      <td>all libraries</td>\n",
       "      <td>tight_bottle</td>\n",
       "      <td>synonymous</td>\n",
       "      <td>3148279</td>\n",
       "      <td>25000000</td>\n",
       "      <td>0.125931</td>\n",
       "    </tr>\n",
       "    <tr>\n",
       "      <td>26</td>\n",
       "      <td>all libraries</td>\n",
       "      <td>tight_bottle</td>\n",
       "      <td>stop</td>\n",
       "      <td>156</td>\n",
       "      <td>25000000</td>\n",
       "      <td>0.000006</td>\n",
       "    </tr>\n",
       "  </tbody>\n",
       "</table>\n",
       "</div>"
      ],
      "text/plain": [
       "          library         sample  mutation_type  num_muts_count     count  \\\n",
       "0           lib_1  pre-selection  nonsynonymous        28149864  12500000   \n",
       "1           lib_1  pre-selection     synonymous         1527283  12500000   \n",
       "2           lib_1  pre-selection           stop         1479183  12500000   \n",
       "3           lib_1   loose_bottle  nonsynonymous         8260246  12500000   \n",
       "4           lib_1   loose_bottle     synonymous         1507526  12500000   \n",
       "5           lib_1   loose_bottle           stop              71  12500000   \n",
       "6           lib_1   tight_bottle  nonsynonymous         8189504  12500000   \n",
       "7           lib_1   tight_bottle     synonymous         1504221  12500000   \n",
       "8           lib_1   tight_bottle           stop              68  12500000   \n",
       "9           lib_2  pre-selection  nonsynonymous        27971269  12500000   \n",
       "10          lib_2  pre-selection     synonymous         1498128  12500000   \n",
       "11          lib_2  pre-selection           stop         1508271  12500000   \n",
       "12          lib_2   loose_bottle  nonsynonymous         8295722  12500000   \n",
       "13          lib_2   loose_bottle     synonymous         1607251  12500000   \n",
       "14          lib_2   loose_bottle           stop              77  12500000   \n",
       "15          lib_2   tight_bottle  nonsynonymous         8018464  12500000   \n",
       "16          lib_2   tight_bottle     synonymous         1644058  12500000   \n",
       "17          lib_2   tight_bottle           stop              88  12500000   \n",
       "18  all libraries  pre-selection  nonsynonymous        56121133  25000000   \n",
       "19  all libraries  pre-selection     synonymous         3025411  25000000   \n",
       "20  all libraries  pre-selection           stop         2987454  25000000   \n",
       "21  all libraries   loose_bottle  nonsynonymous        16555968  25000000   \n",
       "22  all libraries   loose_bottle     synonymous         3114777  25000000   \n",
       "23  all libraries   loose_bottle           stop             148  25000000   \n",
       "24  all libraries   tight_bottle  nonsynonymous        16207968  25000000   \n",
       "25  all libraries   tight_bottle     synonymous         3148279  25000000   \n",
       "26  all libraries   tight_bottle           stop             156  25000000   \n",
       "\n",
       "      number  \n",
       "0   2.251989  \n",
       "1   0.122183  \n",
       "2   0.118335  \n",
       "3   0.660820  \n",
       "4   0.120602  \n",
       "5   0.000006  \n",
       "6   0.655160  \n",
       "7   0.120338  \n",
       "8   0.000005  \n",
       "9   2.237702  \n",
       "10  0.119850  \n",
       "11  0.120662  \n",
       "12  0.663658  \n",
       "13  0.128580  \n",
       "14  0.000006  \n",
       "15  0.641477  \n",
       "16  0.131525  \n",
       "17  0.000007  \n",
       "18  2.244845  \n",
       "19  0.121016  \n",
       "20  0.119498  \n",
       "21  0.662239  \n",
       "22  0.124591  \n",
       "23  0.000006  \n",
       "24  0.648319  \n",
       "25  0.125931  \n",
       "26  0.000006  "
      ]
     },
     "execution_count": 15,
     "metadata": {},
     "output_type": "execute_result"
    }
   ],
   "source": [
    "variants.numCodonMutsByType('all')"
   ]
  },
  {
   "cell_type": "code",
   "execution_count": 16,
   "metadata": {},
   "outputs": [
    {
     "data": {
      "image/png": "[encoded data removed]",
      "text/plain": [
       "<Figure size 700x380 with 9 Axes>"
      ]
     },
     "metadata": {
      "needs_background": "light"
     },
     "output_type": "display_data"
    }
   ],
   "source": [
    "p = variants.plotMutFreqs('all', 'aa')\n",
    "p = p + theme(panel_grid_major_x=element_blank())  # no vertical grid lines\n",
    "_ = p.draw()"
   ]
  },
  {
   "cell_type": "markdown",
   "metadata": {},
   "source": [
    "## Get functional scores\n",
    "Get the functional scores:"
   ]
  },
  {
   "cell_type": "code",
   "execution_count": 17,
   "metadata": {},
   "outputs": [],
   "source": [
    "func_scores = variants.func_scores('pre-selection', libraries=variants.libraries)"
   ]
  },
  {
   "cell_type": "markdown",
   "metadata": {},
   "source": [
    "Classify the functional scores:"
   ]
  },
  {
   "cell_type": "code",
   "execution_count": 18,
   "metadata": {},
   "outputs": [],
   "source": [
    "func_scores = variants.classifyVariants(func_scores)"
   ]
  },
  {
   "cell_type": "markdown",
   "metadata": {},
   "source": [
    "Use `plotnine` to plot distribution of functional scores:"
   ]
  },
  {
   "cell_type": "code",
   "execution_count": 19,
   "metadata": {},
   "outputs": [
    {
     "data": {
      "image/png": "[encoded data removed]",
      "text/plain": [
       "<Figure size 550x400 with 4 Axes>"
      ]
     },
     "metadata": {
      "needs_background": "light"
     },
     "output_type": "display_data"
    }
   ],
   "source": [
    "p = (\n",
    "    ggplot(func_scores, aes('variant_class', 'func_score')) +\n",
    "    geom_violin(aes(fill='variant_class')) +\n",
    "    ylab('functional score') +\n",
    "    xlab('') +\n",
    "    facet_grid('post_sample ~ library') +\n",
    "    theme(figure_size=(2.75 * len(libs),\n",
    "                       2 * len(bottlenecks)),\n",
    "          axis_text_x=element_text(angle=90),\n",
    "          panel_grid_major_x=element_blank(),  # no vertical grid lines\n",
    "          ) +\n",
    "    scale_fill_manual(values=CBPALETTE[1 :], guide=False)\n",
    "    )\n",
    "_ = p.draw()"
   ]
  },
  {
   "cell_type": "markdown",
   "metadata": {},
   "source": [
    "## Initialize `NoEpistasis` model"
   ]
  },
  {
   "cell_type": "markdown",
   "metadata": {},
   "source": [
    "Focus just on loose bottleneck for now:"
   ]
  },
  {
   "cell_type": "code",
   "execution_count": 20,
   "metadata": {},
   "outputs": [],
   "source": [
    "func_scores = func_scores.query('post_sample == \"loose_bottle\"')"
   ]
  },
  {
   "cell_type": "markdown",
   "metadata": {},
   "source": [
    "Make a binary map for the variants:"
   ]
  },
  {
   "cell_type": "code",
   "execution_count": 21,
   "metadata": {},
   "outputs": [
    {
     "name": "stdout",
     "output_type": "stream",
     "text": [
      "Length of binary map is 500\n"
     ]
    }
   ],
   "source": [
    "binarymap = dms_variants.binarymap.BinaryMap(func_scores)\n",
    "print(f\"Length of binary map is {binarymap.binarylength}\")"
   ]
  },
  {
   "cell_type": "markdown",
   "metadata": {},
   "source": [
    "Now initialize the `NoEpistasis` model:"
   ]
  },
  {
   "cell_type": "code",
   "execution_count": 22,
   "metadata": {},
   "outputs": [],
   "source": [
    "noepistasis_model = dms_variants.globalepistasis.NoEpistasis(binarymap)"
   ]
  },
  {
   "cell_type": "markdown",
   "metadata": {},
   "source": [
    "Look at some model attributes:"
   ]
  },
  {
   "cell_type": "code",
   "execution_count": 23,
   "metadata": {},
   "outputs": [
    {
     "data": {
      "text/plain": [
       "502"
      ]
     },
     "execution_count": 23,
     "metadata": {},
     "output_type": "execute_result"
    }
   ],
   "source": [
    "noepistasis_model.nparams"
   ]
  },
  {
   "cell_type": "code",
   "execution_count": 24,
   "metadata": {},
   "outputs": [
    {
     "data": {
      "text/plain": [
       "1.0"
      ]
     },
     "execution_count": 24,
     "metadata": {},
     "output_type": "execute_result"
    }
   ],
   "source": [
    "noepistasis_model.epistasis_HOC"
   ]
  },
  {
   "cell_type": "code",
   "execution_count": 25,
   "metadata": {},
   "outputs": [
    {
     "data": {
      "text/plain": [
       "-455144.0"
      ]
     },
     "execution_count": 25,
     "metadata": {},
     "output_type": "execute_result"
    }
   ],
   "source": [
    "round(noepistasis_model.loglik)"
   ]
  },
  {
   "cell_type": "code",
   "execution_count": 26,
   "metadata": {},
   "outputs": [
    {
     "data": {
      "text/plain": [
       "0.0"
      ]
     },
     "execution_count": 26,
     "metadata": {},
     "output_type": "execute_result"
    }
   ],
   "source": [
    "noepistasis_model.latent_phenotype_wt"
   ]
  },
  {
   "cell_type": "markdown",
   "metadata": {},
   "source": [
    "Check the analytical gradient versus numerical approximation, and make sure the difference is small compared to total gradient:"
   ]
  },
  {
   "cell_type": "code",
   "execution_count": 27,
   "metadata": {},
   "outputs": [],
   "source": [
    "err = scipy.optimize.check_grad(\n",
    "            noepistasis_model._loglik_by_allparams,\n",
    "            noepistasis_model._dloglik_by_allparams,\n",
    "            noepistasis_model._allparams)\n",
    "tot = math.sqrt(sum(noepistasis_model._dloglik_by_allparams(noepistasis_model._allparams)**2))\n",
    "if err / tot > 1e-5:\n",
    "    raise ValueError(f\"Numerical and analytical gradients differ: {err}, {tot}, {err / tot}\")"
   ]
  },
  {
   "cell_type": "markdown",
   "metadata": {},
   "source": [
    "## Initial least squares fitting\n",
    "Perform initial least squares optimization (normally this is actually performed by the `fit` method):"
   ]
  },
  {
   "cell_type": "code",
   "execution_count": 28,
   "metadata": {},
   "outputs": [],
   "source": [
    "noepistasis_model._fit_latent_leastsquares()"
   ]
  },
  {
   "cell_type": "markdown",
   "metadata": {},
   "source": [
    "Re-check the gradients:"
   ]
  },
  {
   "cell_type": "code",
   "execution_count": 29,
   "metadata": {},
   "outputs": [],
   "source": [
    "err = scipy.optimize.check_grad(\n",
    "            noepistasis_model._loglik_by_allparams,\n",
    "            noepistasis_model._dloglik_by_allparams,\n",
    "            noepistasis_model._allparams)\n",
    "tot = math.sqrt(sum(noepistasis_model._dloglik_by_allparams(noepistasis_model._allparams)**2))\n",
    "if err / tot > 1e-3:\n",
    "    raise ValueError(f\"Numerical and analytical gradients differ: {err}, {tot}, {err / tot}\")"
   ]
  },
  {
   "cell_type": "code",
   "execution_count": 30,
   "metadata": {},
   "outputs": [
    {
     "data": {
      "text/plain": [
       "-59603.0"
      ]
     },
     "execution_count": 30,
     "metadata": {},
     "output_type": "execute_result"
    }
   ],
   "source": [
    "round(noepistasis_model.loglik)"
   ]
  },
  {
   "cell_type": "code",
   "execution_count": 31,
   "metadata": {},
   "outputs": [
    {
     "name": "stdout",
     "output_type": "stream",
     "text": [
      "R = 0.841, P = 0\n"
     ]
    }
   ],
   "source": [
    "r, p = scipy.stats.pearsonr(\n",
    "        binarymap.func_scores,\n",
    "        noepistasis_model.latent_phenotypes_frombinary(binarymap.binary_variants),\n",
    "        )\n",
    "print(f\"R = {r:.3f}, P = {p:.2g}\")"
   ]
  },
  {
   "cell_type": "code",
   "execution_count": 32,
   "metadata": {},
   "outputs": [
    {
     "data": {
      "image/png": "[encoded data removed]",
      "text/plain": [
       "<Figure size 640x480 with 1 Axes>"
      ]
     },
     "metadata": {
      "needs_background": "light"
     },
     "output_type": "display_data"
    }
   ],
   "source": [
    "df = pd.DataFrame({'actual': binarymap.func_scores,\n",
    "                   'predicted': noepistasis_model.latent_phenotypes_frombinary(binarymap.binary_variants),\n",
    "                   })\n",
    "\n",
    "_ = (ggplot(df, aes('actual', 'predicted')) +\n",
    "     geom_bin2d()\n",
    "     ).draw()"
   ]
  },
  {
   "cell_type": "code",
   "execution_count": 33,
   "metadata": {},
   "outputs": [
    {
     "data": {
      "text/plain": [
       "5.553"
      ]
     },
     "execution_count": 33,
     "metadata": {},
     "output_type": "execute_result"
    }
   ],
   "source": [
    "round(noepistasis_model.epistasis_HOC, 3)"
   ]
  },
  {
   "cell_type": "code",
   "execution_count": 34,
   "metadata": {},
   "outputs": [
    {
     "data": {
      "text/plain": [
       "-3.195"
      ]
     },
     "execution_count": 34,
     "metadata": {},
     "output_type": "execute_result"
    }
   ],
   "source": [
    "round(noepistasis_model.latent_phenotype_wt, 3)"
   ]
  },
  {
   "cell_type": "markdown",
   "metadata": {},
   "source": [
    "Now fit the model by maximum likelihood:"
   ]
  },
  {
   "cell_type": "code",
   "execution_count": 35,
   "metadata": {},
   "outputs": [
    {
     "name": "stdout",
     "output_type": "stream",
     "text": [
      "Fitting took 0.355\n"
     ]
    }
   ],
   "source": [
    "# NBVAL_IGNORE_OUTPUT\n",
    "start = time.time()\n",
    "optres = noepistasis_model.fit()\n",
    "print(f\"Fitting took {time.time() - start:.3f}\")"
   ]
  },
  {
   "cell_type": "code",
   "execution_count": 36,
   "metadata": {},
   "outputs": [
    {
     "data": {
      "text/plain": [
       "-59075.01436091254"
      ]
     },
     "execution_count": 36,
     "metadata": {},
     "output_type": "execute_result"
    }
   ],
   "source": [
    "noepistasis_model.loglik"
   ]
  },
  {
   "cell_type": "code",
   "execution_count": 37,
   "metadata": {},
   "outputs": [
    {
     "data": {
      "text/plain": [
       "4.372"
      ]
     },
     "execution_count": 37,
     "metadata": {},
     "output_type": "execute_result"
    }
   ],
   "source": [
    "round(noepistasis_model.epistasis_HOC, 3)"
   ]
  },
  {
   "cell_type": "code",
   "execution_count": 38,
   "metadata": {},
   "outputs": [
    {
     "data": {
      "text/plain": [
       "-2.433"
      ]
     },
     "execution_count": 38,
     "metadata": {},
     "output_type": "execute_result"
    }
   ],
   "source": [
    "round(noepistasis_model.latent_phenotype_wt, 3)"
   ]
  },
  {
   "cell_type": "code",
   "execution_count": 39,
   "metadata": {},
   "outputs": [
    {
     "name": "stdout",
     "output_type": "stream",
     "text": [
      "R = 0.840, P = 0\n"
     ]
    }
   ],
   "source": [
    "r, p = scipy.stats.pearsonr(\n",
    "        binarymap.func_scores,\n",
    "        noepistasis_model.latent_phenotypes_frombinary(binarymap.binary_variants),\n",
    "        )\n",
    "print(f\"R = {r:.3f}, P = {p:.2g}\")"
   ]
  },
  {
   "cell_type": "code",
   "execution_count": 40,
   "metadata": {},
   "outputs": [
    {
     "data": {
      "image/png": "[encoded data removed]",
      "text/plain": [
       "<Figure size 640x480 with 1 Axes>"
      ]
     },
     "metadata": {
      "needs_background": "light"
     },
     "output_type": "display_data"
    }
   ],
   "source": [
    "df = pd.DataFrame({'actual': binarymap.func_scores,\n",
    "                   'predicted': noepistasis_model.latent_phenotypes_frombinary(binarymap.binary_variants),\n",
    "                   })\n",
    "\n",
    "_ = (\n",
    "     ggplot(df, aes('actual', 'predicted')) +\n",
    "     geom_bin2d()\n",
    "     ).draw()"
   ]
  }
 ],
 "metadata": {
  "kernelspec": {
   "display_name": "Python 3",
   "language": "python",
   "name": "python3"
  },
  "language_info": {
   "codemirror_mode": {
    "name": "ipython",
    "version": 3
   },
   "file_extension": ".py",
   "mimetype": "text/x-python",
   "name": "python",
   "nbconvert_exporter": "python",
   "pygments_lexer": "ipython3",
   "version": "3.6.7"
  },
  "toc": {
   "base_numbering": 1,
   "nav_menu": {},
   "number_sections": false,
   "sideBar": true,
   "skip_h1_title": false,
   "title_cell": "Table of Contents",
   "title_sidebar": "Contents",
   "toc_cell": false,
   "toc_position": {
    "height": "1033.71px",
    "left": "0px",
    "right": "1423.47px",
    "top": "110.284px",
    "width": "211.989px"
   },
   "toc_section_display": "block",
   "toc_window_display": true
  }
 },
 "nbformat": 4,
 "nbformat_minor": 2
}
