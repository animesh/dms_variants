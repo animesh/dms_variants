{
 "cells": [
  {
   "cell_type": "markdown",
   "metadata": {},
   "source": [
    "# Bottleneck likelihood derivatives for global epistasis models\n",
    "This Python Jupyter notebook tests the calculation of the bottleneck likelihood derivatives for the global epistasis models.\n",
    "Note that it isn't actually really testing code--instead, it's just code that verifies that the analytical derivatives are calculated correctly.\n",
    "\n",
    "Import Python modules:"
   ]
  },
  {
   "cell_type": "code",
   "execution_count": 1,
   "metadata": {},
   "outputs": [],
   "source": [
    "import math\n",
    "\n",
    "import numpy\n",
    "\n",
    "import scipy.optimize\n",
    "import scipy.special"
   ]
  },
  {
   "cell_type": "markdown",
   "metadata": {},
   "source": [
    "Choose some values for the \"measured\" parameters:"
   ]
  },
  {
   "cell_type": "code",
   "execution_count": 2,
   "metadata": {},
   "outputs": [],
   "source": [
    "f_v_pre = numpy.array([0.2, 0.4, 0.4, 0.1])\n",
    "F_wt_pre = 0.8\n",
    "f_v_post = numpy.array([0.25, 0.35, 0.35, 0.05])\n",
    "F_wt_post = 0.7"
   ]
  },
  {
   "cell_type": "markdown",
   "metadata": {},
   "source": [
    "Set a few values for the bottleneck and observed phenotypes:"
   ]
  },
  {
   "cell_type": "code",
   "execution_count": 3,
   "metadata": {},
   "outputs": [],
   "source": [
    "N_bottles = [10, 100, 1000]\n",
    "p_vs = [numpy.array([-2, -1, 0.1, 2]),\n",
    "        numpy.array([0.515, 0, 0, -0.807]),  # \"real\" values if no bottleneck\n",
    "        ]"
   ]
  },
  {
   "cell_type": "markdown",
   "metadata": {},
   "source": [
    "Function to compute $n_v^{\\rm{bottle}}$:"
   ]
  },
  {
   "cell_type": "code",
   "execution_count": 4,
   "metadata": {},
   "outputs": [],
   "source": [
    "def n_v_bottle_func(N_bottle, p_v):\n",
    "    return (f_v_post * F_wt_pre * N_bottle) / (F_wt_post * 2**p_v)"
   ]
  },
  {
   "cell_type": "markdown",
   "metadata": {},
   "source": [
    "Function to compute log likelihood:"
   ]
  },
  {
   "cell_type": "code",
   "execution_count": 5,
   "metadata": {},
   "outputs": [],
   "source": [
    "def L_func(N_bottle, p_v):\n",
    "    n_v_bottle = n_v_bottle_func(N_bottle, p_v)\n",
    "    return (n_v_bottle * numpy.log(N_bottle * f_v_pre) -\n",
    "            scipy.special.loggamma(n_v_bottle + 1)\n",
    "            ).sum() - N_bottle"
   ]
  },
  {
   "cell_type": "markdown",
   "metadata": {},
   "source": [
    "Derivative of log likelihood with respect to overall bottleneck:"
   ]
  },
  {
   "cell_type": "code",
   "execution_count": 6,
   "metadata": {},
   "outputs": [],
   "source": [
    "def dL_dNbottle_func(N_bottle, p_v):\n",
    "    n_v_bottle = n_v_bottle_func(N_bottle, p_v)\n",
    "    return (n_v_bottle / N_bottle * (numpy.log(N_bottle * f_v_pre) +\n",
    "                                    1 -\n",
    "                                    scipy.special.digamma(n_v_bottle + 1)\n",
    "                                    ) \n",
    "            ).sum() - 1"
   ]
  },
  {
   "cell_type": "markdown",
   "metadata": {},
   "source": [
    "Derivative of log likelihood with respect to observed phenotypes:"
   ]
  },
  {
   "cell_type": "code",
   "execution_count": 7,
   "metadata": {},
   "outputs": [],
   "source": [
    "def dL_dp_v_func(N_bottle, p_v):\n",
    "    n_v_bottle = n_v_bottle_func(N_bottle, p_v)\n",
    "    return math.log(2) * n_v_bottle * (scipy.special.digamma(n_v_bottle + 1) -\n",
    "                                       numpy.log(N_bottle * f_v_pre))"
   ]
  },
  {
   "cell_type": "markdown",
   "metadata": {},
   "source": [
    "Compute the log likelihoods and their derivatives.\n",
    "We see that when $p\\left(v\\right)$ is close to the \"real\" value (second value in `p_vs`), then increasing $N_{\\rm{bottle}}$ increases the log likelihood.\n",
    "When $p\\left(v\\right)$ is very far from the \"real\" value (first value in `p_vs`), then increasing $N_{\\rm{bottle}}$ decreases the log likelihood:"
   ]
  },
  {
   "cell_type": "code",
   "execution_count": 8,
   "metadata": {},
   "outputs": [
    {
     "name": "stdout",
     "output_type": "stream",
     "text": [
      "p_v = [-2, -1, 0.1, 2]\n",
      "  N_bottle = 10\n",
      "    L = -17.7\n",
      "    dL_dNbottle = -1.33\n",
      "    dL_dp_v = [14, 4.2, 0.15, -0.036]\n",
      "    value of dL_dp_v = [14, 4.2, 0.15, -0.036]\n",
      "  N_bottle = 100\n",
      "    L = -127\n",
      "    dL_dNbottle = -1.18\n",
      "    dL_dp_v = [1.4e+02, 39, -1.4, -1.6]\n",
      "    value of dL_dp_v = [1.4e+02, 39, -1.4, -1.6]\n",
      "  N_bottle = 1000\n",
      "    L = -1.18e+03\n",
      "    dL_dNbottle = -1.16\n",
      "    dL_dp_v = [1.4e+03, 3.8e+02, -18, -19]\n",
      "    value of dL_dp_v = [1.4e+03, 3.8e+02, -18, -19]\n",
      "p_v = [0.52, 0, 0, -0.81]\n",
      "  N_bottle = 10\n",
      "    L = -4.57\n",
      "    dL_dNbottle = -0.0841\n",
      "    dL_dp_v = [0.32, 0.33, 0.33, 0.29]\n",
      "    value of dL_dp_v = [0.32, 0.33, 0.33, 0.29]\n",
      "  N_bottle = 100\n",
      "    L = -0.0302\n",
      "    dL_dNbottle = 0.0802\n",
      "    dL_dp_v = [0.34, 0.35, 0.35, 0.34]\n",
      "    value of dL_dp_v = [0.34, 0.35, 0.35, 0.34]\n",
      "  N_bottle = 1000\n",
      "    L = 85.4\n",
      "    dL_dNbottle = 0.098\n",
      "    dL_dp_v = [0.31, 0.35, 0.35, 0.33]\n",
      "    value of dL_dp_v = [0.31, 0.35, 0.35, 0.33]\n"
     ]
    }
   ],
   "source": [
    "def format_arr(arr):\n",
    "    return '[' + ', '.join(f\"{x:.2g}\" for x in arr) + ']'\n",
    "\n",
    "for p_v in p_vs:\n",
    "    print(f\"p_v = {format_arr(p_v)}\")\n",
    "    for N_bottle in N_bottles:\n",
    "        print(f\"  N_bottle = {N_bottle}\")\n",
    "        L = L_func(N_bottle, p_v)\n",
    "        print(f\"    L = {L:.3g}\")\n",
    "        dL_dNbottle = dL_dNbottle_func(N_bottle, p_v)\n",
    "        print(f\"    dL_dNbottle = {dL_dNbottle:.3g}\")\n",
    "        dL_dp_v = dL_dp_v_func(N_bottle, p_v)\n",
    "        print(f\"    dL_dp_v = {format_arr(dL_dp_v)}\")\n",
    "        \n",
    "        # check gradient of loglik with respect to Nbottle\n",
    "        def f(x):\n",
    "            return L_func(x[0], p_v)\n",
    "        def df(x):\n",
    "            return dL_dNbottle_func(x[0], p_v)\n",
    "        err = scipy.optimize.check_grad(f, df, numpy.array([N_bottle]))\n",
    "        if err > 5e-3:\n",
    "            raise ValueError(f\"error for dL_dNbottle = {err:.3g}\")\n",
    "        \n",
    "        # check gradient of loglik with respect to p_v\n",
    "        def f(x):\n",
    "            return L_func(N_bottle, x)\n",
    "        def df(x):\n",
    "            return dL_dp_v_func(N_bottle, x)\n",
    "        err = scipy.optimize.check_grad(f, df, p_v)\n",
    "        if err > 5e-3:\n",
    "            raise ValueError(f\"error for dL_dp_v = {err:.3g}\")\n",
    "        print(f\"    value of dL_dp_v = {format_arr(dL_dp_v_func(N_bottle, p_v))}\")"
   ]
  }
 ],
 "metadata": {
  "kernelspec": {
   "display_name": "Python 3",
   "language": "python",
   "name": "python3"
  },
  "language_info": {
   "codemirror_mode": {
    "name": "ipython",
    "version": 3
   },
   "file_extension": ".py",
   "mimetype": "text/x-python",
   "name": "python",
   "nbconvert_exporter": "python",
   "pygments_lexer": "ipython3",
   "version": "3.6.7"
  }
 },
 "nbformat": 4,
 "nbformat_minor": 4
}
