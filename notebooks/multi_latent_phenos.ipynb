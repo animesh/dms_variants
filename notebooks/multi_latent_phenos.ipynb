{
 "cells": [
  {
   "cell_type": "markdown",
   "metadata": {},
   "source": [
    "# Global epistasis models with multiple latent phenotypes\n",
    "\n",
    "In this example, we simulate deep mutational scanning libraries under a global epistasis model with **two** latent phenotypes.\n",
    "We then fit global epistasis models with one and two latent phenotypes to the data, compare them, and examine how well they can predict new *unseen* multiple-mutant variants.\n",
    "\n",
    "## Setup for analysis\n",
    "\n",
    "Import Python modules / packages:"
   ]
  },
  {
   "cell_type": "code",
   "execution_count": 1,
   "metadata": {
    "attributes": {
     "classes": [],
     "id": "",
     "n": "1"
    }
   },
   "outputs": [],
   "source": [
    "import random\n",
    "import time\n",
    "import warnings\n",
    "\n",
    "import pandas as pd\n",
    "\n",
    "from plotnine import *\n",
    "\n",
    "import scipy\n",
    "\n",
    "import dms_variants.binarymap\n",
    "import dms_variants.codonvarianttable\n",
    "import dms_variants.globalepistasis\n",
    "import dms_variants.plotnine_themes\n",
    "import dms_variants.simulate\n",
    "from dms_variants.constants import CBPALETTE, CODONS_NOSTOP"
   ]
  },
  {
   "cell_type": "markdown",
   "metadata": {},
   "source": [
    "Now we set the parameters that define the simulation.\n",
    "We try to choose parameters typical of a Bloom lab viral deep mutational scanning project.\n",
    "There is a modest rate of errors in the variant calling, and a moderate bottleneck going from pre- to post-selection.\n",
    "We use a short gene (60 residues) in order to ensure that the analysis doesn't take too long.\n",
    "Crucially, we test libraries with a variety of mutation rates (average number of codon substitutions per variant):"
   ]
  },
  {
   "cell_type": "code",
   "execution_count": 2,
   "metadata": {
    "attributes": {
     "classes": [],
     "id": "",
     "n": "2"
    }
   },
   "outputs": [],
   "source": [
    "seed = 1  # random number seed\n",
    "genelength = 60  # gene length in codons\n",
    "variants_per_lib = 300 * genelength  # variants per library\n",
    "avgmuts = 2.5  # average mutations per variant\n",
    "bclen = 16  # length of nucleotide barcode for each variant\n",
    "variant_error_rate = 0.005  # rate at which variant sequence mis-called\n",
    "avgdepth_per_variant = 100  # average per-variant sequencing depth\n",
    "lib_uniformity = 5  # uniformity of library pre-selection\n",
    "noise = 0.02  # random noise in selections\n",
    "bottleneck = 10  # bottleneck from pre- to post-selection as multiple of variants_per_lib"
   ]
  },
  {
   "cell_type": "markdown",
   "metadata": {},
   "source": [
    "Seed random number generator for reproducible output:"
   ]
  },
  {
   "cell_type": "code",
   "execution_count": 3,
   "metadata": {
    "attributes": {
     "classes": [],
     "id": "",
     "n": "3"
    }
   },
   "outputs": [],
   "source": [
    "random.seed(seed)"
   ]
  },
  {
   "cell_type": "markdown",
   "metadata": {},
   "source": [
    "Set pandas display options to show large chunks of Data Frames in this\n",
    "example:"
   ]
  },
  {
   "cell_type": "code",
   "execution_count": 4,
   "metadata": {
    "attributes": {
     "classes": [],
     "id": "",
     "n": "4"
    }
   },
   "outputs": [],
   "source": [
    "pd.set_option('display.max_columns', 20)\n",
    "pd.set_option('display.width', 500)"
   ]
  },
  {
   "cell_type": "markdown",
   "metadata": {},
   "source": [
    "Hide warnings that clutter output:"
   ]
  },
  {
   "cell_type": "code",
   "execution_count": 5,
   "metadata": {
    "attributes": {
     "classes": [],
     "id": "",
     "n": "5"
    }
   },
   "outputs": [],
   "source": [
    "warnings.simplefilter('ignore')"
   ]
  },
  {
   "cell_type": "markdown",
   "metadata": {},
   "source": [
    "Set the gray grid [plotnine theme](https://plotnine.readthedocs.io/en/stable/generated/plotnine.themes.theme.html?highlight=themes) defined in [dms_variants.plotnine_themes](https://jbloomlab.github.io/dms_variants/dms_variants.plotnine_themes.html) as this gives a nice appearance for the plots:"
   ]
  },
  {
   "cell_type": "code",
   "execution_count": 6,
   "metadata": {},
   "outputs": [],
   "source": [
    "theme_set(dms_variants.plotnine_themes.theme_graygrid())"
   ]
  },
  {
   "cell_type": "markdown",
   "metadata": {},
   "source": [
    "## Simulate library of variants\n",
    "Simulate libraries of codon variants with each of the average mutation rates.\n",
    "\n",
    "Simulate wildtype gene sequence:"
   ]
  },
  {
   "cell_type": "code",
   "execution_count": 7,
   "metadata": {
    "attributes": {
     "classes": [],
     "id": "",
     "n": "6"
    }
   },
   "outputs": [
    {
     "name": "stdout",
     "output_type": "stream",
     "text": [
      "Wildtype gene of 60 codons:\n",
      "AGATCCGTGATTCTGCGTGCTTACACCAACTCACGGGTGAAACGTGTAATCTTATGCAACAACGACTTACCTATCCGCAACATCCGGCTGATGATGATCCTACACAACTCCGACGCTAGTTTTTCGACTCCAGTAGGTTTACGCTCAGGACAGGATTCTTCCCTGGATAAGATGTACCGC\n"
     ]
    }
   ],
   "source": [
    "geneseq = ''.join(random.choices(CODONS_NOSTOP, k=genelength))\n",
    "print(f\"Wildtype gene of {genelength} codons:\\n{geneseq}\")"
   ]
  },
  {
   "cell_type": "markdown",
   "metadata": {},
   "source": [
    "Generate a\n",
    "[CodonVariantTable](https://jbloomlab.github.io/dms_variants/dms_variants.codonvarianttable.html#dms_variants.codonvarianttable.CodonVariantTable)\n",
    "using\n",
    "[simulate_CodonVariantTable](https://jbloomlab.github.io/dms_variants/dms_variants.simulate.html#dms_variants.simulate.simulate_CodonVariantTable)\n",
    "function, with different libraries for each mutation rate:"
   ]
  },
  {
   "cell_type": "code",
   "execution_count": 8,
   "metadata": {
    "attributes": {
     "classes": [],
     "id": "",
     "n": "7"
    }
   },
   "outputs": [],
   "source": [
    "variants = dms_variants.simulate.simulate_CodonVariantTable(\n",
    "                geneseq=geneseq,\n",
    "                bclen=bclen,\n",
    "                library_specs={'lib_1': {'avgmuts': avgmuts,\n",
    "                                         'nvariants': variants_per_lib},\n",
    "                               },\n",
    "                seed=seed,\n",
    "                )"
   ]
  },
  {
   "cell_type": "markdown",
   "metadata": {},
   "source": [
    "Plot the number of amino-acid mutations per variant:"
   ]
  },
  {
   "cell_type": "code",
   "execution_count": 9,
   "metadata": {
    "attributes": {
     "classes": [],
     "id": "",
     "n": "15"
    }
   },
   "outputs": [
    {
     "data": {
      "image/png": "[encoded data removed]",
      "text/plain": [
       "<Figure size 300x210 with 1 Axes>"
      ]
     },
     "metadata": {
      "needs_background": "light"
     },
     "output_type": "display_data"
    }
   ],
   "source": [
    "p = variants.plotNumMutsHistogram('aa',\n",
    "                                  samples=None,\n",
    "                                  widthscale=1.2,\n",
    "                                  )\n",
    "p = p + theme(panel_grid_major_x=element_blank())  # no vertical grid lines\n",
    "_ = p.draw()"
   ]
  },
  {
   "cell_type": "markdown",
   "metadata": {},
   "source": [
    "Average number of codon mutations of each type per variant:"
   ]
  },
  {
   "cell_type": "code",
   "execution_count": 10,
   "metadata": {
    "attributes": {
     "classes": [],
     "id": "",
     "n": "17"
    }
   },
   "outputs": [
    {
     "data": {
      "image/png": "[encoded data removed]",
      "text/plain": [
       "<Figure size 240x230 with 1 Axes>"
      ]
     },
     "metadata": {
      "needs_background": "light"
     },
     "output_type": "display_data"
    }
   ],
   "source": [
    "p = variants.plotNumCodonMutsByType(variant_type='all', samples=None)\n",
    "p = p + theme(panel_grid_major_x=element_blank())  # no vertical grid lines\n",
    "_ = p.draw()"
   ]
  },
  {
   "cell_type": "markdown",
   "metadata": {},
   "source": [
    "Examine how well amino-acid mutations are sampled in the library by looking at the\n",
    "fraction\n",
    "of mutations seen <= some number of times, making separate plots for single mutants and all mutants.\n",
    "Most mutations are samples as single mutants, and all are sampled several times as multiple mutants:"
   ]
  },
  {
   "cell_type": "code",
   "execution_count": 11,
   "metadata": {
    "attributes": {
     "classes": [],
     "id": "",
     "n": "19"
    }
   },
   "outputs": [
    {
     "data": {
      "image/png": "[encoded data removed]",
      "text/plain": [
       "<Figure size 290x220 with 1 Axes>"
      ]
     },
     "metadata": {
      "needs_background": "light"
     },
     "output_type": "display_data"
    },
    {
     "data": {
      "image/png": "[encoded data removed]",
      "text/plain": [
       "<Figure size 290x220 with 1 Axes>"
      ]
     },
     "metadata": {
      "needs_background": "light"
     },
     "output_type": "display_data"
    }
   ],
   "source": [
    "for variant_type in ['single', 'all']:\n",
    "    p = variants.plotCumulMutCoverage(variant_type,\n",
    "                                      mut_type='aa',\n",
    "                                      samples=None)\n",
    "    _ = p.draw()"
   ]
  },
  {
   "cell_type": "markdown",
   "metadata": {},
   "source": [
    "## Simulate variant counts under two-latent phenotype global epistasis model\n",
    "Now we simulate the counts of each variant after selection.\n",
    "These simulations are done under a model of the phenotypic effects of mutations.\n",
    "\n",
    "We define two latent-to-observed phenotype functions using an extension of the \"global epistasis\" concepts of [Otwinoski et\n",
    "al](https://doi.org/10.1073/pnas.1804015115) and [Sailer and\n",
    "Harms](https://doi.org/10.1534/genetics.116.195214).\n",
    "In that concept, there is an \"observed\" phenotype which is a nonlinear function of an underlying \"latent\" phenotype that is affected additively by mutations.\n",
    "\n",
    "Here we instead let the observed phenotype be the sum of **two** nonlinear functions each acting on a different latent phenotype.\n",
    "Each nonlinear function is implemented via a [SigmoidPhenotypeSimulator](https://jbloomlab.github.io/dms_variants/dms_variants.simulate.html#dms_variants.simulate.SigmoidPhenotypeSimulator), and these are then combined in a [MultiLatentSigmoidPhenotypeSimulator](https://jbloomlab.github.io/dms_variants/dms_variants.simulate.html#dms_variants.simulate.MultiLatentSigmoidPhenotypeSimulator) that maps the two latent phenotypes to the observed phenotype.\n",
    "The first latent phenotype is strongly affected by most mutations (you can imagine this is something like protein stability) and the other is strongly affected by only some mutations (you can imagine this is something like protein activity).\n",
    "\n",
    "The counts for variants are then simulated according to their enrichments, which are the exponentials of the observed phenotype:"
   ]
  },
  {
   "cell_type": "code",
   "execution_count": 12,
   "metadata": {
    "attributes": {
     "classes": [],
     "id": "",
     "n": "24"
    }
   },
   "outputs": [],
   "source": [
    "pheno1 = dms_variants.simulate.SigmoidPhenotypeSimulator(\n",
    "                                geneseq,\n",
    "                                seed=seed,\n",
    "                                wt_latent=4,\n",
    "                                stop_effect=-10,\n",
    "                                norm_weights=[(0.4, -1.25, 1.25),\n",
    "                                              (0.6, -5.5, 2.25),\n",
    "                                              ]\n",
    "                                )\n",
    "pheno2 = dms_variants.simulate.SigmoidPhenotypeSimulator(\n",
    "                                geneseq,\n",
    "                                seed=seed,\n",
    "                                wt_latent=3,\n",
    "                                stop_effect=0,\n",
    "                                norm_weights=[(0.7, 0, 0.1),\n",
    "                                              (0.2, -8, 3),\n",
    "                                              (0.1, -1, 2),\n",
    "                                              ]\n",
    "                                )\n",
    "\n",
    "phenosimulator = dms_variants.simulate.MultiLatentSigmoidPhenotypeSimulator([pheno1, pheno2])"
   ]
  },
  {
   "cell_type": "markdown",
   "metadata": {},
   "source": [
    "Plot the distribution of each latent phenotype, the, observed phenotype, and observed enrichment for all single amino-acid mutants, with a dashed vertical line indicating the wildtype:"
   ]
  },
  {
   "cell_type": "code",
   "execution_count": 13,
   "metadata": {
    "attributes": {
     "classes": [],
     "id": "",
     "n": "26"
    }
   },
   "outputs": [
    {
     "data": {
      "image/png": "[encoded data removed]",
      "text/plain": [
       "<Figure size 350x250 with 1 Axes>"
      ]
     },
     "metadata": {
      "needs_background": "light"
     },
     "output_type": "display_data"
    },
    {
     "data": {
      "image/png": "[encoded data removed]",
      "text/plain": [
       "<Figure size 350x250 with 1 Axes>"
      ]
     },
     "metadata": {
      "needs_background": "light"
     },
     "output_type": "display_data"
    },
    {
     "data": {
      "image/png": "[encoded data removed]",
      "text/plain": [
       "<Figure size 350x250 with 1 Axes>"
      ]
     },
     "metadata": {
      "needs_background": "light"
     },
     "output_type": "display_data"
    },
    {
     "data": {
      "image/png": "[encoded data removed]",
      "text/plain": [
       "<Figure size 350x250 with 1 Axes>"
      ]
     },
     "metadata": {
      "needs_background": "light"
     },
     "output_type": "display_data"
    }
   ],
   "source": [
    "for value in ['latentPhenotype', 'observedPhenotype', 'observedEnrichment']:\n",
    "    if value == 'latentPhenotype':\n",
    "        for k in range(1, phenosimulator.n_latent_phenotypes + 1):\n",
    "            p = phenosimulator.plotMutsHistogram(value, k=k)\n",
    "            _ = p.draw()\n",
    "    else:\n",
    "        p = phenosimulator.plotMutsHistogram(value)\n",
    "        _ = p.draw()"
   ]
  },
  {
   "cell_type": "markdown",
   "metadata": {},
   "source": [
    "Use [simulateSampleCounts](https://jbloomlab.github.io/dms_variants/dms_variants.simulate.html#dms_variants.simulate.simulateSampleCounts) to simulate counts of variants when selection on each variant is proportional to\n",
    "its observed enrichment:"
   ]
  },
  {
   "cell_type": "code",
   "execution_count": 14,
   "metadata": {
    "attributes": {
     "classes": [],
     "id": "",
     "n": "27"
    }
   },
   "outputs": [],
   "source": [
    "counts = dms_variants.simulate.simulateSampleCounts(\n",
    "        variants=variants,\n",
    "        phenotype_func=phenosimulator.observedEnrichment,\n",
    "        variant_error_rate=variant_error_rate,\n",
    "        pre_sample={'total_count': variants_per_lib * avgdepth_per_variant,\n",
    "                    'uniformity': lib_uniformity},\n",
    "        pre_sample_name='pre-selection',\n",
    "        post_samples={'post-selection': \n",
    "                          {'noise': noise,\n",
    "                           'total_count': variants_per_lib * avgdepth_per_variant,\n",
    "                           'bottleneck': variants_per_lib * bottleneck}\n",
    "                      },\n",
    "        seed=seed,\n",
    "        )"
   ]
  },
  {
   "cell_type": "markdown",
   "metadata": {},
   "source": [
    "Add the simulated counts for each library to the [CodonVariantTable](https://jbloomlab.github.io/dms_variants/dms_variants.codonvarianttable.html#dms_variants.codonvarianttable.CodonVariantTable):"
   ]
  },
  {
   "cell_type": "code",
   "execution_count": 15,
   "metadata": {
    "attributes": {
     "classes": [],
     "id": "",
     "n": "29"
    }
   },
   "outputs": [],
   "source": [
    "variants.add_sample_counts_df(counts)"
   ]
  },
  {
   "cell_type": "markdown",
   "metadata": {},
   "source": [
    "Plot the number of counts for each variant. \n",
    "The horizontal dashed line shows the total number of variants. \n",
    "The plot shows that all variants are well-sampled in the pre-selection libraries, but that post-selection some variants are sampled more or less.\n",
    "This is expected since selection will decrease and increase the frequency of variants:"
   ]
  },
  {
   "cell_type": "code",
   "execution_count": 16,
   "metadata": {
    "attributes": {
     "classes": [],
     "id": "",
     "n": "32"
    }
   },
   "outputs": [
    {
     "data": {
      "image/png": "[encoded data removed]",
      "text/plain": [
       "<Figure size 400x210 with 2 Axes>"
      ]
     },
     "metadata": {
      "needs_background": "light"
     },
     "output_type": "display_data"
    }
   ],
   "source": [
    "p = variants.plotCumulVariantCounts(libraries=variants.libraries,\n",
    "                                    orientation='v')\n",
    "_ = p.draw()"
   ]
  },
  {
   "cell_type": "markdown",
   "metadata": {},
   "source": [
    "Distribution of the number of amino-acid mutations per variant.\n",
    "As expected, mutations go down after selection:"
   ]
  },
  {
   "cell_type": "code",
   "execution_count": 17,
   "metadata": {
    "attributes": {
     "classes": [],
     "id": "",
     "n": "33"
    }
   },
   "outputs": [
    {
     "data": {
      "image/png": "[encoded data removed]",
      "text/plain": [
       "<Figure size 480x210 with 2 Axes>"
      ]
     },
     "metadata": {
      "needs_background": "light"
     },
     "output_type": "display_data"
    }
   ],
   "source": [
    "p = variants.plotNumMutsHistogram(mut_type='aa',\n",
    "                                  libraries=variants.libraries,\n",
    "                                  widthscale=1.2,\n",
    "                                  orientation='v')\n",
    "p = p + theme(panel_grid_major_x=element_blank())  # no vertical grid lines\n",
    "_ = p.draw()"
   ]
  },
  {
   "cell_type": "markdown",
   "metadata": {},
   "source": [
    "Average number of mutations per variant:"
   ]
  },
  {
   "cell_type": "code",
   "execution_count": 18,
   "metadata": {
    "attributes": {
     "classes": [],
     "id": "",
     "n": "34"
    }
   },
   "outputs": [
    {
     "data": {
      "image/png": "[encoded data removed]",
      "text/plain": [
       "<Figure size 380x230 with 2 Axes>"
      ]
     },
     "metadata": {
      "needs_background": "light"
     },
     "output_type": "display_data"
    }
   ],
   "source": [
    "p = variants.plotNumCodonMutsByType(variant_type='all',\n",
    "                                    libraries=variants.libraries,\n",
    "                                    orientation='v')\n",
    "p = p + theme(panel_grid_major_x=element_blank())  # no vertical grid lines\n",
    "_ = p.draw()"
   ]
  },
  {
   "cell_type": "markdown",
   "metadata": {},
   "source": [
    "## Functional scores for variants\n",
    "Use\n",
    "[CodonVariantTable.func_scores](https://jbloomlab.github.io/dms_variants/dms_variants.codonvarianttable.html#dms_variants.codonvarianttable.CodonVariantTable.func_scores)\n",
    "to calculates a functional score for each variant based on its change in\n",
    "frequency from pre- to post-selection:"
   ]
  },
  {
   "cell_type": "code",
   "execution_count": 19,
   "metadata": {
    "attributes": {
     "classes": [],
     "id": "",
     "n": "37"
    }
   },
   "outputs": [],
   "source": [
    "func_scores = variants.func_scores('pre-selection',\n",
    "                                   libraries=variants.libraries)"
   ]
  },
  {
   "cell_type": "markdown",
   "metadata": {},
   "source": [
    "Classify variants\n",
    "by the “types” of mutations they\n",
    "have using the\n",
    "[CodonVariantTable.classifyVariants](https://jbloomlab.github.io/dms_variants/dms_variants.codonvarianttable.html#dms_variants.codonvarianttable.CodonVariantTable.classifyVariants):"
   ]
  },
  {
   "cell_type": "code",
   "execution_count": 20,
   "metadata": {},
   "outputs": [],
   "source": [
    "func_scores = dms_variants.codonvarianttable.CodonVariantTable.classifyVariants(func_scores)"
   ]
  },
  {
   "cell_type": "markdown",
   "metadata": {},
   "source": [
    "Plot the distributions of scores, coloring by the variant class:"
   ]
  },
  {
   "cell_type": "code",
   "execution_count": 21,
   "metadata": {},
   "outputs": [
    {
     "data": {
      "image/png": "[encoded data removed]",
      "text/plain": [
       "<Figure size 225x200 with 1 Axes>"
      ]
     },
     "metadata": {
      "needs_background": "light"
     },
     "output_type": "display_data"
    }
   ],
   "source": [
    "p = (\n",
    "    ggplot(func_scores, aes('variant_class', 'func_score')) +\n",
    "    geom_violin(aes(fill='variant_class')) +\n",
    "    ylab('functional score') +\n",
    "    xlab('') +\n",
    "    facet_wrap('~ library', nrow=1) +\n",
    "    theme(figure_size=(2.25 * len(variants.libraries), 2),\n",
    "          axis_text_x=element_text(angle=90),\n",
    "          panel_grid_major_x=element_blank(),  # no vertical grid lines\n",
    "          ) +\n",
    "    scale_fill_manual(values=CBPALETTE[1 :], guide=False)\n",
    "    )\n",
    "_ = p.draw()"
   ]
  },
  {
   "cell_type": "markdown",
   "metadata": {},
   "source": [
    "# Everything below here is still in progress\n",
    "## Fit global epistasis models\n",
    "Now we fit global epistasis models.\n",
    "\n",
    "We fit two different types of epistasis functions:\n",
    " - [MonotonicSplineEpistasis](https://jbloomlab.github.io/dms_variants/dms_variants.globalepistasis.html#dms_variants.globalepistasis.MonotonicSplineEpistasis) models, which model global epistasis in the way described in [Otwinoski et al (2018)](https://www.pnas.org/content/115/32/E7550).\n",
    " - [NoEpistasis](https://jbloomlab.github.io/dms_variants/dms_variants.globalepistasis.html#dms_variants.globalepistasis.NoEpistasis) models, which assume mutations contribute additively to the functional scores.\n",
    "\n",
    "We just use one way to calculate the likelihood, the [GaussianLikelihood](https://jbloomlab.github.io/dms_variants/dms_variants.globalepistasis.html#dms_variants.globalepistasis.GaussianLikelihood). \n",
    "That's because this likelihood calculation method words best for experiments with only modest noise like the one simulated here.\n",
    "If you had more experimental noise, you might also try the [CauchyLikelihood](https://jbloomlab.github.io/dms_variants/dms_variants.globalepistasis.html#dms_variants.globalepistasis.GaussianLikelihood), which is more robust to noise.\n",
    " \n",
    "See the [globalepistasis module documentation](https://jbloomlab.github.io/dms_variants/codonvariant_sim_data.html) for more details on all these models.\n",
    "\n",
    "Below we fit each model and save it in a `dict` to use later:"
   ]
  },
  {
   "cell_type": "code",
   "execution_count": null,
   "metadata": {},
   "outputs": [],
   "source": [
    "# NBVAL_IGNORE_OUTPUT\n",
    "\n",
    "models = {}  # store models, keyed by `(epistasis function, library)`\n",
    "\n",
    "for library, scores in func_scores.groupby('library', observed=True):\n",
    "   \n",
    "    bmap = dms_variants.binarymap.BinaryMap(scores)\n",
    "    \n",
    "    for epistasis_func, Model in [\n",
    "            ('global epistasis', \n",
    "             dms_variants.globalepistasis.MonotonicSplineEpistasisGaussianLikelihood),\n",
    "            ('no epistasis',\n",
    "             dms_variants.globalepistasis.NoEpistasisGaussianLikelihood),\n",
    "            ]:\n",
    "        print(f\"Fitting {epistasis_func} model to library {library}...\", end=' ')\n",
    "    \n",
    "        start = time.time()\n",
    "        model = Model(bmap)\n",
    "        model.fit()\n",
    "        print(f\"fitting took {time.time() - start:.1f} sec.\")\n",
    "        models[(epistasis_func, library)] = model"
   ]
  },
  {
   "cell_type": "markdown",
   "metadata": {},
   "source": [
    "We first simply want to confirm that for all libraries, the global epistasis model outperforms the no-epistasis model.\n",
    "To do this, we get the log likelihood along with the number of model parameters, and also the [AIC](https://en.wikipedia.org/wiki/Akaike_information_criterion).\n",
    "Models with lower AIC are better.\n",
    "We compute the $\\Delta$AIC between the global epistasis model and no-epistasis model: positive $\\Delta$AIC values indicate that the global epistasis model is better.\n",
    "\n",
    "Below we see that in all cases, the global epistasis model is better than the no-epistasis model:"
   ]
  },
  {
   "cell_type": "code",
   "execution_count": null,
   "metadata": {},
   "outputs": [],
   "source": [
    "# NBVAL_IGNORE_OUTPUT\n",
    "\n",
    "logliks_df = (\n",
    "    pd.DataFrame.from_records(\n",
    "            [(epistasis_func, library, model.nparams, model.loglik, model.aic) for\n",
    "             (epistasis_func, library), model in models.items()],\n",
    "            columns=['epistasis_function', 'library',\n",
    "                     'n_parameters', 'log_likelihood', 'AIC']\n",
    "            )\n",
    "    .pivot_table(index='library',\n",
    "                 values='AIC',\n",
    "                 columns='epistasis_function',\n",
    "                 )\n",
    "    .assign(deltaAIC=lambda x: x['no epistasis'] - x['global epistasis'])\n",
    "    )\n",
    "\n",
    "logliks_df.round(1)"
   ]
  },
  {
   "cell_type": "code",
   "execution_count": null,
   "metadata": {
    "nbsphinx": "hidden"
   },
   "outputs": [],
   "source": [
    "# confirm the global epistasis model is better in all cases\n",
    "assert (logliks_df['deltaAIC'] > 0).all()"
   ]
  },
  {
   "cell_type": "markdown",
   "metadata": {},
   "source": [
    "Next examine the epistasis model fit on the variants used to fit the model.\n",
    "We use [AbstractEpistasis.phenotypes_df](https://jbloomlab.github.io/dms_variants/dms_variants.globalepistasis.html#dms_variants.globalepistasis.AbstractEpistasis.phenotypes_df) to get a data frame of all the variants used to fit each global epistasis model along with their functional scores and the latent and observed phenotypes predicted by the model.\n",
    "We then plot the relationship between latent and observed phenotype.\n",
    "We only do this for the global epistasis model (not the no-epistasis model) as the relationship is trivial for the no-epistasis model:"
   ]
  },
  {
   "cell_type": "code",
   "execution_count": null,
   "metadata": {},
   "outputs": [],
   "source": [
    "variants_df = pd.concat(\n",
    "        [model.phenotypes_df.assign(library=library)\n",
    "         for (epistasis_func, library), model in models.items()\n",
    "         if epistasis_func == 'global epistasis'],\n",
    "        ignore_index=True, sort=False)\n",
    "\n",
    "p = (ggplot(variants_df, aes('latent_phenotype', 'observed_phenotype')) +\n",
    "     geom_point(alpha=0.05, size=0.5) +\n",
    "     facet_wrap('~ library', nrow=1) +\n",
    "     theme(figure_size=(2 * variants_df['library'].nunique(), 2))\n",
    "     )\n",
    "_ = p.draw()"
   ]
  },
  {
   "cell_type": "markdown",
   "metadata": {},
   "source": [
    "## How well do the models infer the latent effects of mutations?\n",
    "In order to accurately predict the observed phenotypes of unseen variants, it will be important to accurately have inferred the latent effects of mutations.\n",
    "\n",
    "Here we get the predicted latent effect of each mutation for each library / epistasis function using [AbstractEpistasis.latent_effects_df](https://jbloomlab.github.io/dms_variants/dms_variants.globalepistasis.html#dms_variants.globalepistasis.AbstractEpistasis.latent_effects_df):"
   ]
  },
  {
   "cell_type": "code",
   "execution_count": null,
   "metadata": {},
   "outputs": [],
   "source": [
    "latent_df_list = []\n",
    "for (epistasis_func, library), model in models.items():\n",
    "    latent_df_list.append(\n",
    "        model.latent_effects_df\n",
    "        .rename(columns={'latent_effect': 'predicted_latent_effect'})\n",
    "        .assign(library=library,\n",
    "                epistasis_func=epistasis_func)\n",
    "        )\n",
    "    \n",
    "latent_df = pd.concat(latent_df_list, ignore_index=True, sort=False)"
   ]
  },
  {
   "cell_type": "markdown",
   "metadata": {},
   "source": [
    "Because we simulated the experiments using [SigmoidPhenotypeSimulator](https://jbloomlab.github.io/dms_variants/dms_variants.simulate.html#dms_variants.simulate.SigmoidPhenotypeSimulator), we can also get the **true** latent effect of each mutation.\n",
    "(Obviously in real non-simulated experiments the true latent phenotypes are unknown.)\n",
    "Below we get these true latent effects:"
   ]
  },
  {
   "cell_type": "code",
   "execution_count": null,
   "metadata": {},
   "outputs": [],
   "source": [
    "latent_df = (\n",
    "    latent_df\n",
    "    .assign(\n",
    "        true_latent_effect=lambda x: x['mutation'].map(phenosimulator.muteffects),\n",
    "        )\n",
    "    )"
   ]
  },
  {
   "cell_type": "markdown",
   "metadata": {},
   "source": [
    "Now we calculate the correlations between the true and model-predicted latent effects:"
   ]
  },
  {
   "cell_type": "code",
   "execution_count": null,
   "metadata": {},
   "outputs": [],
   "source": [
    "# NBVAL_IGNORE_OUTPUT\n",
    "\n",
    "latent_corr = (\n",
    "    latent_df\n",
    "    .groupby(['library', 'epistasis_func'])\n",
    "    .apply(lambda x: x['predicted_latent_effect'].corr(x['true_latent_effect']))\n",
    "    .rename('correlation')\n",
    "    .to_frame()\n",
    "    .reset_index()\n",
    "    .pivot_table(index='library',\n",
    "                 values='correlation',\n",
    "                 columns='epistasis_func',\n",
    "                 )\n",
    "    )\n",
    "\n",
    "latent_corr.round(2)"
   ]
  },
  {
   "cell_type": "markdown",
   "metadata": {},
   "source": [
    "The correlations above show that the global epistasis models do a better job of inferring the latent effects than the no-epistasis model, and that the best inferences are made when the average number of mutations per variant is between 3 and 4.\n",
    "However, the correlation coefficients don't really do justice to the data, since these correlations are dominate by the very low and very high values.\n",
    "Below we plot the correlations between the model-predicted and true values.\n",
    "Those plots make clear that the global epistasis models do a much better job than the no-epistasis models, particularly for the mutation rates of 3 or 4.\n",
    "When looking at the plots, keep in mind the most critical region is the moderately deleterious to beneficial mutations, since highly deleterious mutations don't really need to have their latent effects inferred accurately other than correctly inferring that they are highly deleterious:"
   ]
  },
  {
   "cell_type": "code",
   "execution_count": null,
   "metadata": {},
   "outputs": [],
   "source": [
    "p = (ggplot(latent_df,\n",
    "            aes('true_latent_effect', 'predicted_latent_effect')) +\n",
    "     geom_point(alpha=0.05, size=0.5) +\n",
    "     facet_grid('epistasis_func ~ library', scales='free_y') +\n",
    "     theme(figure_size=(2 * latent_df['library'].nunique(),\n",
    "                        2 * latent_df['epistasis_func'].nunique())\n",
    "           )\n",
    "     )\n",
    "\n",
    "_ = p.draw()"
   ]
  },
  {
   "cell_type": "markdown",
   "metadata": {},
   "source": [
    "## Predict phenotypes of unseen variants\n",
    "Now we are going to test how well the models can predict the phenotypes of unseen variants that have a modest number of mutations relative to the wildtype sequence used in the experiments.\n",
    "\n",
    "We will test the predictions in terms of the *enrichment* of the variants after selection (recall this is the exponential of the observed phenotype), since this enrichment is the number that best quantifies how well the unseen variants actually would perform in an experiment.\n",
    "\n",
    "Below we generate a set of new variants with a modest number of mutations relative to wildtype, and then calculate their *true* enrichment under the simulator used to simulate the experiments above:"
   ]
  },
  {
   "cell_type": "code",
   "execution_count": null,
   "metadata": {},
   "outputs": [],
   "source": [
    "nmuts = 4  # predict variants with this many mutations relative to wildtype\n",
    "npredict = 50000  # make predictions for this many variants\n",
    "\n",
    "rand_variants_df = (\n",
    "    pd.DataFrame({'codon_substitutions': dms_variants.simulate.codon_muts(geneseq,\n",
    "                                                                          nmuts,\n",
    "                                                                          npredict)\n",
    "                  })\n",
    "    .assign(\n",
    "        aa_substitutions=lambda x: x['codon_substitutions'].map(\n",
    "                dms_variants.codonvarianttable.CodonVariantTable.codonToAAMuts),\n",
    "        true_enrichment=lambda x: x['aa_substitutions'].map(\n",
    "                phenosimulator.observedEnrichment),\n",
    "        )\n",
    "    )"
   ]
  },
  {
   "cell_type": "markdown",
   "metadata": {},
   "source": [
    "Now we calculate the predicted enrichments from the model for these variants.\n",
    "Note that when calling [AbstractEpistasis.add_phenotypes_to_df](https://jbloomlab.github.io/dms_variants/dms_variants.globalepistasis.html#dms_variants.globalepistasis.AbstractEpistasis.add_phenotypes_to_df), we set the phenotypes of unknown variants to `nan` (unknown variants are ones that contain a mutation that was not observed at all in the set of variants used to fit the modle).\n",
    "We then drop such variants."
   ]
  },
  {
   "cell_type": "code",
   "execution_count": null,
   "metadata": {},
   "outputs": [],
   "source": [
    "rand_variants_df_list = []\n",
    "for (epistasis_func, library), model in models.items():\n",
    "    rand_variants_df_list.append(\n",
    "        model.add_phenotypes_to_df(rand_variants_df,\n",
    "                                   latent_phenotype_col='predicted_latent_phenotype',\n",
    "                                   observed_phenotype_col='predicted_observed_phenotype',\n",
    "                                   unknown_as_nan=True,\n",
    "                                   )\n",
    "        .dropna(axis='index')\n",
    "        .assign(\n",
    "            library=library,\n",
    "            epistasis_func=epistasis_func,\n",
    "            predicted_enrichment=lambda x: model.enrichments(x['predicted_observed_phenotype']),\n",
    "            )\n",
    "        )\n",
    "rand_variants_df = pd.concat(rand_variants_df_list)"
   ]
  },
  {
   "cell_type": "markdown",
   "metadata": {},
   "source": [
    "Now look at the correlation between the predicted and true phenotypes for the unseen variants.\n",
    "We also tally how many variants there are (after dropping the ones with unknown phenotypes) that can be predicted by each model:"
   ]
  },
  {
   "cell_type": "code",
   "execution_count": null,
   "metadata": {},
   "outputs": [],
   "source": [
    "# NBVAL_IGNORE_OUTPUT\n",
    "\n",
    "rand_variants_corr = (\n",
    "    rand_variants_df\n",
    "    .groupby(['library', 'epistasis_func'])\n",
    "    .apply(lambda x: x['predicted_enrichment'].corr(x['true_enrichment']))\n",
    "    .rename('correlation')\n",
    "    .to_frame()\n",
    "    .join(rand_variants_df\n",
    "           .groupby(['library', 'epistasis_func'])\n",
    "           .size()\n",
    "           .rename('num_variants')\n",
    "           )\n",
    "    .reset_index()\n",
    "    .pivot_table(index=['library', 'num_variants'],\n",
    "                 columns='epistasis_func',\n",
    "                 values='correlation',\n",
    "                 )\n",
    "    )\n",
    "\n",
    "rand_variants_corr.round(2)"
   ]
  },
  {
   "cell_type": "markdown",
   "metadata": {},
   "source": [
    "The correlation coefficients above shows that the predictions are best using the global epistasis model with between 3 and 4 mutations per variant.\n",
    "This point becomes even more clear if we look at the actual correlation scatter plots, which are shown below.\n",
    "(Note that for the plotting we clip predicted enrichments > 2 to 2 to avoid outliers distorting the plot scales):"
   ]
  },
  {
   "cell_type": "code",
   "execution_count": null,
   "metadata": {},
   "outputs": [],
   "source": [
    "p = (ggplot(rand_variants_df.assign(predicted_enrichment=lambda x:\n",
    "                                    scipy.clip(x['predicted_enrichment'], None, 2)),\n",
    "            aes('true_enrichment', 'predicted_enrichment')) +\n",
    "     geom_point(alpha=0.05, size=0.5) +\n",
    "     facet_grid('epistasis_func ~ library', scales='free_y') +\n",
    "     theme(figure_size=(2.5 * rand_variants_df['library'].nunique(),\n",
    "                        2.5 * rand_variants_df['epistasis_func'].nunique(),\n",
    "                        )\n",
    "           )\n",
    "     )\n",
    "\n",
    "_ = p.draw()"
   ]
  },
  {
   "cell_type": "markdown",
   "metadata": {},
   "source": [
    "Perhaps even more salient is to look at the predictions only on the variants that are at least somewhat functional.\n",
    "This is because much of the correlations in the plot above come from the low end of variants with very low enrichments--but those variants are dead so we don't care so much about predicting them.\n",
    "So below we repeat the analysis after first filtering for variants with at least a modestly high enrichment:"
   ]
  },
  {
   "cell_type": "code",
   "execution_count": null,
   "metadata": {},
   "outputs": [],
   "source": [
    "# NBVAL_IGNORE_OUTPUT\n",
    "\n",
    "rand_variants_filtered_df = rand_variants_df.query('true_enrichment > 0.1')\n",
    "\n",
    "rand_variants_filtered_corr = (\n",
    "    rand_variants_filtered_df\n",
    "    .groupby(['library', 'epistasis_func'])\n",
    "    .apply(lambda x: x['predicted_enrichment'].corr(x['true_enrichment']))\n",
    "    .rename('correlation')\n",
    "    .to_frame()\n",
    "    .join(rand_variants_filtered_df\n",
    "           .groupby(['library', 'epistasis_func'])\n",
    "           .size()\n",
    "           .rename('num_variants')\n",
    "           )\n",
    "    .reset_index()\n",
    "    .pivot_table(index=['library', 'num_variants'],\n",
    "                 columns='epistasis_func',\n",
    "                 values='correlation',\n",
    "                 )\n",
    "    )\n",
    "\n",
    "rand_variants_filtered_corr.round(2)"
   ]
  },
  {
   "cell_type": "code",
   "execution_count": null,
   "metadata": {},
   "outputs": [],
   "source": [
    "p = (ggplot(rand_variants_filtered_df.assign(predicted_enrichment=lambda x:\n",
    "                                             scipy.clip(x['predicted_enrichment'], None, 2)),\n",
    "            aes('true_enrichment', 'predicted_enrichment')) +\n",
    "     geom_point(alpha=0.05, size=0.5) +\n",
    "     facet_grid('epistasis_func ~ library', scales='free_y') +\n",
    "     theme(figure_size=(2.5 * rand_variants_df['library'].nunique(),\n",
    "                        2.5 * rand_variants_df['epistasis_func'].nunique(),\n",
    "                        )\n",
    "           )\n",
    "     )\n",
    "\n",
    "_ = p.draw()"
   ]
  },
  {
   "cell_type": "markdown",
   "metadata": {},
   "source": [
    "The table and plot above shows that the superiority of the global epistasis models using libraries with mutation rates between 3 and 4 is even more obvious if we look at the variants filtered for at least some functionality."
   ]
  }
 ],
 "metadata": {
  "kernelspec": {
   "display_name": "Python 3",
   "language": "python",
   "name": "python3"
  },
  "language_info": {
   "codemirror_mode": {
    "name": "ipython",
    "version": 3
   },
   "file_extension": ".py",
   "mimetype": "text/x-python",
   "name": "python",
   "nbconvert_exporter": "python",
   "pygments_lexer": "ipython3",
   "version": "3.6.7"
  },
  "toc": {
   "nav_menu": {},
   "number_sections": false,
   "sideBar": true,
   "skip_h1_title": false,
   "toc_cell": false,
   "toc_position": {
    "height": "844.4px",
    "left": "0px",
    "right": "1281.8px",
    "top": "111.6px",
    "width": "226.2px"
   },
   "toc_section_display": true,
   "toc_window_display": true
  }
 },
 "nbformat": 4,
 "nbformat_minor": 4
}
